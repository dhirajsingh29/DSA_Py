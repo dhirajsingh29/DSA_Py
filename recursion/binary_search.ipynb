{
 "cells": [
  {
   "cell_type": "markdown",
   "metadata": {},
   "source": [
    "Binary Search using recusion"
   ]
  },
  {
   "cell_type": "markdown",
   "metadata": {},
   "source": [
    "![Binary Search Recursion Tree](/assets/images/binary_search_recursion_tree.jpg \"Binary Search Recursion Tree\")"
   ]
  },
  {
   "cell_type": "markdown",
   "metadata": {},
   "source": [
    "Recurrence Relation: [**Divide and conquer recurrence relation**]\n",
    "> $F(n) = O(1) + F(n/2)$  \n",
    "> O(1) for comparision. Comparisiono of mid element with target whether it is equal to, less than or greater than.  \n",
    "> F(n/2) for dividing the search area."
   ]
  },
  {
   "cell_type": "code",
   "execution_count": 3,
   "metadata": {},
   "outputs": [
    {
     "data": {
      "text/plain": [
       "-1"
      ]
     },
     "execution_count": 3,
     "metadata": {},
     "output_type": "execute_result"
    }
   ],
   "source": [
    "from typing import List\n",
    "\n",
    "def BinarySearch(nums: List[int], start: int, end: int, target: int) -> int:\n",
    "\n",
    "    mid = start + (end - start) // 2\n",
    "\n",
    "    # base condition\n",
    "    if start > end:\n",
    "        return -1\n",
    "\n",
    "    if nums[mid] == target:\n",
    "        return mid\n",
    "\n",
    "    if nums[mid] < target:\n",
    "        return BinarySearch(nums, mid + 1, end, target)\n",
    "\n",
    "    return BinarySearch(nums, start, mid - 1, target)\n",
    "\n",
    "nums = [2, 7, 11, 23, 42, 57, 68]\n",
    "\n",
    "# target = 23\n",
    "# target = 11\n",
    "# target = 57\n",
    "target = 18\n",
    "\n",
    "BinarySearch(nums, 0, len(nums) - 1, target)"
   ]
  }
 ],
 "metadata": {
  "kernelspec": {
   "display_name": "Python 3.10.2 64-bit",
   "language": "python",
   "name": "python3"
  },
  "language_info": {
   "codemirror_mode": {
    "name": "ipython",
    "version": 3
   },
   "file_extension": ".py",
   "mimetype": "text/x-python",
   "name": "python",
   "nbconvert_exporter": "python",
   "pygments_lexer": "ipython3",
   "version": "3.10.2"
  },
  "orig_nbformat": 4,
  "vscode": {
   "interpreter": {
    "hash": "86513fceec4b1f5160dbca1db624badbef388ffd18b5ac131aa3ada7f8095061"
   }
  }
 },
 "nbformat": 4,
 "nbformat_minor": 2
}
