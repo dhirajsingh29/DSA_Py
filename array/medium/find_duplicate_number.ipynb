{
 "cells": [
  {
   "cell_type": "markdown",
   "metadata": {},
   "source": [
    "[Leetcode - 287]  \n",
    "Given an array of integers nums containing n + 1 integers where each integer is in the range [1, n] inclusive.  \n",
    "There is only one repeated number in nums, return this repeated number.  \n",
    "You must solve the problem without modifying the array nums and uses only constant extra space.  \n",
    "\n",
    "Example 1:  \n",
    "> Input: nums = [1,3,4,2,2]  \n",
    "> Output: 2  \n",
    "\n",
    "Example 2:  \n",
    "> Input: nums = [3,1,3,4,2]  \n",
    "> Output: 3  \n",
    "\n",
    "Constraints:  \n",
    "> - 1 <= n <= 105\n",
    "> - nums.length == n + 1\n",
    "> - 1 <= nums[i] <= n\n",
    "> - All the integers in nums appear only once except for precisely one integer which appears two or more times.\n"
   ]
  },
  {
   "cell_type": "code",
   "execution_count": 8,
   "metadata": {},
   "outputs": [
    {
     "data": {
      "text/plain": [
       "1"
      ]
     },
     "execution_count": 8,
     "metadata": {},
     "output_type": "execute_result"
    }
   ],
   "source": [
    "# using Cyclic sort\n",
    "\n",
    "from typing import List\n",
    "\n",
    "def findDuplicate(nums: List[int]) -> int:\n",
    "    i = 0\n",
    "\n",
    "    while i < len(nums):\n",
    "        correctIndex = nums[i] - 1\n",
    "\n",
    "        if nums[i] != nums[correctIndex]:\n",
    "            temp = nums[correctIndex]\n",
    "            nums[correctIndex] = nums[i]\n",
    "            nums[i] = temp\n",
    "        else:\n",
    "            i += 1\n",
    "\n",
    "    return nums[len(nums) - 1]\n",
    "\n",
    "# nums = [1,3,4,2,2]\n",
    "# nums = [3,1,3,4,2]\n",
    "# nums = [1,1]\n",
    "nums = [1,1,2]\n",
    "\n",
    "findDuplicate(nums)"
   ]
  },
  {
   "cell_type": "code",
   "execution_count": 12,
   "metadata": {},
   "outputs": [
    {
     "data": {
      "text/plain": [
       "2"
      ]
     },
     "execution_count": 12,
     "metadata": {},
     "output_type": "execute_result"
    }
   ],
   "source": [
    "# using Cyclic sort\n",
    "\n",
    "from typing import List\n",
    "\n",
    "def findDuplicate(nums: List[int]) -> int:\n",
    "    i = 0\n",
    "\n",
    "    while i < len(nums):\n",
    "\n",
    "        if nums[i] != i + 1:\n",
    "            correctIndex = nums[i] - 1\n",
    "\n",
    "            if nums[i] != nums[correctIndex]:\n",
    "                temp = nums[correctIndex]\n",
    "                nums[correctIndex] = nums[i]\n",
    "                nums[i] = temp\n",
    "            else:\n",
    "                return nums[i]\n",
    "        else:\n",
    "            i += 1\n",
    "\n",
    "    return -1\n",
    "\n",
    "nums = [1,3,4,2,2]\n",
    "# nums = [3,1,3,4,2]\n",
    "# nums = [1,1]\n",
    "# nums = [1,1,2]\n",
    "\n",
    "findDuplicate(nums)"
   ]
  },
  {
   "cell_type": "markdown",
   "metadata": {},
   "source": [
    "Below are other solutions presented which doesn't hold the constarints in some way for above mentioned problem.  \n",
    "But, provides good insight into other approaches"
   ]
  },
  {
   "cell_type": "markdown",
   "metadata": {},
   "source": [
    "__Approach 1: Sorting__  \n",
    "\n",
    "__Note:__ This approach modifies individual elements and does not use constant space, and hence does not meet the problem constraints.  \n",
    "\n",
    "**Intuition:** In an unsorted array, duplicate elements may be scattered across the array. However, in a sorted array, duplicate numbers will be next to each other."
   ]
  },
  {
   "cell_type": "code",
   "execution_count": 7,
   "metadata": {},
   "outputs": [
    {
     "data": {
      "text/plain": [
       "2"
      ]
     },
     "execution_count": 7,
     "metadata": {},
     "output_type": "execute_result"
    }
   ],
   "source": [
    "from typing import List\n",
    "\n",
    "def find_duplicate(nums: List[int]) -> int:\n",
    "    nums.sort()\n",
    "\n",
    "    for i in range(1, len(nums)):\n",
    "        if nums[i] == nums[i - 1]:\n",
    "            return nums[i]\n",
    "\n",
    "# nums = [1,3,4,2,2]\n",
    "# nums = [3,1,3,4,2]\n",
    "nums = [2,2,2,2,2]\n",
    "\n",
    "find_duplicate(nums)            "
   ]
  },
  {
   "cell_type": "markdown",
   "metadata": {},
   "source": [
    "__Complexity Analysis__  \n",
    "\n",
    "> Time Complexity: *O(nlogn)*\n",
    "- Sorting takes O(nlogn) time. Linear scan takes O(n)\n",
    "- O(nlogn) + O(n) = O(nlogn)\n",
    "\n",
    "> Space Complexity: *O(logn) or O(n)*\n",
    "- Depends on implementation of different programming language. Python uses Timsort algorithm with worst-case space complexity as O(n)"
   ]
  },
  {
   "cell_type": "markdown",
   "metadata": {},
   "source": [
    "__Approach 2: Set__  \n",
    "\n",
    "__Note:__ This approach modifies individual elements and does not use constant space, and hence does not meet the problem constraints.  \n",
    "\n",
    "**Intution:** As we traverse the array, we need a way to \"remember\" values that we've seen. If we come across a number that we've seen before, we've found the duplicate. An efficient way to record the seen values is by adding each number to a set as we iterate over the numsnumsnums array."
   ]
  },
  {
   "cell_type": "code",
   "execution_count": 9,
   "metadata": {},
   "outputs": [
    {
     "data": {
      "text/plain": [
       "3"
      ]
     },
     "execution_count": 9,
     "metadata": {},
     "output_type": "execute_result"
    }
   ],
   "source": [
    "from typing import List\n",
    "\n",
    "def find_duplicate(nums: List[int]) -> int:\n",
    "    num_set = set()\n",
    "    \n",
    "    for num in nums:\n",
    "        if num in num_set:\n",
    "            return num\n",
    "        num_set.add(num)\n",
    "\n",
    "# nums = [1,3,4,2,2]\n",
    "nums = [3,1,3,4,2]\n",
    "# nums = [2,2,2,2,2]\n",
    "\n",
    "find_duplicate(nums)"
   ]
  },
  {
   "cell_type": "markdown",
   "metadata": {},
   "source": [
    "**Complexity Analysis**  \n",
    "\n",
    "> Time Complexity: *O(n)*\n",
    "- HashSet insertions and lookups have amortized constant time complexities. Hence, this algorithm requires linear time, since it consists of a single for loop that iterates over each element, looking up the element and inserting it into the set at most once.\n",
    "\n",
    "> Space Complexity: *O(n)*\n",
    "- We use a set that may need to store at most nnn elements, leading to a linear space complexity of O(n)."
   ]
  },
  {
   "cell_type": "markdown",
   "metadata": {},
   "source": [
    "**Approach 3: Negative Marking**  \n",
    "\n",
    "**Note:** This approach temporarily modifies individual elements and thus does not satisfy the problem constraints.  \n",
    "\n",
    "**Intuition**  \n",
    "- There are n+1n + 1n+1 positive numbers in the array (nums) (all in the range [1,n]). Since the array only contains positive integers, we can track each number (num) that has been seen before by flipping the sign of the number located at index |num|, where || denotes absolute value.\n",
    "\n",
    "- For example, if the input array is [1,3,3,2], then for 1, flip the number at index 1, making the array [1,−3,3,2]. Next, for −3 flip the number at index 3, making the array [1,−3,3,−2]. Finally, when we reach the second 3, we'll notice that nums[3] is already negative, indicating that 3 has been seen before and hence is the duplicate number."
   ]
  },
  {
   "cell_type": "code",
   "execution_count": 10,
   "metadata": {},
   "outputs": [
    {
     "data": {
      "text/plain": [
       "3"
      ]
     },
     "execution_count": 10,
     "metadata": {},
     "output_type": "execute_result"
    }
   ],
   "source": [
    "from typing import List\n",
    "\n",
    "def find_duplicate(nums: List[int]) -> int:\n",
    "    for num in nums:\n",
    "        cur = abs(num)\n",
    "        if nums[cur] < 0:\n",
    "            duplicate = cur\n",
    "            break\n",
    "        nums[cur] = -nums[cur]\n",
    "\n",
    "    # only to revert back the array to its original state\n",
    "    for i in range(len(nums)):\n",
    "        nums[i] = abs(nums[i])\n",
    "\n",
    "    return duplicate\n",
    "\n",
    "\n",
    "# nums = [1,3,4,2,2]\n",
    "nums = [3,1,3,4,2]\n",
    "# nums = [2,2,2,2,2]\n",
    "\n",
    "find_duplicate(nums)"
   ]
  },
  {
   "cell_type": "markdown",
   "metadata": {},
   "source": [
    "**Complexity Analyis**  \n",
    "\n",
    "> Time Complexity: *O(n)*\n",
    "- Each element is visited at most twice (once in the first loop to find the duplicate and once in the second loop to restore the numbers).  \n",
    "\n",
    "> Space Complexity: *O(1)*\n",
    "- All manipulation is done in place, so no additional storage (barring one variable) is needed."
   ]
  },
  {
   "cell_type": "markdown",
   "metadata": {},
   "source": [
    "**Approach 4.1: Array as HashMap (Recursive)**  \n",
    "\n",
    "**Note:** This approach modify individual elements, and hence do not meet the problem constraints.  \n",
    "\n",
    "**Intuition**  \n",
    "Use the Array as a HashMap -- map each number to its equivalent index in the array. For instance, map (and store) the number 5 to index 5 (i.e. nums[5] = 5). Since there are (n + 1) positions/indexes in the input array, and the numbers range from 1 to n, at least one index will have more than one number (due to the pigeonhole principle).\n",
    "\n",
    "Since all numbers are in the range [1,n], no number will be mapped to index 0. So let's start with the number at index 0 since it must be out of place. Say that the number at index 0 is *first*. Then *first* needs to be stored at nums[*first*]. But there's some other number at nums[*first*] that needs to be stored at its respective location (and so on).\n",
    "\n",
    "If nums[*first*] is the same as *first*, then we have found a duplicate. Otherwise, let's swap the numbers located at index 0 and at index *first*, and repeat this process with the new number at index 0.\n",
    "\n",
    "As we repeatedly apply this mapping, the duplicate number will, on its first instance, be mapped/stored correctly at its equivalent index, and then on its second occurrence, we will attempt to store it there again. When a number already exists at its correct index, and we attempt to store another instance of the same number there again, then we know that's the duplicate."
   ]
  },
  {
   "cell_type": "code",
   "execution_count": 2,
   "metadata": {},
   "outputs": [
    {
     "data": {
      "text/plain": [
       "2"
      ]
     },
     "execution_count": 2,
     "metadata": {},
     "output_type": "execute_result"
    }
   ],
   "source": [
    "from typing import List\n",
    "\n",
    "def find_duplicate(nums: List[int]) -> int:\n",
    "    \n",
    "    def store(nums: List[int], cur: int) -> int:\n",
    "        if cur == nums[cur]:\n",
    "            return cur\n",
    "        \n",
    "        nxt = nums[cur]\n",
    "        nums[cur] = cur\n",
    "        return store(nums, nxt)\n",
    "\n",
    "    return store(nums, 0)\n",
    "\n",
    "nums = [1,3,4,2,2]\n",
    "# nums = [3,1,3,4,2]\n",
    "# nums = [2,2,2,2,2]\n",
    "\n",
    "find_duplicate(nums)"
   ]
  },
  {
   "cell_type": "markdown",
   "metadata": {},
   "source": [
    "**Complexity Analysis**  \n",
    "> Time Complexity: *O(n)*\n",
    "- The function (*store*) makes a single recursive call at every instance. Each index is visited at most once, resulting in O(n) time complexity.  \n",
    "\n",
    "> Space Complexity: *O(n)*\n",
    "- Since this is a recursive function with up to n self-invocations (i.e. depth of the recursive function = n), the space complexity is    O(n) as there can be up to n function calls in memory at some point."
   ]
  },
  {
   "cell_type": "markdown",
   "metadata": {},
   "source": [
    "**Approach 4.2: Array as HashMap (Iterative)**  \n",
    "\n",
    "**Note:** This approach modify individual elements, and hence do not meet the problem constraints.  \n",
    "\n",
    "**Intuition**  \n",
    "The core intuition behind this approach is similar to that of Approach 4.1. Here as well, we start with index 0. Since all numbers are in the range [1,n], they will be mapped to indices 1 through n inclusive, and hence no number will be mapped to index 0.  \n",
    "\n",
    "The key idea is to always map the number at index 0 to its equivalent index. While in the recursive approach, we directly jump to the next index, in this approach, we will bring the number from the next index to index 0 and continue from there (effectively performing a swap)."
   ]
  },
  {
   "cell_type": "code",
   "execution_count": 5,
   "metadata": {},
   "outputs": [
    {
     "data": {
      "text/plain": [
       "3"
      ]
     },
     "execution_count": 5,
     "metadata": {},
     "output_type": "execute_result"
    }
   ],
   "source": [
    "from typing import List\n",
    "\n",
    "def find_duplicate(nums: List[int]) -> int:\n",
    "    while nums[0] != nums[nums[0]]:\n",
    "        nums[nums[0]], nums[0] = nums[0], nums[nums[0]]\n",
    "\n",
    "    return nums[0]\n",
    "\n",
    "# nums = [1,3,4,2,2]\n",
    "nums = [3,1,3,4,2]\n",
    "# nums = [2,2,2,2,2]\n",
    "\n",
    "find_duplicate(nums)"
   ]
  },
  {
   "cell_type": "markdown",
   "metadata": {},
   "source": [
    "**Complexity Analysis**  \n",
    "> Time Complexity: *O(n)*\n",
    "- Each number needs to be swapped at most once before it is placed in its desired position.  \n",
    "\n",
    "> Space Complexity: *O(1)*\n",
    "- No additional storage is needed (barring the temporary variables used for swapping)."
   ]
  },
  {
   "cell_type": "markdown",
   "metadata": {},
   "source": [
    "**Approach 5: Binary Search**  \n",
    "\n",
    "**Intuition**  \n",
    "Consider an array that has n distinct numbers in the range [1,n]. For example: [1,2,3,4,5]. If we pick any one of these 5 numbers and count how many numbers are less than or equal to it, the answer will be equal to that number. So in [1,2,3,4,5], if you pick the number 4, there's exactly 4 numbers that are less than or equal to 4. If you pick 3, there's exactly 3 numbers that are less than or equal to 3, and so on. However, when you have duplicates in the array, this count will exceed the number at some point. For example: in [4,3,4,5,2,4,1], 3 has 3 numbers less than or equal to it. However, the duplicate number will have a count of numbers less than or equal to itself, that is greater than itself (in this example, 4, which is the duplicate, has 6 numbers that are less than or equal to it). Hence, the smallest number that satisfies this property is the duplicate number.\n",
    "\n",
    "Consider an example: [4,6,4,2,1,4,3,5]. This has n+1 elements where n = 7. Take each number from 1 to 7 and count how many numbers are less than or equal to it. In our example, count(1,2,3,4,5,6,7) = (1,2,3,6,7,8,8). If we performed a linear scan, we would find that the number 4 is the first number to have its counts exceed the actual number (i.e. 6 > 4) - hence 4 is the duplicate. A linear scan based approach would require an overall O($n^2)$ time complexity in the worst case, since we'd need to iterate over each of the n numbers (requiring O(n) time), and then compare it to every element to generate a count of equal or lower numbers (requiring O(n) time as well - nested inside the other O(n) loop). Fortunately, count is monotonic (it's values are always in non-decreasing order), and hence it is an excellent candidate for binary search.\n",
    "\n",
    "In the binary search approach, instead of doing a linear scan from 1 to n, we can apply a binary search with a goal of finding the smallest number that satisfies the aforementioned property. We start with a search space of [1,n] that has a midpoint mid. If mid satisfies the property, we narrow our search space to the left half [1,mid−1] and continue searching, otherwise, we narrow our search space to the right half [mid+1,n].\n",
    "\n",
    "`To observe the monotonicity of count, consider the evaluation: \"For the given number, the count of numbers less than or equal to it, exceeds the number itself\". Going back to our example, we had derived: count(1,2,3,4,5,6,7) = (1,2,3,6,7,8,8). If we now take the first number and apply said evaluation, we get false (since count(1) == 1, which is not greater than 1). Applying this evaluation to all counts, we get (false,false,false,true,true,true,true). Observe how this remains false in the beginning, and switches to true for the number 4 (i.e. the duplicate), after which point it remains true for all further numbers. Formally, the count for each number must include itself plus the count of all numbers less than itself. Since a number cannot have a negative count, each number, N, must have a count greater than or equal to the count of N-1. Since count(N)>=count(N−1), count must be monotonically increasing.`"
   ]
  },
  {
   "cell_type": "code",
   "execution_count": 8,
   "metadata": {},
   "outputs": [
    {
     "data": {
      "text/plain": [
       "2"
      ]
     },
     "execution_count": 8,
     "metadata": {},
     "output_type": "execute_result"
    }
   ],
   "source": [
    "from typing import List\n",
    "\n",
    "def find_duplicate(nums: List[int]) -> int:\n",
    "     # 'low' and 'high' represent the range of values of the target\n",
    "    low = 1\n",
    "    high = len(nums) - 1\n",
    "    \n",
    "    while low <= high:\n",
    "        cur = (low + high) // 2\n",
    "        count = 0\n",
    "        \n",
    "        # Count how many numbers are less than or equal to 'cur'\n",
    "        count = sum(num <= cur for num in nums)\n",
    "        if count > cur:\n",
    "            duplicate = cur\n",
    "            high = cur - 1\n",
    "        else:\n",
    "            low = cur + 1\n",
    "            \n",
    "    return duplicate\n",
    "\n",
    "nums = [1,3,4,2,2]\n",
    "# nums = [3,1,3,4,2]\n",
    "# nums = [2,2,2,2,2]\n",
    "\n",
    "find_duplicate(nums)"
   ]
  },
  {
   "cell_type": "markdown",
   "metadata": {},
   "source": [
    "**Complexity Analysis**  \n",
    "\n",
    "> Time Complexity: *O(nlogn)*\n",
    "- The outer loop uses binary search to identify a candidate - this runs in O(log⁡n) time. For each candidate, we iterate over the entire array which takes O(n) time, resulting in a total of O(nlog⁡n) time.  \n",
    "\n",
    "> Space Complexity: *O(1)*\n",
    "- No additional storage is needed (barring a few variables), resulting in a constant O(1) space complexity."
   ]
  },
  {
   "cell_type": "markdown",
   "metadata": {},
   "source": [
    "**Approach 6: Sum of Set Bits**\n",
    "\n",
    "**Intuition**  \n",
    "Consider an example [3,1,3,2,4]. This has n+1 elements where n = 4. If we did not have the duplicate, and instead had every number from 1 through 4, this base array would have been [1,2,3,4]. Let's look at each of these numbers in binary and count the number of times 1 is seen at each bit position (let's call that base_count). Since the largest number is 4 ($100_2$​ in binary notation), we need to count this for the 3 least significant bits:  \n",
    "\n",
    "- Initially, base_count = [0,0,0]\n",
    "- After 1 (in binary, $001_2$), base_count = [0,0,1]\n",
    "- After 2 (in binary, $010_2$), base_count = [0,1,1]\n",
    "- After 3 (in binary, $011_2$), base_count = [0,2,2]\n",
    "- After 4 (in binary, $100_2$), base_count = [1,2,2]\n",
    "\n",
    "Now that we have the base count established, let's go through the example array [3,1,3,2,4] and calculate the same (sum of 1's set across all bit positions) in this array. Let's call it nums_count:  \n",
    "- Initially, nums_count = [0,0,0]\n",
    "- After 3 (in binary, $011_2$​), nums_count = [0,1,1]\n",
    "- After 1 (in binary, $001_2$​), nums_count = [0,1,2]\n",
    "- After 3 (in binary, $011_2$​), nums_count = [0,2,3]\n",
    "- After 2 (in binary, $010_2$​), nums_count = [0,3,3]\n",
    "- After 4 (in binary, $100_2$​), nums_count = [1,3,3]\n",
    "\n",
    "Comparing nums_count to base_count, we see that the bit count difference is [1,3,3] - [1,2,2] = [0,1,1]. This is the equivalent of the number 3, which is the duplicate. By iterating over each bit, and comparing the base to the current, we were able to construct the duplicate number bit by bit.\n",
    "\n",
    "So how does this work if the duplicate number appears more than twice? In that case, think of it as simply replacing the missing numbers with the duplicate number, effectively reducing the count of 1's corresponding to the missing numbers and adding 1's associated with the duplicate number - so the algorithm remains intact, since the count of 1's will be even more pronounced in favor of the duplicate number.\n",
    "\n",
    "To illustrate this, consider the same array but with the duplicate occurring more than twice: [3,1,3,3,3] (we've replaced both 2 and 4 with 3). base_count will remain [1,2,2] because n still equals 4. However, nums_count becomes [0,4,5]. Comparing nums_count to base_count, we see that the bit count difference is [0,4,5] - [1,2,2] = [−1,2,3]. If we consider just the positive counts (seen at positions 0 and 1), this, again is the equivalent of the number 3, which is the duplicate number.\n",
    "\n",
    "A good question to ask here is \"Why does only including the bits with a positive count result in the duplicate number?\" To understand this, let's take a step back and reconsider the example array [3,1,3,2,4]. However, for this example ignore the binary representation of each number. Pretend base_count is an array where base_count[num] contains the frequency of number num. So for the range [1,4], base_count is [1,1,1,1] and nums_count is the count of each number ([1,1,2,1]). Then the difference is [1,1,2,1]−[1,1,1,1]=[0,0,1,0]. The third index is the only index to have a positive count and thus 3 is the duplicate number.\n",
    "\n",
    "To meet the constant space requirement, we will consider one bit at a time and count how many times that bit is set in the numbers [1, 2, ..., n], this will be (base_count) for the bit. Then we will count how many times the bit is set in nums, this will be (nums_count) for the bit. If nums_count−base_count>0 then this bit must be set in the duplicate number.\n",
    "\n",
    "`A key observation is that if the array had nnn elements instead of n+1 (where each element is in the range [1,n]),this solution would not work. For example, if the input array was [1,3,3], then base_count = [2,2] and nums_count = [2,3], resulting in a difference of [0,1] and hence 1 as the reconstructed number, which is incorrect. The n+1 number ensures that number from 1 to n appear exactly once and plus one extra number.`\n",
    "\n",
    "> Note on bit manipulation\n",
    "- (1<<m) accesses the $m^th$ bit. For example, $1 = 0001_2$ and (1<<3) = 8 = $1000_2$ notice 1 was bit shifted to the left 3 places in the binary representation.\n",
    "- To check if the $m^{th}$ bit is set to 1 in a number num, we can use if(((1 << m) & num) > 0). For example, (1 << 2) & 12 = 4 & 12 = $0100_{2}$​ & $1100_{2}$ = $0100_{2}$ = 4 which is nonzero, this tells us that the $3^{rd}$ bit from the right in the number 12 is set to 1. Notice only bits that were set in both 4 and 12 remain after performing the bitwise AND operation.\n"
   ]
  },
  {
   "cell_type": "code",
   "execution_count": 10,
   "metadata": {},
   "outputs": [
    {
     "data": {
      "text/plain": [
       "3"
      ]
     },
     "execution_count": 10,
     "metadata": {},
     "output_type": "execute_result"
    }
   ],
   "source": [
    "from typing import List\n",
    "\n",
    "def find_duplicate(nums: List[int]) -> int:\n",
    "    duplicate = 0\n",
    "    n = len(nums) - 1\n",
    "    bits = n.bit_length()\n",
    "    for bit in range(bits):\n",
    "        mask = 1 << bit\n",
    "        base_count = 0\n",
    "        nums_count = 0\n",
    "        for i in range(n + 1):\n",
    "            # If bit is set in number (i) then add 1 to base_count\n",
    "            if i & mask:\n",
    "                base_count += 1\n",
    "                \n",
    "            # If bit is set in nums[i] then add 1 to nums_count\n",
    "            if nums[i] & mask:\n",
    "                nums_count += 1\n",
    "                \n",
    "        # If the current bit is more frequently set in nums than it is in \n",
    "        # the range [1, 2, ..., n] then it must also be set in the duplicate number.\n",
    "        if nums_count - base_count > 0:\n",
    "            duplicate |= mask\n",
    "            \n",
    "    return duplicate\n",
    "\n",
    "# nums = [1,3,4,2,2]\n",
    "nums = [3,1,3,4,2]\n",
    "# nums = [2,2,2,2,2]\n",
    "\n",
    "find_duplicate(nums)"
   ]
  },
  {
   "cell_type": "markdown",
   "metadata": {},
   "source": [
    "**Complexity Analysis**\n",
    "\n",
    "Let nnn be the length of numsnumsnums and mmm be the bit-length of nnn.\n",
    "\n",
    "> Time Complexity: *O(nlogn)*\n",
    "- The outer loop runs a maximum of mmm times (once for each bit in nnn). The inner loop goes over all n elements in nums, resulting in a  total time complexity of O(m⋅n).\n",
    "- It is a common misconception to treat mmm as a constant because it is small and thus consider this to be a linear time complexity algorithm. Setting the problem constraints aside, the value of m depends on nnn. More specifically, m is the bit-length of n which is approximately equal to $log_2(n)$. Thus this algorithm has linearithmic time complexity.\n",
    "\n",
    "> Space Complexity: *O(1)*\n",
    "- No additional storage is needed (barring a few variables), resulting in a constant O(1) space complexity."
   ]
  },
  {
   "cell_type": "markdown",
   "metadata": {},
   "source": [
    "**Approach 7: Floyd's Tortoise and Hare (Cycle Detection)**\n",
    "\n",
    "**Intuition**  \n",
    "The idea is to reduce the problem to Linked List Cycle II: Given a linked list, return the node where the cycle begins.\n",
    "\n",
    "First of all, where does the cycle come from? Let's use the function f(x) = nums[x] to construct the sequence: x, nums[x], nums[nums[x]], nums[nums[nums[x]]], ....\n",
    "\n",
    "Each new element in the sequence is an element in nums at the index of the previous element.\n",
    "\n",
    "If one starts from x = nums[0], such a sequence will produce a linked list with a cycle.\n",
    "\n",
    "- The cycle appears because nums contains duplicates. The duplicate node is a cycle entrance.\n",
    "\n",
    "> Floyd's algorithm consists of two phases and uses two pointers, usually called tortoise and hare.\n",
    "\n",
    "- In phase 1, hare = nums[nums[hare]] is twice as fast as tortoise = nums[tortoise]. Since the hare goes fast, it would be the first to enter the cycle and run around the cycle. At some point, the tortoise enters the cycle as well, and since it's moving slower the hare catches up to the tortoise at some intersection point. Now phase 1 is over, and the tortoise has lost.\n",
    "\n",
    "- In phase 2, we give the tortoise a second chance by slowing down the hare, so that it now moves at the speed of tortoise: tortoise = nums[tortoise], hare = nums[hare]. The tortoise is back at the starting position, and the hare starts from the intersection point."
   ]
  },
  {
   "cell_type": "code",
   "execution_count": 12,
   "metadata": {},
   "outputs": [
    {
     "data": {
      "text/plain": [
       "2"
      ]
     },
     "execution_count": 12,
     "metadata": {},
     "output_type": "execute_result"
    }
   ],
   "source": [
    "from typing import List\n",
    "\n",
    "def find_duplicate(nums: List[int]) -> int:\n",
    "    # Find the intersection point of the two runners.\n",
    "    tortoise = hare = nums[0]\n",
    "    while True:\n",
    "        tortoise = nums[tortoise]\n",
    "        hare = nums[nums[hare]]\n",
    "        if tortoise == hare:\n",
    "            break\n",
    "    \n",
    "    # Find the \"entrance\" to the cycle.\n",
    "    tortoise = nums[0]\n",
    "    while tortoise != hare:\n",
    "        tortoise = nums[tortoise]\n",
    "        hare = nums[hare]\n",
    "    \n",
    "    return hare\n",
    "\n",
    "# nums = [1,3,4,2,2]\n",
    "# nums = [3,1,3,4,2]\n",
    "nums = [2,2,2,2,2]\n",
    "\n",
    "find_duplicate(nums)"
   ]
  },
  {
   "cell_type": "markdown",
   "metadata": {},
   "source": [
    "**Complexity Analysis**\n",
    "\n",
    "> Time Complexity: *O(n)*\n",
    "\n",
    "> Space Complexity: *O(1)*"
   ]
  }
 ],
 "metadata": {
  "kernelspec": {
   "display_name": "Python 3.10.2 64-bit",
   "language": "python",
   "name": "python3"
  },
  "language_info": {
   "codemirror_mode": {
    "name": "ipython",
    "version": 3
   },
   "file_extension": ".py",
   "mimetype": "text/x-python",
   "name": "python",
   "nbconvert_exporter": "python",
   "pygments_lexer": "ipython3",
   "version": "3.10.2"
  },
  "orig_nbformat": 4,
  "vscode": {
   "interpreter": {
    "hash": "86513fceec4b1f5160dbca1db624badbef388ffd18b5ac131aa3ada7f8095061"
   }
  }
 },
 "nbformat": 4,
 "nbformat_minor": 2
}
