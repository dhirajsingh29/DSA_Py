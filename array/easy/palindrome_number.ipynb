{
 "cells": [
  {
   "cell_type": "markdown",
   "metadata": {},
   "source": [
    "[Leetcode - 9]  \n",
    "Given an integer x, return true if x is palindrome integer.  \n",
    "An integer is a palindrome when it reads the same backward as forward.  \n",
    "\n",
    "Example 1:  \n",
    "> Input: x = 121  \n",
    "> Output: true  \n",
    "> Explanation: 121 reads as 121 from left to right and from right to left.  \n",
    "\n",
    "Example 2:  \n",
    "> Input: x = -121  \n",
    "> Output: false  \n",
    "> Explanation: From left to right, it reads -121. From right to left, it becomes 121-. Therefore it is not a palindrome.  \n",
    "\n",
    "Example 3:  \n",
    "> Input: x = 10  \n",
    "> Output: false  \n",
    "> Explanation: Reads 01 from right to left. Therefore it is not a palindrome."
   ]
  },
  {
   "cell_type": "code",
   "execution_count": 6,
   "metadata": {},
   "outputs": [
    {
     "data": {
      "text/plain": [
       "False"
      ]
     },
     "execution_count": 6,
     "metadata": {},
     "output_type": "execute_result"
    }
   ],
   "source": [
    "def is_palindrome(x: int) -> bool:\n",
    "    if x < 0:\n",
    "        return False\n",
    "\n",
    "    temp = x\n",
    "    reverse_x = 0\n",
    "\n",
    "    while temp != 0:\n",
    "        reverse_x = (reverse_x * 10) + (temp % 10)\n",
    "        temp //= 10\n",
    "\n",
    "    if x == reverse_x:\n",
    "        return True\n",
    "\n",
    "    return False\n",
    "\n",
    "x = 121\n",
    "# x = 123\n",
    "is_palindrome(x) "
   ]
  }
 ],
 "metadata": {
  "kernelspec": {
   "display_name": "Python 3.10.2 64-bit",
   "language": "python",
   "name": "python3"
  },
  "language_info": {
   "codemirror_mode": {
    "name": "ipython",
    "version": 3
   },
   "file_extension": ".py",
   "mimetype": "text/x-python",
   "name": "python",
   "nbconvert_exporter": "python",
   "pygments_lexer": "ipython3",
   "version": "3.10.2"
  },
  "orig_nbformat": 4,
  "vscode": {
   "interpreter": {
    "hash": "86513fceec4b1f5160dbca1db624badbef388ffd18b5ac131aa3ada7f8095061"
   }
  }
 },
 "nbformat": 4,
 "nbformat_minor": 2
}
