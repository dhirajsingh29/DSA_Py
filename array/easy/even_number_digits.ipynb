{
 "cells": [
  {
   "cell_type": "code",
   "execution_count": 4,
   "metadata": {},
   "outputs": [],
   "source": [
    "import math\n",
    "from typing import List"
   ]
  },
  {
   "cell_type": "markdown",
   "metadata": {},
   "source": [
    "[Leetcode - 1295]  \n",
    "Given an array nums of integers, return how many of them contain an even number of digits."
   ]
  },
  {
   "cell_type": "code",
   "execution_count": 9,
   "metadata": {},
   "outputs": [
    {
     "data": {
      "text/plain": [
       "3"
      ]
     },
     "execution_count": 9,
     "metadata": {},
     "output_type": "execute_result"
    }
   ],
   "source": [
    "def find_numbers(nums: List[int]) -> int:\n",
    "    count = 0\n",
    "    for num in nums:\n",
    "        if even_number_digits(num):\n",
    "            count += 1\n",
    "\n",
    "    return count\n",
    "\n",
    "def even_number_digits(num: int) -> bool:\n",
    "    digit_count = number_of_digits_better(num)\n",
    "\n",
    "    return digit_count % 2 == 0\n",
    "\n",
    "\n",
    "def number_of_digits(num: int) -> int:\n",
    "    if num < 0:\n",
    "        num *= -1\n",
    "\n",
    "    if num == 0:\n",
    "        return 1\n",
    "\n",
    "    count = 0\n",
    "    while num > 0:\n",
    "        count += 1\n",
    "        num //= 10\n",
    "\n",
    "    return count\n",
    "\n",
    "def number_of_digits_better(num: int) -> int:\n",
    "    if num < 0:\n",
    "        num *= -1\n",
    "\n",
    "    return int(math.log10(num)) + 1\n",
    "\n",
    "nums = [12, 9, 465, 7893, 1, 45]\n",
    "# nums = [555,901,482,1771]\n",
    "\n",
    "find_numbers(nums)"
   ]
  }
 ],
 "metadata": {
  "kernelspec": {
   "display_name": "Python 3.10.2 64-bit",
   "language": "python",
   "name": "python3"
  },
  "language_info": {
   "codemirror_mode": {
    "name": "ipython",
    "version": 3
   },
   "file_extension": ".py",
   "mimetype": "text/x-python",
   "name": "python",
   "nbconvert_exporter": "python",
   "pygments_lexer": "ipython3",
   "version": "3.10.2"
  },
  "orig_nbformat": 4,
  "vscode": {
   "interpreter": {
    "hash": "86513fceec4b1f5160dbca1db624badbef388ffd18b5ac131aa3ada7f8095061"
   }
  }
 },
 "nbformat": 4,
 "nbformat_minor": 2
}
