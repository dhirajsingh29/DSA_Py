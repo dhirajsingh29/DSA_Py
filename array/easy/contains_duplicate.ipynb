{
 "cells": [
  {
   "cell_type": "code",
   "execution_count": 2,
   "metadata": {},
   "outputs": [],
   "source": [
    "from typing import List"
   ]
  },
  {
   "cell_type": "markdown",
   "metadata": {},
   "source": [
    "[Leetcode - 217]  \n",
    "Given an integer array nums, return true if any value appears at least twice in the array, \n",
    "and return false if every element is distinct"
   ]
  },
  {
   "cell_type": "code",
   "execution_count": 7,
   "metadata": {},
   "outputs": [
    {
     "data": {
      "text/plain": [
       "False"
      ]
     },
     "execution_count": 7,
     "metadata": {},
     "output_type": "execute_result"
    }
   ],
   "source": [
    "def contains_duplicate(nums: List[int]) -> bool:\n",
    "\n",
    "    arr = []\n",
    "    for num in nums:\n",
    "        if num in arr:\n",
    "            return True\n",
    "        else:\n",
    "            arr.append(num)\n",
    "    \n",
    "    return False\n",
    "\n",
    "nums = [1, 2, 3, 4]\n",
    "contains_duplicate(nums)"
   ]
  },
  {
   "cell_type": "code",
   "execution_count": 16,
   "metadata": {},
   "outputs": [
    {
     "data": {
      "text/plain": [
       "False"
      ]
     },
     "execution_count": 16,
     "metadata": {},
     "output_type": "execute_result"
    }
   ],
   "source": [
    "def contains_duplicate(nums: List[int]) -> bool:\n",
    "    nums.sort()\n",
    "    i = 0\n",
    "\n",
    "    for j in range(1, len(nums)):\n",
    "        if nums[i] == nums[j]:\n",
    "            return True\n",
    "        i += 1\n",
    "\n",
    "    return False \n",
    "\n",
    "nums = [1, 2, 3, 4]\n",
    "contains_duplicate(nums)"
   ]
  },
  {
   "cell_type": "code",
   "execution_count": 6,
   "metadata": {},
   "outputs": [
    {
     "data": {
      "text/plain": [
       "False"
      ]
     },
     "execution_count": 6,
     "metadata": {},
     "output_type": "execute_result"
    }
   ],
   "source": [
    "def contains_duplicate(nums: List[int]) -> bool:\n",
    "    return len(nums) != len(set(nums))\n",
    "\n",
    "nums = [1, 2, 3, 4]\n",
    "contains_duplicate(nums)"
   ]
  }
 ],
 "metadata": {
  "kernelspec": {
   "display_name": "Python 3.10.2 64-bit",
   "language": "python",
   "name": "python3"
  },
  "language_info": {
   "codemirror_mode": {
    "name": "ipython",
    "version": 3
   },
   "file_extension": ".py",
   "mimetype": "text/x-python",
   "name": "python",
   "nbconvert_exporter": "python",
   "pygments_lexer": "ipython3",
   "version": "3.10.2"
  },
  "orig_nbformat": 4,
  "vscode": {
   "interpreter": {
    "hash": "86513fceec4b1f5160dbca1db624badbef388ffd18b5ac131aa3ada7f8095061"
   }
  }
 },
 "nbformat": 4,
 "nbformat_minor": 2
}
