{
 "cells": [
  {
   "cell_type": "code",
   "execution_count": 1,
   "metadata": {},
   "outputs": [],
   "source": [
    "from typing import List"
   ]
  },
  {
   "cell_type": "markdown",
   "metadata": {},
   "source": [
    "[Leetcode - 1512]  \n",
    "Given an array of integers nums, return the number of good pairs.\n",
    "A pair (i, j) is called good if nums[i] == nums[j] and i < j.\n",
    "\n",
    "Example 1:\n",
    "> Input: nums = [1,2,3,1,1,3]  \n",
    "> Output: 4  \n",
    "> Explanation: There are 4 good pairs (0,3), (0,4), (3,4), (2,5) 0-indexed.\n",
    "\n",
    "Example 2:\n",
    "> Input: nums = [1,2,3]  \n",
    "> Output: 0"
   ]
  },
  {
   "cell_type": "code",
   "execution_count": 7,
   "metadata": {},
   "outputs": [
    {
     "data": {
      "text/plain": [
       "4"
      ]
     },
     "execution_count": 7,
     "metadata": {},
     "output_type": "execute_result"
    }
   ],
   "source": [
    "def good_pair_count(nums: List[int]) -> int:\n",
    "    count = 0\n",
    "\n",
    "    for i in range(len(nums) - 1):\n",
    "        for j in range(i + 1, len(nums)):\n",
    "            if nums[i] == nums[j]:\n",
    "                count += 1\n",
    "\n",
    "    return count\n",
    "\n",
    "nums = [1, 2, 3, 1, 1, 3]\n",
    "# nums = [1, 2, 3]\n",
    "good_pair_count(nums)"
   ]
  },
  {
   "cell_type": "code",
   "execution_count": 14,
   "metadata": {},
   "outputs": [
    {
     "data": {
      "text/plain": [
       "4"
      ]
     },
     "execution_count": 14,
     "metadata": {},
     "output_type": "execute_result"
    }
   ],
   "source": [
    "def good_pair_count(nums: List[int]) -> int:\n",
    "    count = 0\n",
    "    frequency = 0\n",
    "    frequencyDict = {}\n",
    "\n",
    "    for num in nums:\n",
    "        if num not in frequencyDict:\n",
    "            frequencyDict[num] = 1\n",
    "        else:\n",
    "            frequency = frequencyDict[num]\n",
    "            count += frequency\n",
    "            frequencyDict[num] = frequency + 1\n",
    "    \n",
    "    return count\n",
    "\n",
    "nums = [1, 2, 3, 1, 1, 3]\n",
    "# nums = [1, 2, 3]\n",
    "good_pair_count(nums)"
   ]
  }
 ],
 "metadata": {
  "kernelspec": {
   "display_name": "Python 3.10.2 64-bit",
   "language": "python",
   "name": "python3"
  },
  "language_info": {
   "codemirror_mode": {
    "name": "ipython",
    "version": 3
   },
   "file_extension": ".py",
   "mimetype": "text/x-python",
   "name": "python",
   "nbconvert_exporter": "python",
   "pygments_lexer": "ipython3",
   "version": "3.10.2"
  },
  "orig_nbformat": 4,
  "vscode": {
   "interpreter": {
    "hash": "86513fceec4b1f5160dbca1db624badbef388ffd18b5ac131aa3ada7f8095061"
   }
  }
 },
 "nbformat": 4,
 "nbformat_minor": 2
}
