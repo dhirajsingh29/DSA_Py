{
 "cells": [
  {
   "cell_type": "markdown",
   "metadata": {},
   "source": [
    "[Leetcode - 268]  \n",
    "Given an array nums containing n distinct numbers in the range [0, n], return the only number in the range that is missing from the array.\n",
    "\n",
    "Example 1:\n",
    "> Input: nums = [3,0,1]  \n",
    "> Output: 2  \n",
    "> Explanation: n = 3 since there are 3 numbers, so all numbers are in the range [0,3]. 2 is the missing number in the range since it does not appear in nums.\n",
    "\n",
    "Example 2:\n",
    "> Input: nums = [0,1]  \n",
    "> Output: 2  \n",
    "> Explanation: n = 2 since there are 2 numbers, so all numbers are in the range [0,2]. 2 is the missing number in the range since it does not appear in nums.\n",
    "\n",
    "Example 3:\n",
    "> Input: nums = [9,6,4,2,3,5,7,0,1]  \n",
    "> Output: 8  \n",
    "> Explanation: n = 9 since there are 9 numbers, so all numbers are in the range [0,9]. 8 is the missing number in the range since it does not appear in nums.\n",
    "\n",
    "Constraints:\n",
    "> - n == nums.length\n",
    "> - 1 <= n <= 104\n",
    "> - 0 <= nums[i] <= n\n",
    "> - All the numbers of nums are unique.\n"
   ]
  },
  {
   "cell_type": "code",
   "execution_count": 3,
   "metadata": {},
   "outputs": [
    {
     "data": {
      "text/plain": [
       "8"
      ]
     },
     "execution_count": 3,
     "metadata": {},
     "output_type": "execute_result"
    }
   ],
   "source": [
    "from typing import List\n",
    "\n",
    "def missing_number(nums: List[int]) -> int:\n",
    "\n",
    "    total_sum = 0\n",
    "    array_sum = 0\n",
    "\n",
    "    for i in range(1, len(nums) + 1):\n",
    "        total_sum += i\n",
    "\n",
    "    for num in nums:\n",
    "        array_sum += num\n",
    "\n",
    "    return total_sum - array_sum\n",
    "\n",
    "# nums = [3,0,1]\n",
    "# nums = [0,1]\n",
    "nums = [9,6,4,2,3,5,7,0,1]\n",
    "\n",
    "missing_number(nums)"
   ]
  },
  {
   "cell_type": "code",
   "execution_count": 9,
   "metadata": {},
   "outputs": [
    {
     "data": {
      "text/plain": [
       "8"
      ]
     },
     "execution_count": 9,
     "metadata": {},
     "output_type": "execute_result"
    }
   ],
   "source": [
    "from typing import List\n",
    "\n",
    "def missing_number(nums: List[int]) -> int:\n",
    "\n",
    "    n = len(nums)\n",
    "    total_sum = (n * (n + 1)) // 2\n",
    "    array_sum = sum(nums)\n",
    "\n",
    "    return total_sum - array_sum\n",
    "\n",
    "# nums = [3,0,1]\n",
    "# nums = [0,1]\n",
    "nums = [9,6,4,2,3,5,7,0,1]\n",
    "\n",
    "missing_number(nums)"
   ]
  },
  {
   "cell_type": "code",
   "execution_count": 6,
   "metadata": {},
   "outputs": [
    {
     "data": {
      "text/plain": [
       "8"
      ]
     },
     "execution_count": 6,
     "metadata": {},
     "output_type": "execute_result"
    }
   ],
   "source": [
    "from typing import List\n",
    "\n",
    "def missing_number(nums: List[int]) -> int:\n",
    "    result = 0\n",
    "\n",
    "    for i in range(len(nums)):\n",
    "        result ^= (i ^ nums[i])\n",
    "\n",
    "    return result ^ (i + 1)\n",
    "\n",
    "# nums = [3,0,1]\n",
    "# nums = [0,1]\n",
    "# nums = [9,6,4,2,3,5,7,0,1]\n",
    "\n",
    "missing_number(nums)"
   ]
  }
 ],
 "metadata": {
  "kernelspec": {
   "display_name": "Python 3.10.2 64-bit",
   "language": "python",
   "name": "python3"
  },
  "language_info": {
   "codemirror_mode": {
    "name": "ipython",
    "version": 3
   },
   "file_extension": ".py",
   "mimetype": "text/x-python",
   "name": "python",
   "nbconvert_exporter": "python",
   "pygments_lexer": "ipython3",
   "version": "3.10.2"
  },
  "orig_nbformat": 4,
  "vscode": {
   "interpreter": {
    "hash": "86513fceec4b1f5160dbca1db624badbef388ffd18b5ac131aa3ada7f8095061"
   }
  }
 },
 "nbformat": 4,
 "nbformat_minor": 2
}
