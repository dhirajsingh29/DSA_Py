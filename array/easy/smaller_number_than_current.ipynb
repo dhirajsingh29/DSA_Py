{
 "cells": [
  {
   "cell_type": "code",
   "execution_count": 1,
   "metadata": {},
   "outputs": [],
   "source": [
    "from typing import List"
   ]
  },
  {
   "cell_type": "markdown",
   "metadata": {},
   "source": [
    "[Leetcode - 1365]  \n",
    "Given the array nums, for each nums[i] find out how many numbers in the array are smaller than it.  \n",
    "That is, for each nums[i] you have to count the number of valid j's such that j != i and nums[j] < nums[i].  \n",
    "Return the answer in an array.  \n",
    "\n",
    "Example:  \n",
    "> Input: nums = [8,1,2,2,3]  \n",
    "> Output: [4,0,1,1,3]  \n",
    "\n",
    "Explanation:  \n",
    "> For nums[0]=8 there exist four smaller numbers than it (1, 2, 2 and 3).  \n",
    "> For nums[1]=1 does not exist any smaller number than it.  \n",
    "> For nums[2]=2 there exist one smaller number than it (1).  \n",
    "> For nums[3]=2 there exist one smaller number than it (1).  \n",
    "> For nums[4]=3 there exist three smaller numbers than it (1, 2 and 2)."
   ]
  },
  {
   "cell_type": "markdown",
   "metadata": {},
   "source": [
    "$Time Complexity: O(n^2)$"
   ]
  },
  {
   "cell_type": "code",
   "execution_count": 2,
   "metadata": {},
   "outputs": [
    {
     "data": {
      "text/plain": [
       "[4, 0, 1, 1, 3]"
      ]
     },
     "execution_count": 2,
     "metadata": {},
     "output_type": "execute_result"
    }
   ],
   "source": [
    "def smaller_number(nums: List[int]) -> List[int]:\n",
    "    result = [0] * len(nums)\n",
    "\n",
    "    for i in range(len(nums)):\n",
    "        count = 0\n",
    "\n",
    "        for num in nums:\n",
    "            if num < nums[i]:\n",
    "                count += 1\n",
    "        \n",
    "        result[i] = count\n",
    "    \n",
    "    return result\n",
    "\n",
    "nums = [8,1,2,2,3]\n",
    "# nums = [6,5,4,8]\n",
    "# nums = [7,7,7,7]\n",
    "smaller_number(nums)"
   ]
  },
  {
   "cell_type": "markdown",
   "metadata": {},
   "source": [
    "$Time Complexity: O(n)$"
   ]
  },
  {
   "cell_type": "code",
   "execution_count": 7,
   "metadata": {},
   "outputs": [
    {
     "data": {
      "text/plain": [
       "[4, 0, 1, 1, 3]"
      ]
     },
     "execution_count": 7,
     "metadata": {},
     "output_type": "execute_result"
    }
   ],
   "source": [
    "def smaller_number(nums: List[int]) -> List[int]:\n",
    "    sorted_nums = sorted(nums)\n",
    "    order_dict = {}\n",
    "\n",
    "    for i, num in enumerate(sorted_nums):\n",
    "        if num not in order_dict:\n",
    "            order_dict[num] = i\n",
    "\n",
    "    result = []\n",
    "    for num in nums:\n",
    "        result.append(order_dict[num])\n",
    "\n",
    "    return result\n",
    "\n",
    "nums = [8,1,2,2,3]\n",
    "# nums = [6,5,4,8]\n",
    "# nums = [7,7,7,7]\n",
    "smaller_number(nums)"
   ]
  }
 ],
 "metadata": {
  "kernelspec": {
   "display_name": "Python 3.10.2 64-bit",
   "language": "python",
   "name": "python3"
  },
  "language_info": {
   "codemirror_mode": {
    "name": "ipython",
    "version": 3
   },
   "file_extension": ".py",
   "mimetype": "text/x-python",
   "name": "python",
   "nbconvert_exporter": "python",
   "pygments_lexer": "ipython3",
   "version": "3.10.2"
  },
  "orig_nbformat": 4,
  "vscode": {
   "interpreter": {
    "hash": "86513fceec4b1f5160dbca1db624badbef388ffd18b5ac131aa3ada7f8095061"
   }
  }
 },
 "nbformat": 4,
 "nbformat_minor": 2
}
