{
 "cells": [
  {
   "cell_type": "markdown",
   "metadata": {},
   "source": [
    "[Leetcode - 1929]  \n",
    "Given an integer array nums of length n, you want to create an array ans of length 2n where ans[i] == nums[i] and ans[i + n] == nums[i] for 0 <= i < n (0-indexed).  \n",
    "Return the array ans  \n",
    "\n",
    "Example:  \n",
    "> Input: nums = [1,2,1]  \n",
    "> Output: [1,2,1,1,2,1]  \n",
    "> Explanation: The array ans is formed as follows - ans = [nums[0],nums[1],nums[2],nums[0],nums[1],nums[2]]"
   ]
  },
  {
   "cell_type": "code",
   "execution_count": 1,
   "metadata": {},
   "outputs": [],
   "source": [
    "from typing import List"
   ]
  },
  {
   "cell_type": "code",
   "execution_count": 3,
   "metadata": {},
   "outputs": [
    {
     "data": {
      "text/plain": [
       "[1, 3, 2, 1, 1, 3, 2, 1]"
      ]
     },
     "execution_count": 3,
     "metadata": {},
     "output_type": "execute_result"
    }
   ],
   "source": [
    "def concat_array(nums: List[int]) -> List[int]:\n",
    "    n = len(nums)\n",
    "    ans = [0] * (2 * n)\n",
    "\n",
    "    for i in range(len(nums)):\n",
    "        ans[i] = nums[i]\n",
    "        ans[i + n] = nums[i]\n",
    "\n",
    "    return ans\n",
    "\n",
    "# nums = [1,2,1]\n",
    "nums = [1,3,2,1]\n",
    "concat_array(nums)"
   ]
  }
 ],
 "metadata": {
  "kernelspec": {
   "display_name": "Python 3.10.2 64-bit",
   "language": "python",
   "name": "python3"
  },
  "language_info": {
   "codemirror_mode": {
    "name": "ipython",
    "version": 3
   },
   "file_extension": ".py",
   "mimetype": "text/x-python",
   "name": "python",
   "nbconvert_exporter": "python",
   "pygments_lexer": "ipython3",
   "version": "3.10.2"
  },
  "orig_nbformat": 4,
  "vscode": {
   "interpreter": {
    "hash": "86513fceec4b1f5160dbca1db624badbef388ffd18b5ac131aa3ada7f8095061"
   }
  }
 },
 "nbformat": 4,
 "nbformat_minor": 2
}
