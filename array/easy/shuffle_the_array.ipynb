{
 "cells": [
  {
   "cell_type": "markdown",
   "metadata": {},
   "source": [
    "[Leetcode - 1470]  \n",
    "Given the array `nums` consisting of `2n` elements in the form `[x1,x2,...,xn,y1,y2,...,yn]`.\n",
    "\n",
    "Return the array in the form `[x1,y1,x2,y2,...,xn,yn]`.\n",
    "\n",
    "Example 1:\n",
    "> Input: nums = [2,5,1,3,4,7], n = 3  \n",
    "> Output: [2,3,5,4,1,7]\n",
    "\n",
    "Example 2:\n",
    "> Input: nums = [1,2,3,4,4,3,2,1], n = 4  \n",
    "> Output: [1,4,2,3,3,2,4,1]\n",
    "\n",
    "Constraints:\n",
    "> 1 <= n <= 500  \n",
    "> nums.length == 2n  \n",
    "> 1 <= nums[i] <= $10^{3}$"
   ]
  },
  {
   "cell_type": "code",
   "execution_count": 3,
   "metadata": {},
   "outputs": [
    {
     "data": {
      "text/plain": [
       "[1, 2, 1, 2]"
      ]
     },
     "execution_count": 3,
     "metadata": {},
     "output_type": "execute_result"
    }
   ],
   "source": [
    "from typing import List\n",
    "\n",
    "def shuffleArray(nums: List[int], n: int) -> List[int]:\n",
    "    ans = [0] * (2 * n)\n",
    "\n",
    "    for i in range(n):\n",
    "        ans[2 * i] = nums[i]\n",
    "        ans[2 * i + 1] = nums[i + n]\n",
    "\n",
    "    return ans\n",
    "\n",
    "# nums = [2,5,1,3,4,7]\n",
    "# n = 3\n",
    "\n",
    "# nums = [1,2,3,4,4,3,2,1]\n",
    "# n = 4\n",
    "\n",
    "nums = [1,1,2,2]\n",
    "n = 2\n",
    "\n",
    "shuffleArray(nums, n)"
   ]
  },
  {
   "cell_type": "markdown",
   "metadata": {},
   "source": [
    "**Complexity Analysis**\n",
    "\n",
    "> Time Complexity: $O(n)$\n",
    "\n",
    "> Space Complexity: $O(n)$"
   ]
  },
  {
   "cell_type": "code",
   "execution_count": 6,
   "metadata": {},
   "outputs": [
    {
     "data": {
      "text/plain": [
       "[2, 3, 5, 4, 1, 7]"
      ]
     },
     "execution_count": 6,
     "metadata": {},
     "output_type": "execute_result"
    }
   ],
   "source": [
    "from typing import List\n",
    "\n",
    "def shuffleArray(nums: List[int], n: int) -> List[int]:\n",
    "\n",
    "    for i in range(n, 2 * n):\n",
    "        nums[i] = nums[i] + 10000 * nums[i - n]\n",
    "    \n",
    "    for i in range(n):\n",
    "        nums[2 * i] = nums[i + n] // 10000\n",
    "        nums[2 * i + 1] = nums[i + n] % 10000\n",
    "\n",
    "    return nums\n",
    "\n",
    "nums = [2,5,1,3,4,7]\n",
    "n = 3\n",
    "\n",
    "# nums = [1,2,3,4,4,3,2,1]\n",
    "# n = 4\n",
    "\n",
    "# nums = [1,1,2,2]\n",
    "# n = 2\n",
    "\n",
    "shuffleArray(nums, n)"
   ]
  }
 ],
 "metadata": {
  "kernelspec": {
   "display_name": "Python 3.10.2 64-bit",
   "language": "python",
   "name": "python3"
  },
  "language_info": {
   "codemirror_mode": {
    "name": "ipython",
    "version": 3
   },
   "file_extension": ".py",
   "mimetype": "text/x-python",
   "name": "python",
   "nbconvert_exporter": "python",
   "pygments_lexer": "ipython3",
   "version": "3.10.2"
  },
  "orig_nbformat": 4,
  "vscode": {
   "interpreter": {
    "hash": "86513fceec4b1f5160dbca1db624badbef388ffd18b5ac131aa3ada7f8095061"
   }
  }
 },
 "nbformat": 4,
 "nbformat_minor": 2
}
