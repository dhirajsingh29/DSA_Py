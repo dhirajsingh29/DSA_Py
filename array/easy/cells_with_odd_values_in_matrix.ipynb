{
 "cells": [
  {
   "cell_type": "markdown",
   "metadata": {},
   "source": [
    "[Leetcode - 1252]  \n",
    "There is an m x n matrix that is initialized to all 0's. There is also a 2D array indices where each indices[i] = [ri, ci] represents a 0-indexed location to perform some increment operations on the matrix.  \n",
    "\n",
    "For each location indices[i], do both of the following:  \n",
    "> Increment all the cells on row ri.  \n",
    "> Increment all the cells on column ci.  \n",
    "\n",
    "Given m, n, and indices, return the number of odd-valued cells in the matrix after applying the increment to all locations in indices.  \n",
    "\n",
    "Example:\n",
    "> Input: m = 2, n = 3, indices = [[0,1],[1,1]]  \n",
    "> Output: 6  \n",
    "> Explanation: Initial matrix = [[0,0,0],[0,0,0]]. After applying first increment it becomes [[1,2,1],[0,1,0]]. The final matrix is [[1,3,1],[1,3,1]], which contains 6 odd numbers.  \n",
    "\n",
    "Constraints:  \n",
    "> - 1 <= m, n <= 50  \n",
    "> - 1 <= indices.length <= 100  \n",
    "> - 0 <= ri < m  \n",
    "> - 0 <= ci < n"
   ]
  },
  {
   "cell_type": "code",
   "execution_count": 1,
   "metadata": {},
   "outputs": [],
   "source": [
    "from typing import List"
   ]
  },
  {
   "cell_type": "code",
   "execution_count": 4,
   "metadata": {},
   "outputs": [
    {
     "data": {
      "text/plain": [
       "0"
      ]
     },
     "execution_count": 4,
     "metadata": {},
     "output_type": "execute_result"
    }
   ],
   "source": [
    "def odd_cells(m: int, n: int, indices: List[List[int]]) -> int:\n",
    "    matrix = []\n",
    "\n",
    "    # initialize matrix with all 0s\n",
    "    for i in range(m):\n",
    "        arr = []\n",
    "\n",
    "        for j in range(n):\n",
    "            arr.append(0)\n",
    "\n",
    "        matrix.append(arr)\n",
    "\n",
    "\n",
    "    for location in indices:\n",
    "\n",
    "        # location[0] contains row number\n",
    "        # location[1] contains column number\n",
    "\n",
    "        for i, row in enumerate(matrix):\n",
    "\n",
    "            # increment all columns value by 1 for row lolcation[0]\n",
    "            if location[0] == i:\n",
    "                for col in range(len(matrix[i])):\n",
    "                    matrix[i][col] += 1\n",
    "\n",
    "            # increment column value by 1 for each row in column location[1]\n",
    "            matrix[i][location[1]] += 1\n",
    "\n",
    "    count = 0\n",
    "    for r in range(m):\n",
    "        for c in range(n):\n",
    "            if matrix[r][c] % 2 != 0:\n",
    "                count += 1\n",
    "    \n",
    "    return count\n",
    "\n",
    "# m = 2\n",
    "# n = 3\n",
    "# indices = [[0,1],[1,1]]\n",
    "\n",
    "m = 2\n",
    "n = 2\n",
    "indices = [[1,1],[0,0]]\n",
    "\n",
    "odd_cells(m, n, indices)"
   ]
  },
  {
   "cell_type": "code",
   "execution_count": 3,
   "metadata": {},
   "outputs": [
    {
     "data": {
      "text/plain": [
       "0"
      ]
     },
     "execution_count": 3,
     "metadata": {},
     "output_type": "execute_result"
    }
   ],
   "source": [
    "def odd_cells(m: int, n: int, indices: List[List[int]]) -> int:\n",
    "    rows = [0] * m\n",
    "    cols = [0] * n\n",
    "\n",
    "    count = 0\n",
    "\n",
    "    for location in indices:\n",
    "        rows[location[0]] ^= 1\n",
    "        cols[location[1]] ^= 1\n",
    "\n",
    "    for i in range(m):\n",
    "        for j in range(n):\n",
    "            count += rows[i] ^ cols[j]\n",
    "\n",
    "    return count\n",
    "\n",
    "m = 2\n",
    "n = 3\n",
    "indices = [[0,1],[1,1]]\n",
    "\n",
    "# m = 2\n",
    "# n = 2\n",
    "# indices = [[1,1],[0,0]]\n",
    "\n",
    "odd_cells(m, n, indices)"
   ]
  }
 ],
 "metadata": {
  "kernelspec": {
   "display_name": "Python 3.10.2 64-bit",
   "language": "python",
   "name": "python3"
  },
  "language_info": {
   "codemirror_mode": {
    "name": "ipython",
    "version": 3
   },
   "file_extension": ".py",
   "mimetype": "text/x-python",
   "name": "python",
   "nbconvert_exporter": "python",
   "pygments_lexer": "ipython3",
   "version": "3.10.2"
  },
  "orig_nbformat": 4,
  "vscode": {
   "interpreter": {
    "hash": "86513fceec4b1f5160dbca1db624badbef388ffd18b5ac131aa3ada7f8095061"
   }
  }
 },
 "nbformat": 4,
 "nbformat_minor": 2
}
