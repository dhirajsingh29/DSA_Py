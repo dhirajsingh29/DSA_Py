{
 "cells": [
  {
   "cell_type": "markdown",
   "metadata": {},
   "source": [
    "[Leetcode - 1732]  \n",
    "There is a biker going on a road trip. The road trip consists of n + 1 points at different altitudes. The biker starts his trip on point 0 with altitude equal 0.  \n",
    "\n",
    "You are given an integer array gain of length n where gain[i] is the net gain in altitude between points i​​​​​​ and i + 1 for all (0 <= i < n). Return the highest altitude of a point.  \n",
    "\n",
    "Example 1:  \n",
    "> Input: gain = [-5,1,5,0,-7]  \n",
    "> Output: 1  \n",
    "> Explanation: The altitudes are [0,-5,-4,1,1,-6]. The highest is 1.  \n",
    "\n",
    "Example 2:  \n",
    "> Input: gain = [-4,-3,-2,-1,4,3,2]  \n",
    "> Output: 0  \n",
    "> Explanation: The altitudes are [0,-4,-7,-9,-10,-6,-3,-1]. The highest is 0."
   ]
  },
  {
   "cell_type": "code",
   "execution_count": 1,
   "metadata": {},
   "outputs": [],
   "source": [
    "from typing import List"
   ]
  },
  {
   "cell_type": "code",
   "execution_count": 3,
   "metadata": {},
   "outputs": [
    {
     "data": {
      "text/plain": [
       "1"
      ]
     },
     "execution_count": 3,
     "metadata": {},
     "output_type": "execute_result"
    }
   ],
   "source": [
    "def highest_altitude(gain: List[int]) -> int:\n",
    "    net_gain = 0\n",
    "    max_altitude = 0\n",
    "\n",
    "    for i in gain:\n",
    "        net_gain += i\n",
    "\n",
    "        if net_gain > max_altitude:\n",
    "            max_altitude = net_gain\n",
    "\n",
    "    return max_altitude\n",
    "\n",
    "gain = [-5,1,5,0,-7]\n",
    "# gain = [-4,-3,-2,-1,4,3,2]\n",
    "highest_altitude(gain)"
   ]
  }
 ],
 "metadata": {
  "kernelspec": {
   "display_name": "Python 3.10.2 64-bit",
   "language": "python",
   "name": "python3"
  },
  "language_info": {
   "codemirror_mode": {
    "name": "ipython",
    "version": 3
   },
   "file_extension": ".py",
   "mimetype": "text/x-python",
   "name": "python",
   "nbconvert_exporter": "python",
   "pygments_lexer": "ipython3",
   "version": "3.10.2"
  },
  "orig_nbformat": 4,
  "vscode": {
   "interpreter": {
    "hash": "86513fceec4b1f5160dbca1db624badbef388ffd18b5ac131aa3ada7f8095061"
   }
  }
 },
 "nbformat": 4,
 "nbformat_minor": 2
}
