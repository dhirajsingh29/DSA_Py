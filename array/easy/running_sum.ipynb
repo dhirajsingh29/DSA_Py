{
 "cells": [
  {
   "cell_type": "markdown",
   "metadata": {},
   "source": [
    "[Leetcode - 1480]  \n",
    "Given an array nums. We define a running sum of an array as runningSum[i] = sum(nums[0]…nums[i]).  \n",
    "Return the running sum of nums.\n",
    "\n",
    "Example:\n",
    "> Input: nums = [1,2,3,4]  \n",
    "> Output: [1,3,6,10]  \n",
    "> Explanation: Running sum is obtained as follows: [1, 1+2, 1+2+3, 1+2+3+4]."
   ]
  },
  {
   "cell_type": "code",
   "execution_count": 1,
   "metadata": {},
   "outputs": [],
   "source": [
    "from typing import List"
   ]
  },
  {
   "cell_type": "code",
   "execution_count": 4,
   "metadata": {},
   "outputs": [
    {
     "data": {
      "text/plain": [
       "[3, 4, 6, 16, 17]"
      ]
     },
     "execution_count": 4,
     "metadata": {},
     "output_type": "execute_result"
    }
   ],
   "source": [
    "def running_sum(nums: List[int]) -> List[int]:\n",
    "    running_sum = [0] * len(nums)\n",
    "\n",
    "    running_sum[0] = nums[0];\n",
    "\n",
    "    for i in range(1, len(nums)):\n",
    "        running_sum[i] = running_sum[i - 1] + nums[i]\n",
    "\n",
    "    return running_sum\n",
    "\n",
    "nums = [1,2,3,4]\n",
    "# nums = [1,1,1,1,1]\n",
    "# nums = [3,1,2,10,1]\n",
    "running_sum(nums)"
   ]
  }
 ],
 "metadata": {
  "kernelspec": {
   "display_name": "Python 3.10.2 64-bit",
   "language": "python",
   "name": "python3"
  },
  "language_info": {
   "codemirror_mode": {
    "name": "ipython",
    "version": 3
   },
   "file_extension": ".py",
   "mimetype": "text/x-python",
   "name": "python",
   "nbconvert_exporter": "python",
   "pygments_lexer": "ipython3",
   "version": "3.10.2"
  },
  "orig_nbformat": 4,
  "vscode": {
   "interpreter": {
    "hash": "86513fceec4b1f5160dbca1db624badbef388ffd18b5ac131aa3ada7f8095061"
   }
  }
 },
 "nbformat": 4,
 "nbformat_minor": 2
}
