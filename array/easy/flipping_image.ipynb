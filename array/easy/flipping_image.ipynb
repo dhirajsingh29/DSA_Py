{
 "cells": [
  {
   "cell_type": "markdown",
   "metadata": {},
   "source": [
    "[Leetcode - 832]  \n",
    "Given an n x n binary matrix image, flip the image horizontally, then invert it, and return the resulting image.  \n",
    "\n",
    "To flip an image horizontally means that each row of the image is reversed.  \n",
    "- flipping [1,1,0] horizontally results in [0,1,1]  \n",
    "\n",
    "To invert an image means that each 0 is replaced by 1, and each 1 is replaced by 0.  \n",
    "- inverting [0,1,1] results in [1,0,0]  \n",
    "\n",
    "Example 1:  \n",
    "> Input: image = [[1,1,0],[1,0,1],[0,0,0]]  \n",
    "> Output: [[1,0,0],[0,1,0],[1,1,1]]  \n",
    "> Explanation: First reverse each row: [[0,1,1],[1,0,1],[0,0,0]]. Then, invert the image: [[1,0,0],[0,1,0],[1,1,1]]  \n",
    "\n",
    "Example 2:  \n",
    "> Input: image = [[1,1,0,0],[1,0,0,1],[0,1,1,1],[1,0,1,0]]  \n",
    "> Output: [[1,1,0,0],[0,1,1,0],[0,0,0,1],[1,0,1,0]]  \n",
    "> Explanation: First reverse each row: [[0,0,1,1],[1,0,0,1],[1,1,1,0],[0,1,0,1]]. Then invert the image: [[1,1,0,0],[0,1,1,0],[0,0,0,1],[1,0,1,0]]"
   ]
  },
  {
   "cell_type": "code",
   "execution_count": 2,
   "metadata": {},
   "outputs": [],
   "source": [
    "from typing import List"
   ]
  },
  {
   "cell_type": "code",
   "execution_count": 4,
   "metadata": {},
   "outputs": [
    {
     "data": {
      "text/plain": [
       "[[1, 1, 0, 0], [0, 1, 1, 0], [0, 0, 0, 1], [1, 0, 1, 0]]"
      ]
     },
     "execution_count": 4,
     "metadata": {},
     "output_type": "execute_result"
    }
   ],
   "source": [
    "def flip_and_invert(image: List[List[int]]) -> List[List[int]]:\n",
    "    for img in image:\n",
    "\n",
    "        i = 0\n",
    "        j = len(img) - 1\n",
    "\n",
    "        while i < j:\n",
    "            temp = 0 if img[i] == 1 else 1\n",
    "            img[i] = 0 if img[j] == 1 else 1\n",
    "            img[j] = temp\n",
    "\n",
    "            i += 1\n",
    "            j -= 1\n",
    "\n",
    "        if i == j:\n",
    "            img[i] = 0 if img[i] == 1 else 1\n",
    "\n",
    "    return image\n",
    "\n",
    "# image = [[1,1,0],[1,0,1],[0,0,0]]\n",
    "image = [[1,1,0,0],[1,0,0,1],[0,1,1,1],[1,0,1,0]]\n",
    "flip_and_invert(image)"
   ]
  }
 ],
 "metadata": {
  "kernelspec": {
   "display_name": "Python 3.10.2 64-bit",
   "language": "python",
   "name": "python3"
  },
  "language_info": {
   "codemirror_mode": {
    "name": "ipython",
    "version": 3
   },
   "file_extension": ".py",
   "mimetype": "text/x-python",
   "name": "python",
   "nbconvert_exporter": "python",
   "pygments_lexer": "ipython3",
   "version": "3.10.2"
  },
  "orig_nbformat": 4,
  "vscode": {
   "interpreter": {
    "hash": "86513fceec4b1f5160dbca1db624badbef388ffd18b5ac131aa3ada7f8095061"
   }
  }
 },
 "nbformat": 4,
 "nbformat_minor": 2
}
