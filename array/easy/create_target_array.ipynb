{
 "cells": [
  {
   "cell_type": "code",
   "execution_count": 1,
   "metadata": {},
   "outputs": [],
   "source": [
    "from typing import List"
   ]
  },
  {
   "cell_type": "markdown",
   "metadata": {},
   "source": [
    "[Leetcode - 1389]  \n",
    "Given two arrays of integers nums and index. Your task is to create target array under the following rules:  \n",
    "> Initially target array is empty.  \n",
    "> From left to right read nums[i] and index[i], insert at index index[i] the value nums[i] in target array.  \n",
    "> Repeat the previous step until there are no elements to read in nums and index.\n",
    "\n",
    "Return the target array.  \n",
    "Example  \n",
    "> Input: nums = [0,1,2,3,4], index = [0,1,2,2,1]  \n",
    "> Output: [0,4,1,3,2]\n",
    "  \n",
    "Explanation:\n",
    "\n",
    "| nums | index | target |\n",
    "| :- | :- | :- | \n",
    "| 0 | 0 | [0] |\n",
    "| 1 | 1 | [0,1] |\n",
    "| 2 | 2 | [0,1,2] |\n",
    "| 3 | 2 | [0,1,3,2] |\n",
    "| 4 | 1 | [0,4,1,3,2] |"
   ]
  },
  {
   "cell_type": "code",
   "execution_count": 6,
   "metadata": {},
   "outputs": [
    {
     "data": {
      "text/plain": [
       "[0, 4, 1, 3, 2]"
      ]
     },
     "execution_count": 6,
     "metadata": {},
     "output_type": "execute_result"
    }
   ],
   "source": [
    "def createTargetArray(nums: List[int], index: List[int]) -> List[int]:\n",
    "    target = [-1] * len(nums)\n",
    "\n",
    "    for i in range(len(nums)):\n",
    "        j = i\n",
    "\n",
    "        while j != index[i]:\n",
    "            target[j] = target[j - 1]\n",
    "            j -= 1\n",
    "        \n",
    "        target[index[i]] = nums[i]\n",
    "\n",
    "    return target\n",
    "\n",
    "nums = [0, 1, 2, 3, 4] \n",
    "index = [0, 1, 2, 2, 1]\n",
    "\n",
    "# nums = [1, 2, 3, 4, 0] \n",
    "# index = [0, 1, 2, 3, 0]\n",
    "\n",
    "# nums = [1]\n",
    "# index = [0]\n",
    "\n",
    "createTargetArray(nums, index)"
   ]
  }
 ],
 "metadata": {
  "kernelspec": {
   "display_name": "Python 3.10.2 64-bit",
   "language": "python",
   "name": "python3"
  },
  "language_info": {
   "codemirror_mode": {
    "name": "ipython",
    "version": 3
   },
   "file_extension": ".py",
   "mimetype": "text/x-python",
   "name": "python",
   "nbconvert_exporter": "python",
   "pygments_lexer": "ipython3",
   "version": "3.10.2"
  },
  "orig_nbformat": 4,
  "vscode": {
   "interpreter": {
    "hash": "86513fceec4b1f5160dbca1db624badbef388ffd18b5ac131aa3ada7f8095061"
   }
  }
 },
 "nbformat": 4,
 "nbformat_minor": 2
}
