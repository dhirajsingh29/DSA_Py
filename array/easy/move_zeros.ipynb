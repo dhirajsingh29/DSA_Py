{
 "cells": [
  {
   "cell_type": "code",
   "execution_count": 1,
   "metadata": {},
   "outputs": [],
   "source": [
    "from typing import List"
   ]
  },
  {
   "cell_type": "markdown",
   "metadata": {},
   "source": [
    "[Leetcode - 283]  \n",
    "Given an integer array nums, move all 0's to the end of it while maintaining the relative order of the non-zero elements. \n",
    "Note that you must do this in-place without making a copy of the array."
   ]
  },
  {
   "cell_type": "code",
   "execution_count": 9,
   "metadata": {},
   "outputs": [
    {
     "data": {
      "text/plain": [
       "[1, 3, 12, 0, 0, 0]"
      ]
     },
     "execution_count": 9,
     "metadata": {},
     "output_type": "execute_result"
    }
   ],
   "source": [
    "def move_zeros(nums: List[int]) -> None:\n",
    "    i = 0\n",
    "    j = i + 1\n",
    "\n",
    "    while j != len(nums):\n",
    "\n",
    "        if nums[i] == 0 and nums[j] == 0:\n",
    "            j += 1\n",
    "        else:\n",
    "            if nums[i] == 0:\n",
    "                temp = nums[i]\n",
    "                nums[i] = nums[j]\n",
    "                nums[j] = temp\n",
    "\n",
    "            i += 1\n",
    "            j += 1\n",
    "\n",
    "# nums = [0, 1, 0, 3, 12]\n",
    "# nums = [0, 0, 1, 3, 12]\n",
    "# nums = [0, 1, 3, 12, 0]\n",
    "nums = [1, 3, 0, 0, 12, 0]\n",
    "move_zeros(nums)\n",
    "nums"
   ]
  },
  {
   "cell_type": "code",
   "execution_count": 15,
   "metadata": {},
   "outputs": [
    {
     "data": {
      "text/plain": [
       "[1, 3, 12, 0, 0]"
      ]
     },
     "execution_count": 15,
     "metadata": {},
     "output_type": "execute_result"
    }
   ],
   "source": [
    "def move_zeros(nums: List[int]) -> None:\n",
    "    i = 0\n",
    "\n",
    "    for j in range(1, len(nums)):\n",
    "\n",
    "        if nums[i] != 0:\n",
    "            i += 1\n",
    "\n",
    "        if nums[i] == 0 and nums[j] != 0:\n",
    "            nums[i] ^= nums[j]\n",
    "            nums[j] = 0\n",
    "\n",
    "            i += 1\n",
    "\n",
    "# nums = [0, 1, 0, 3, 12]\n",
    "# nums = [0, 0, 1, 3, 12]\n",
    "nums = [0, 1, 3, 12, 0]\n",
    "# nums = [1, 3, 0, 0, 12, 0]\n",
    "move_zeros(nums)\n",
    "nums"
   ]
  }
 ],
 "metadata": {
  "kernelspec": {
   "display_name": "Python 3.10.2 64-bit",
   "language": "python",
   "name": "python3"
  },
  "language_info": {
   "codemirror_mode": {
    "name": "ipython",
    "version": 3
   },
   "file_extension": ".py",
   "mimetype": "text/x-python",
   "name": "python",
   "nbconvert_exporter": "python",
   "pygments_lexer": "ipython3",
   "version": "3.10.2"
  },
  "orig_nbformat": 4,
  "vscode": {
   "interpreter": {
    "hash": "86513fceec4b1f5160dbca1db624badbef388ffd18b5ac131aa3ada7f8095061"
   }
  }
 },
 "nbformat": 4,
 "nbformat_minor": 2
}
