{
 "cells": [
  {
   "cell_type": "code",
   "execution_count": 2,
   "metadata": {},
   "outputs": [],
   "source": [
    "from typing import List"
   ]
  },
  {
   "cell_type": "markdown",
   "metadata": {},
   "source": [
    "[Leetcode - 1672]  \n",
    "You are given an m x n integer grid accounts where accounts[i][j] is the amount of money the i​​​​​​​​​​​th​​​​ customer has in the j​​​​​​​​​​​th​​​​ bank. \n",
    "Return the wealth that the richest customer has.  \n",
    "A customer's wealth is the amount of money they have in all their bank accounts.  \n",
    "The richest customer is the customer that has the maximum wealth.  \n",
    "\n",
    "Example:  \n",
    "> Input: accounts = [[1,5],[7,3],[3,5]]  \n",
    "> Output: 10  \n",
    "\n",
    "Explanation:  \n",
    "> 1st customer has wealth = 6  \n",
    "> 2nd customer has wealth = 10  \n",
    "> 3rd customer has wealth = 8  \n",
    "> The 2nd customer is the richest with a wealth of 10."
   ]
  },
  {
   "cell_type": "code",
   "execution_count": 3,
   "metadata": {},
   "outputs": [
    {
     "data": {
      "text/plain": [
       "10"
      ]
     },
     "execution_count": 3,
     "metadata": {},
     "output_type": "execute_result"
    }
   ],
   "source": [
    "def max_wealth(accounts: List[List[int]]) -> int:\n",
    "    max = -1\n",
    "\n",
    "    for account in accounts:\n",
    "        sum = 0\n",
    "\n",
    "        for amount in account:\n",
    "            sum += amount\n",
    "        \n",
    "        max = sum if sum > max else max\n",
    "\n",
    "    return max\n",
    "\n",
    "accounts = [[1,5],[7,3],[3,5]]\n",
    "max_wealth(accounts)"
   ]
  }
 ],
 "metadata": {
  "kernelspec": {
   "display_name": "Python 3.10.2 64-bit",
   "language": "python",
   "name": "python3"
  },
  "language_info": {
   "codemirror_mode": {
    "name": "ipython",
    "version": 3
   },
   "file_extension": ".py",
   "mimetype": "text/x-python",
   "name": "python",
   "nbconvert_exporter": "python",
   "pygments_lexer": "ipython3",
   "version": "3.10.2"
  },
  "orig_nbformat": 4,
  "vscode": {
   "interpreter": {
    "hash": "86513fceec4b1f5160dbca1db624badbef388ffd18b5ac131aa3ada7f8095061"
   }
  }
 },
 "nbformat": 4,
 "nbformat_minor": 2
}
