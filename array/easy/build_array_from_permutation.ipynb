{
 "cells": [
  {
   "cell_type": "markdown",
   "metadata": {},
   "source": [
    "[Leetcode - 1920]  \n",
    "Given a **zero-based permutation** `nums` (0-indexed), build an array `ans` of the **same length** where `ans[i] = nums[nums[i]]` for each `0 <= i < nums.length` and return it.\n",
    "\n",
    "A **zero-based permutation** `nums` is an array of **distinct** integers from `0` to `nums.length - 1` (**inclusive**).\n",
    "\n",
    "Example 1:\n",
    "> Input: nums = [0,2,1,5,3,4]  \n",
    "> Output: [0,1,2,4,5,3]  \n",
    "> Explanation: The array ans is built as follows:  \n",
    "    ans = [nums[nums[0]], nums[nums[1]], nums[nums[2]], nums[nums[3]], nums[nums[4]], nums[nums[5]]]  \n",
    "    = [nums[0], nums[2], nums[1], nums[5], nums[3], nums[4]]  \n",
    "    = [0,1,2,4,5,3]\n",
    "\n",
    "Example 2:\n",
    "> Input: nums = [5,0,1,2,3,4]  \n",
    "> Output: [4,5,0,1,2,3]  \n",
    "> Explanation: The array ans is built as follows:  \n",
    "    ans = [nums[nums[0]], nums[nums[1]], nums[nums[2]], nums[nums[3]], nums[nums[4]], nums[nums[5]]]  \n",
    "    = [nums[5], nums[0], nums[1], nums[2], nums[3], nums[4]]  \n",
    "    = [4,5,0,1,2,3]\n",
    "\n",
    "Constraints:\n",
    "> 1 <= nums.length <= 1000  \n",
    "> 0 <= nums[i] < nums.length  \n",
    "> The elements in nums are distinct.\n",
    "\n",
    "**Follow-up:** Can you solve it without using an extra space (i.e., `O(1)` memory)?"
   ]
  },
  {
   "cell_type": "code",
   "execution_count": 2,
   "metadata": {},
   "outputs": [
    {
     "data": {
      "text/plain": [
       "[4, 5, 0, 1, 2, 3]"
      ]
     },
     "execution_count": 2,
     "metadata": {},
     "output_type": "execute_result"
    }
   ],
   "source": [
    "from typing import List\n",
    "\n",
    "def buildArray(nums: List[int]) -> List[int]:\n",
    "    ans = [0] * len(nums)\n",
    "\n",
    "    for i in range(len(nums)):\n",
    "        ans[i] = nums[nums[i]]\n",
    "\n",
    "    return ans\n",
    "\n",
    "# nums = [0,2,1,5,3,4]\n",
    "nums = [5,0,1,2,3,4]\n",
    "\n",
    "buildArray(nums)"
   ]
  },
  {
   "cell_type": "markdown",
   "metadata": {},
   "source": [
    "**Complexity Analysis**\n",
    "\n",
    "> Time Complexity: $O(n)$\n",
    "\n",
    "> Space Complexity: $O(n)$"
   ]
  },
  {
   "cell_type": "code",
   "execution_count": 5,
   "metadata": {},
   "outputs": [
    {
     "data": {
      "text/plain": [
       "[4, 5, 0, 1, 2, 3]"
      ]
     },
     "execution_count": 5,
     "metadata": {},
     "output_type": "execute_result"
    }
   ],
   "source": [
    "# Follow up question\n",
    "from typing import List\n",
    "\n",
    "def buildArray(nums: List[int]) -> List[int]:\n",
    "\n",
    "    n = len(nums)\n",
    "\n",
    "    # as no extra space can be allocated, hence both the numbers i.e. old value at that index and new value need to be stored at same location\n",
    "    # as per contraint nums[i] < len(nums), hence we are using n for multiplication and modulo operation, else we could have used some large number like 10000\n",
    "    for i in range(n):\n",
    "        # nums[i] = old value + new value\n",
    "        nums[i] = nums[i] + n * (nums[nums[i]] % n)\n",
    "\n",
    "    for i in range(n):\n",
    "        nums[i] //= n\n",
    "\n",
    "    return nums\n",
    "\n",
    "# nums = [0,2,1,5,3,4]\n",
    "nums = [5,0,1,2,3,4]\n",
    "\n",
    "buildArray(nums)"
   ]
  },
  {
   "cell_type": "markdown",
   "metadata": {},
   "source": [
    "**Complexity Analysis**\n",
    "\n",
    "> Time Complexity: $O(n)$\n",
    "\n",
    "> Space Complexity: $O(1)$"
   ]
  }
 ],
 "metadata": {
  "kernelspec": {
   "display_name": "Python 3.10.2 64-bit",
   "language": "python",
   "name": "python3"
  },
  "language_info": {
   "codemirror_mode": {
    "name": "ipython",
    "version": 3
   },
   "file_extension": ".py",
   "mimetype": "text/x-python",
   "name": "python",
   "nbconvert_exporter": "python",
   "pygments_lexer": "ipython3",
   "version": "3.10.2"
  },
  "orig_nbformat": 4,
  "vscode": {
   "interpreter": {
    "hash": "86513fceec4b1f5160dbca1db624badbef388ffd18b5ac131aa3ada7f8095061"
   }
  }
 },
 "nbformat": 4,
 "nbformat_minor": 2
}
