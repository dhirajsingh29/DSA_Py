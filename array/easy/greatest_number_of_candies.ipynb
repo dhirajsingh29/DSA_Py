{
 "cells": [
  {
   "cell_type": "markdown",
   "metadata": {},
   "source": [
    "[Leetcode - 1431]  \n",
    "There are n kids with candies. You are given an integer array candies, where each candies[i] represents the number of candies the ith kid has, and an integer extraCandies, denoting the number of extra candies that you have.  \n",
    "\n",
    "Return a boolean array result of length n, where result[i] is true if, after giving the ith kid all the extraCandies, they will have the greatest number of candies among all the kids, or false otherwise.  \n",
    "\n",
    "Note that multiple kids can have the greatest number of candies.  \n",
    "\n",
    "Example:\n",
    "> Input: candies = [2,3,5,1,3], extraCandies = 3  \n",
    "> Output: [true,true,true,false,true]  \n",
    "> Explanation: If you give all extraCandies to:  \n",
    "> - Kid 1, they will have 2 + 3 = 5 candies, which is the greatest among the kids.\n",
    "> - Kid 2, they will have 3 + 3 = 6 candies, which is the greatest among the kids.\n",
    "> - Kid 3, they will have 5 + 3 = 8 candies, which is the greatest among the kids.\n",
    "> - Kid 4, they will have 1 + 3 = 4 candies, which is not the greatest among the kids.\n",
    "> - Kid 5, they will have 3 + 3 = 6 candies, which is the greatest among the kids."
   ]
  },
  {
   "cell_type": "code",
   "execution_count": 1,
   "metadata": {},
   "outputs": [],
   "source": [
    "from typing import List"
   ]
  },
  {
   "cell_type": "code",
   "execution_count": 3,
   "metadata": {},
   "outputs": [
    {
     "data": {
      "text/plain": [
       "[True, False, True]"
      ]
     },
     "execution_count": 3,
     "metadata": {},
     "output_type": "execute_result"
    }
   ],
   "source": [
    "def kid_with_greatest_candies(candies: List[int], extra_candies: int) -> List[bool]:\n",
    "    result = [False] * len(candies)\n",
    "\n",
    "    max_candies = max(candies)\n",
    "\n",
    "    for i in range(len(candies)):\n",
    "        result[i] = candies[i] + extra_candies >= max_candies\n",
    "\n",
    "    return result\n",
    "\n",
    "# candies = [2,3,5,1,3]\n",
    "# extra_candies = 3\n",
    "\n",
    "# candies = [4,2,1,1,2]\n",
    "# extra_candies = 1\n",
    "\n",
    "candies = [12,1,12]\n",
    "extra_candies = 10\n",
    "\n",
    "kid_with_greatest_candies(candies, extra_candies)"
   ]
  }
 ],
 "metadata": {
  "kernelspec": {
   "display_name": "Python 3.10.2 64-bit",
   "language": "python",
   "name": "python3"
  },
  "language_info": {
   "codemirror_mode": {
    "name": "ipython",
    "version": 3
   },
   "file_extension": ".py",
   "mimetype": "text/x-python",
   "name": "python",
   "nbconvert_exporter": "python",
   "pygments_lexer": "ipython3",
   "version": "3.10.2"
  },
  "orig_nbformat": 4,
  "vscode": {
   "interpreter": {
    "hash": "86513fceec4b1f5160dbca1db624badbef388ffd18b5ac131aa3ada7f8095061"
   }
  }
 },
 "nbformat": 4,
 "nbformat_minor": 2
}
