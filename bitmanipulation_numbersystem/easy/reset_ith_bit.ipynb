{
 "cells": [
  {
   "cell_type": "markdown",
   "metadata": {},
   "source": [
    "Reset the $i^{th}$ bit of a number.\n",
    "\n",
    "If $i^{th}$ bit is 1 make it 0, if it is 0 leave it as is.\n",
    "\n",
    "Example 1:\n",
    "> Input: n = '1010110', i = 5  \n",
    "> Output: 1000110\n",
    "\n",
    "Example 2:\n",
    "> Input: n = '1010110', i = 4  \n",
    "> Output: 1010110"
   ]
  },
  {
   "cell_type": "code",
   "execution_count": 4,
   "metadata": {},
   "outputs": [],
   "source": [
    "from sys import path as syspath\n",
    "from os import path as ospath\n",
    "\n",
    "module_path = ospath.abspath(ospath.join('..'))\n",
    "syspath.insert(0, module_path)\n",
    "\n",
    "from convert_decimal_to_binary import DecimalToBinary\n",
    "from convert_binary_to_decimal import BinaryToDecimal"
   ]
  },
  {
   "cell_type": "markdown",
   "metadata": {},
   "source": [
    "*$1^{st}$ approach*\n",
    "\n",
    "n = '1010110'  \n",
    "i = 5\n",
    "\n",
    "> We need to get a mask with $5^{th}$ bit 1 and rest all 0  \n",
    "> e.g., 0010000\n",
    ">\n",
    "> To get the mask, left shift 1 by (i - 1) i.e. 4\n",
    "> > $1 << (i - 1)$  \n",
    "> > $= 1 << (5 - 1)$  \n",
    "> > $= 1 << 4$  \n",
    "> > $= 0010000$\n",
    "\n",
    "> **Note:**\n",
    "> > $\\text{x \\^ \\ 0} = x$  \n",
    "> > $\\text{x \\^ \\ 1} = ~x$\n",
    "\n",
    "Hence, $\\text{n \\^ \\ mask}$ is the answer."
   ]
  },
  {
   "cell_type": "code",
   "execution_count": 9,
   "metadata": {},
   "outputs": [
    {
     "name": "stdout",
     "output_type": "stream",
     "text": [
      "86\n",
      "1010110\n"
     ]
    }
   ],
   "source": [
    "def resetBit(n: str, i: int) -> int:\n",
    "    n_int = BinaryToDecimal.convert(n)\n",
    "\n",
    "    mask = 1 << (i - 1)\n",
    "\n",
    "    return n_int ^ mask\n",
    "\n",
    "decimal_number = resetBit('1011110', 4)\n",
    "binary_number = DecimalToBinary.convert(decimal_number)\n",
    "\n",
    "print(decimal_number)\n",
    "print(binary_number)"
   ]
  },
  {
   "cell_type": "markdown",
   "metadata": {},
   "source": [
    "*$2^{nd}$ approach*\n",
    "\n",
    "n = '1010110'  \n",
    "i = 5\n",
    "\n",
    "> We need to get a mask with $5^{th}$ bit 0 and rest all 1  \n",
    "> e.g., 1101111\n",
    ">\n",
    "> To get the mask, left shift 1 by (i - 1) i.e. 4 and take complement of whole\n",
    "> > $\\~(1 << (i - 1))$  \n",
    "> > $= \\~(1 << (5 - 1))$  \n",
    "> > $= \\~(1 << 4)$  \n",
    "> > $= \\~(0010000)$  \n",
    "> > $= 1101111$\n",
    "\n",
    "> **Note:**\n",
    "> > $\\text{x \\& 0} = 0$  \n",
    "> > $\\text{x \\& 1} = x$\n",
    "\n",
    "Hence, $\\text{n \\& mask}$ is the answer."
   ]
  },
  {
   "cell_type": "code",
   "execution_count": 10,
   "metadata": {},
   "outputs": [
    {
     "name": "stdout",
     "output_type": "stream",
     "text": [
      "70\n",
      "1000110\n"
     ]
    }
   ],
   "source": [
    "def resetBit(n: str, i: int) -> int:\n",
    "    n_int = BinaryToDecimal.convert(n)\n",
    "\n",
    "    mask = ~(1 << (i - 1))\n",
    "\n",
    "    return n_int & mask\n",
    "\n",
    "decimal_number = resetBit('1010110', 5)\n",
    "binary_number = DecimalToBinary.convert(decimal_number)\n",
    "\n",
    "print(decimal_number)\n",
    "print(binary_number)"
   ]
  }
 ],
 "metadata": {
  "kernelspec": {
   "display_name": "Python 3.10.2 64-bit",
   "language": "python",
   "name": "python3"
  },
  "language_info": {
   "codemirror_mode": {
    "name": "ipython",
    "version": 3
   },
   "file_extension": ".py",
   "mimetype": "text/x-python",
   "name": "python",
   "nbconvert_exporter": "python",
   "pygments_lexer": "ipython3",
   "version": "3.10.2"
  },
  "orig_nbformat": 4,
  "vscode": {
   "interpreter": {
    "hash": "86513fceec4b1f5160dbca1db624badbef388ffd18b5ac131aa3ada7f8095061"
   }
  }
 },
 "nbformat": 4,
 "nbformat_minor": 2
}
