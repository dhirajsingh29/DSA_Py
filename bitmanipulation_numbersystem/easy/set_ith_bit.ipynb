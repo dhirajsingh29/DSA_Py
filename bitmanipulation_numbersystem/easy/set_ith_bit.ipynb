{
 "cells": [
  {
   "cell_type": "markdown",
   "metadata": {},
   "source": [
    "Set the $i^{th}$ bit of a number.\n",
    "\n",
    "If $i^{th}$ bit is 0 make it 1, if it is 1 leave it as is.\n",
    "\n",
    "Example 1:\n",
    "> Input: n = '1010110, i = 4  \n",
    "> Output: 1011110\n",
    "\n",
    "Example 2:\n",
    "> Input: n = '1010110', i = 2  \n",
    "> Output: 1010110"
   ]
  },
  {
   "cell_type": "code",
   "execution_count": 1,
   "metadata": {},
   "outputs": [],
   "source": [
    "from sys import path as syspath\n",
    "from os import path as ospath\n",
    "\n",
    "module_path = ospath.abspath(ospath.join('..'))\n",
    "syspath.insert(0, module_path)\n",
    "\n",
    "from convert_decimal_to_binary import DecimalToBinary\n",
    "from convert_binary_to_decimal import BinaryToDecimal"
   ]
  },
  {
   "cell_type": "code",
   "execution_count": 2,
   "metadata": {},
   "outputs": [
    {
     "name": "stdout",
     "output_type": "stream",
     "text": [
      "94\n",
      "1011110\n"
     ]
    }
   ],
   "source": [
    "def setBit(n: str, i: int):\n",
    "    n_int = BinaryToDecimal.convert(n)\n",
    "\n",
    "    mask = 1 << (i - 1)\n",
    "\n",
    "    return n_int | mask\n",
    "\n",
    "decimal_number = setBit('1010110', 4)\n",
    "binary_number = DecimalToBinary.convert(decimal_number)\n",
    "\n",
    "print(decimal_number)\n",
    "print(binary_number)"
   ]
  }
 ],
 "metadata": {
  "kernelspec": {
   "display_name": "Python 3.10.2 64-bit",
   "language": "python",
   "name": "python3"
  },
  "language_info": {
   "codemirror_mode": {
    "name": "ipython",
    "version": 3
   },
   "file_extension": ".py",
   "mimetype": "text/x-python",
   "name": "python",
   "nbconvert_exporter": "python",
   "pygments_lexer": "ipython3",
   "version": "3.10.2"
  },
  "orig_nbformat": 4,
  "vscode": {
   "interpreter": {
    "hash": "86513fceec4b1f5160dbca1db624badbef388ffd18b5ac131aa3ada7f8095061"
   }
  }
 },
 "nbformat": 4,
 "nbformat_minor": 2
}
