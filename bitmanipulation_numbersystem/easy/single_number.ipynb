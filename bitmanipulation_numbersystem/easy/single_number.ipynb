{
 "cells": [
  {
   "cell_type": "markdown",
   "metadata": {},
   "source": [
    "[Leetcode - 136] Single Number\n",
    "\n",
    "Given a **non-empty** array of integers $nums$, every element appears *twice* except for one. Find that single one.\n",
    "\n",
    "You must implement a solution with a linear runtime complexity and use only constant extra space.\n",
    "\n",
    "Example 1:\n",
    "> Input: $nums = [2,2,1]$  \n",
    "> Output: 1\n",
    "\n",
    "Example 2:\n",
    "> Input: $nums = [4,1,2,1,2]$  \n",
    "> Output: 4\n",
    "\n",
    "Example 3:\n",
    "> Input: $nums = [1]$  \n",
    "> Output: 1\n",
    "\n",
    "Constraints:\n",
    "> - $1 <= nums.length <= 3 * 10^{4}$\n",
    "> - $-3 * 10^{4} <= nums[i] <= 3 * 10^{4}$\n",
    "> - Each element in the array appears twice except for one element which appears only once."
   ]
  },
  {
   "cell_type": "code",
   "execution_count": 1,
   "metadata": {},
   "outputs": [
    {
     "data": {
      "text/plain": [
       "6"
      ]
     },
     "execution_count": 1,
     "metadata": {},
     "output_type": "execute_result"
    }
   ],
   "source": [
    "from typing import List\n",
    "\n",
    "def singleNumber(nums: List[int]) -> int:\n",
    "    res = 0\n",
    "\n",
    "    for num in nums:\n",
    "        res ^= num\n",
    "\n",
    "    return res\n",
    "\n",
    "# nums = [2, 2, 1]\n",
    "# nums = [4, 1, 2, 1, 2]\n",
    "nums = [2, 3, 4, 1, 2, 1, 3, 6, 4]\n",
    "\n",
    "singleNumber(nums)"
   ]
  }
 ],
 "metadata": {
  "kernelspec": {
   "display_name": "Python 3.10.2 64-bit",
   "language": "python",
   "name": "python3"
  },
  "language_info": {
   "codemirror_mode": {
    "name": "ipython",
    "version": 3
   },
   "file_extension": ".py",
   "mimetype": "text/x-python",
   "name": "python",
   "nbconvert_exporter": "python",
   "pygments_lexer": "ipython3",
   "version": "3.10.2"
  },
  "orig_nbformat": 4,
  "vscode": {
   "interpreter": {
    "hash": "86513fceec4b1f5160dbca1db624badbef388ffd18b5ac131aa3ada7f8095061"
   }
  }
 },
 "nbformat": 4,
 "nbformat_minor": 2
}
