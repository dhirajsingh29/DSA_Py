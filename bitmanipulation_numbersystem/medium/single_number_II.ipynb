{
 "cells": [
  {
   "cell_type": "markdown",
   "metadata": {},
   "source": [
    "[Leetcode - 137] Single Number II\n",
    "\n",
    "Given an integer array $nums$ where every element appears **three times** except for one, which appears **exactly once**. *Find the single element and return it*.\n",
    "\n",
    "You must implement a solution with a linear runtime complexity and use only constant extra space.\n",
    "\n",
    "Example 1:\n",
    "> Input: $nums = [2,2,3,2]$  \n",
    "> Output: 3\n",
    "\n",
    "Example 2:\n",
    "> Input: $nums = [0,1,0,1,0,1,99]$  \n",
    "> Output: 99\n",
    "\n",
    "Constraints:\n",
    "> - $1 <= nums.length <= 3 * 10^{4}$\n",
    "> - $-2^{31} <= nums[i] <= 2^{31} - 1$\n",
    "> - Each element in $nums$ appears exactly **three times** except for one element which appears **once**.\n"
   ]
  },
  {
   "cell_type": "code",
   "execution_count": 30,
   "metadata": {},
   "outputs": [
    {
     "data": {
      "text/plain": [
       "-5"
      ]
     },
     "execution_count": 30,
     "metadata": {},
     "output_type": "execute_result"
    }
   ],
   "source": [
    "from typing import List\n",
    "\n",
    "def singleNumber(nums: List[int]) -> int:\n",
    "    ans = 0\n",
    "\n",
    "    for i in range(0, 32):\n",
    "        sum = 0\n",
    "\n",
    "        for j in range(0, len(nums)):\n",
    "            if (((nums[j] >> i) & 1) == 1):\n",
    "                sum += 1\n",
    "        \n",
    "        sum %= 3\n",
    "        if sum != 0:\n",
    "            # this ans - (2**31)*sum is required because of the way python handles int\n",
    "            # python doesn't have any restriction on the length of int like C# or Java\n",
    "            ans = (ans - (2**31)*sum if i == 31 else ans) | (sum << i)\n",
    "    \n",
    "    return ans\n",
    "\n",
    "# nums = [2,2,3,2]\n",
    "# nums = [-2,-2,3,-2]\n",
    "# nums = [0,1,0,1,0,1,99]\n",
    "nums = [-2,-2,1,1,4,1,4,4,-5,-2]\n",
    "# nums = [-2,-2,-5,-2]\n",
    "\n",
    "singleNumber(nums)"
   ]
  },
  {
   "cell_type": "code",
   "execution_count": 28,
   "metadata": {},
   "outputs": [
    {
     "data": {
      "text/plain": [
       "-5"
      ]
     },
     "execution_count": 28,
     "metadata": {},
     "output_type": "execute_result"
    }
   ],
   "source": [
    "from typing import List\n",
    "\n",
    "def singleNumber(nums: List[int]) -> int:\n",
    "        bits = [0] * 32\n",
    "\n",
    "        for num in nums:\n",
    "            for i in range(32):\n",
    "                if abs(num) & (1 << i):\n",
    "                    bits[i] += 1\n",
    "        res = 0\n",
    "        for i in range(32):\n",
    "            if bits[i] % 3 == 1:\n",
    "                res |= 1 << i\n",
    "\n",
    "        i = 0\n",
    "        j = 0\n",
    "        for num in nums:\n",
    "            if num == res:\n",
    "                i += 1\n",
    "            if -num == res:\n",
    "                j += 1\n",
    "        if i == 1:\n",
    "            return res\n",
    "        return -res\n",
    "\n",
    "nums = [-2,-2,1,1,4,1,4,4,-5,-2]\n",
    "\n",
    "singleNumber(nums)"
   ]
  },
  {
   "cell_type": "code",
   "execution_count": 32,
   "metadata": {},
   "outputs": [
    {
     "data": {
      "text/plain": [
       "-5"
      ]
     },
     "execution_count": 32,
     "metadata": {},
     "output_type": "execute_result"
    }
   ],
   "source": [
    "from typing import List\n",
    "\n",
    "def singleNumber(nums: List[int]) -> int:\n",
    "    x = 0\n",
    "    y = 0\n",
    "    mask = 0\n",
    "    for num in nums:\n",
    "        y ^= x & num\n",
    "        x ^= num\n",
    "        mask = ~(x & y)\n",
    "        y &= mask\n",
    "        x &= mask\n",
    "    return x\n",
    "    \n",
    "nums = [-2,-2,1,1,4,1,4,4,-5,-2]\n",
    "\n",
    "singleNumber(nums)"
   ]
  }
 ],
 "metadata": {
  "kernelspec": {
   "display_name": "Python 3.10.7 64-bit",
   "language": "python",
   "name": "python3"
  },
  "language_info": {
   "codemirror_mode": {
    "name": "ipython",
    "version": 3
   },
   "file_extension": ".py",
   "mimetype": "text/x-python",
   "name": "python",
   "nbconvert_exporter": "python",
   "pygments_lexer": "ipython3",
   "version": "3.10.7"
  },
  "orig_nbformat": 4,
  "vscode": {
   "interpreter": {
    "hash": "0173b0da9d365336acbfe6927fd82c2d336bfabf4156e49abd302b7e05928bca"
   }
  }
 },
 "nbformat": 4,
 "nbformat_minor": 2
}
