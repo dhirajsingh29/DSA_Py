{
 "cells": [
  {
   "cell_type": "code",
   "execution_count": 1,
   "metadata": {},
   "outputs": [],
   "source": [
    "from typing import List"
   ]
  },
  {
   "cell_type": "markdown",
   "metadata": {},
   "source": [
    "[Leetcode - 344]  \n",
    "Write a function that reverses a string. The input string is given as an array of characters s.  \n",
    "You must do this by modifying the input array in-place with O(1) extra memory."
   ]
  },
  {
   "cell_type": "code",
   "execution_count": 3,
   "metadata": {},
   "outputs": [
    {
     "data": {
      "text/plain": [
       "['o', 'l', 'l', 'e', 'h']"
      ]
     },
     "execution_count": 3,
     "metadata": {},
     "output_type": "execute_result"
    }
   ],
   "source": [
    "def reverse_string(s: List[str]) -> None:\n",
    "    i = 0\n",
    "    j = len(s) - 1\n",
    "\n",
    "    while i < j:\n",
    "        ch = s[i]\n",
    "        s[i] = s[j]\n",
    "        s[j] = ch\n",
    "\n",
    "        i += 1\n",
    "        j -= 1\n",
    "\n",
    "    return s\n",
    "\n",
    "s = [\"h\", \"e\", \"l\", \"l\", \"o\"]\n",
    "reverse_string(s)"
   ]
  }
 ],
 "metadata": {
  "kernelspec": {
   "display_name": "Python 3.10.2 64-bit",
   "language": "python",
   "name": "python3"
  },
  "language_info": {
   "codemirror_mode": {
    "name": "ipython",
    "version": 3
   },
   "file_extension": ".py",
   "mimetype": "text/x-python",
   "name": "python",
   "nbconvert_exporter": "python",
   "pygments_lexer": "ipython3",
   "version": "3.10.2"
  },
  "orig_nbformat": 4,
  "vscode": {
   "interpreter": {
    "hash": "86513fceec4b1f5160dbca1db624badbef388ffd18b5ac131aa3ada7f8095061"
   }
  }
 },
 "nbformat": 4,
 "nbformat_minor": 2
}
