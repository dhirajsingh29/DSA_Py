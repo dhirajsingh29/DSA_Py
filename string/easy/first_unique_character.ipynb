{
 "cells": [
  {
   "cell_type": "markdown",
   "metadata": {},
   "source": [
    "[Leetcode - 387]  \n",
    "Given a string s, find the first non-repeating character in it and return its index.  \n",
    "If it does not exist, return -1.  \n",
    "\n",
    "Constraints:  \n",
    "> 1 <= s.length <= 105  \n",
    "> s consists of only lowercase English letters."
   ]
  },
  {
   "cell_type": "code",
   "execution_count": 3,
   "metadata": {},
   "outputs": [
    {
     "data": {
      "text/plain": [
       "2"
      ]
     },
     "execution_count": 3,
     "metadata": {},
     "output_type": "execute_result"
    }
   ],
   "source": [
    "def first_unique_character(s: str) -> int:\n",
    "    count = [0] * 26\n",
    "\n",
    "    for ch in s:\n",
    "        count[ord(ch) - ord('a')] += 1\n",
    "\n",
    "    for i in range(len(s)):\n",
    "        if count[ord(s[i]) - ord('a')] == 1:\n",
    "            return i\n",
    "    \n",
    "    return -1\n",
    "\n",
    "s = \"leetcode\"\n",
    "# s = \"aabb\"\n",
    "# s = \"loveleetcode\"\n",
    "first_unique_character(s)"
   ]
  }
 ],
 "metadata": {
  "kernelspec": {
   "display_name": "Python 3.10.2 64-bit",
   "language": "python",
   "name": "python3"
  },
  "language_info": {
   "codemirror_mode": {
    "name": "ipython",
    "version": 3
   },
   "file_extension": ".py",
   "mimetype": "text/x-python",
   "name": "python",
   "nbconvert_exporter": "python",
   "pygments_lexer": "ipython3",
   "version": "3.10.2"
  },
  "orig_nbformat": 4,
  "vscode": {
   "interpreter": {
    "hash": "86513fceec4b1f5160dbca1db624badbef388ffd18b5ac131aa3ada7f8095061"
   }
  }
 },
 "nbformat": 4,
 "nbformat_minor": 2
}
