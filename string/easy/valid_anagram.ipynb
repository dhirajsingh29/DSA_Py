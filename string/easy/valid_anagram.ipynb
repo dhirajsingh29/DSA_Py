{
 "cells": [
  {
   "cell_type": "markdown",
   "metadata": {},
   "source": [
    "[Leetcode - 242]  \n",
    "Given two strings s and t, return true if t is an anagram of s, and false otherwise.  \n",
    "An Anagram is a word or phrase formed by rearranging the letters of a different word or phrase, typically using all the original letters exactly once."
   ]
  },
  {
   "cell_type": "code",
   "execution_count": 2,
   "metadata": {},
   "outputs": [
    {
     "data": {
      "text/plain": [
       "False"
      ]
     },
     "execution_count": 2,
     "metadata": {},
     "output_type": "execute_result"
    }
   ],
   "source": [
    "def valid_anagram(s: str, t: str) -> bool:\n",
    "    if len(s) != len(t):\n",
    "        return False\n",
    "\n",
    "    # initialize an array of lenght 26 with 0\n",
    "    char_count = [0] * 26\n",
    "\n",
    "    # ord function returns the Unicode code from a given character\n",
    "    for i in range(len(s)):\n",
    "        char_count[ord(s[i]) - ord('a')] += 1\n",
    "        char_count[ord(t[i]) - ord('a')] -= 1\n",
    "\n",
    "    for count in char_count:\n",
    "        if count != 0:\n",
    "            return False\n",
    "    \n",
    "    return True\n",
    "\n",
    "s = 'anagram'\n",
    "t = 'nagaram'\n",
    "\n",
    "# s = 'rat'\n",
    "# t = 'car'\n",
    "valid_anagram(s, t)"
   ]
  }
 ],
 "metadata": {
  "kernelspec": {
   "display_name": "Python 3.10.2 64-bit",
   "language": "python",
   "name": "python3"
  },
  "language_info": {
   "codemirror_mode": {
    "name": "ipython",
    "version": 3
   },
   "file_extension": ".py",
   "mimetype": "text/x-python",
   "name": "python",
   "nbconvert_exporter": "python",
   "pygments_lexer": "ipython3",
   "version": "3.10.2"
  },
  "orig_nbformat": 4,
  "vscode": {
   "interpreter": {
    "hash": "86513fceec4b1f5160dbca1db624badbef388ffd18b5ac131aa3ada7f8095061"
   }
  }
 },
 "nbformat": 4,
 "nbformat_minor": 2
}
