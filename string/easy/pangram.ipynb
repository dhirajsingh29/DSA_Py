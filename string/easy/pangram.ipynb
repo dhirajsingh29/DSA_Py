{
 "cells": [
  {
   "cell_type": "markdown",
   "metadata": {},
   "source": [
    "[Leetcode - 1832]  \n",
    "A pangram is a sentence where every letter of the English alphabet appears at least once.  \n",
    "Given a string sentence containing only lowercase English letters, return true if sentence is a pangram, or false otherwise."
   ]
  },
  {
   "cell_type": "code",
   "execution_count": 4,
   "metadata": {},
   "outputs": [
    {
     "data": {
      "text/plain": [
       "True"
      ]
     },
     "execution_count": 4,
     "metadata": {},
     "output_type": "execute_result"
    }
   ],
   "source": [
    "def check_if_pangram(s: str) -> bool:\n",
    "    char_count = [0] * 26\n",
    "\n",
    "    for ch in s:\n",
    "        char_count[ord(ch) - ord('a')] += 1\n",
    "\n",
    "    for count in char_count:\n",
    "        if count == 0:\n",
    "            return False\n",
    "\n",
    "    return True\n",
    "\n",
    "s = 'thequickbrownfoxjumpsoverthelazydog'\n",
    "# s = 'leetcode'\n",
    "check_if_pangram(s)"
   ]
  }
 ],
 "metadata": {
  "kernelspec": {
   "display_name": "Python 3.10.2 64-bit",
   "language": "python",
   "name": "python3"
  },
  "language_info": {
   "codemirror_mode": {
    "name": "ipython",
    "version": 3
   },
   "file_extension": ".py",
   "mimetype": "text/x-python",
   "name": "python",
   "nbconvert_exporter": "python",
   "pygments_lexer": "ipython3",
   "version": "3.10.2"
  },
  "orig_nbformat": 4,
  "vscode": {
   "interpreter": {
    "hash": "86513fceec4b1f5160dbca1db624badbef388ffd18b5ac131aa3ada7f8095061"
   }
  }
 },
 "nbformat": 4,
 "nbformat_minor": 2
}
