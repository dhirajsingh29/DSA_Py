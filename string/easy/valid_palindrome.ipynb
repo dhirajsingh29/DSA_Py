{
 "cells": [
  {
   "cell_type": "markdown",
   "metadata": {},
   "source": [
    "[Leetcode - 125]  \n",
    "A phrase is a palindrome if, after converting all uppercase letters into lowercase letters and removing all non-alphanumeric characters, \n",
    "it reads the same forward and backward. Alphanumeric characters include letters and numbers.  \n",
    "Given a string s, return true if it is a palindrome, or false otherwise."
   ]
  },
  {
   "cell_type": "code",
   "execution_count": 3,
   "metadata": {},
   "outputs": [
    {
     "data": {
      "text/plain": [
       "False"
      ]
     },
     "execution_count": 3,
     "metadata": {},
     "output_type": "execute_result"
    }
   ],
   "source": [
    "def is_palindrome(s: str) -> bool:\n",
    "    new_str = \"\"\n",
    "\n",
    "    for ch in s:\n",
    "        if ((ord(ch) >= ord('0') and ord(ch) <= ord('9')) or \n",
    "            (ord(ch) >= ord('A') and ord(ch) <= ord('Z')) or \n",
    "            (ord(ch) >= ord('a') and ord(ch) <= ord('z'))):\n",
    "            new_str += ch\n",
    "\n",
    "    i = 0\n",
    "    j = len(s) - 1\n",
    "\n",
    "    while i < j:\n",
    "        if new_str[i] == new_str[j]:\n",
    "            i += 1\n",
    "            j -= 1\n",
    "        else:\n",
    "            return False\n",
    "\n",
    "    return True\n",
    "\n",
    "s = \"abcddcba\"\n",
    "# s = \"abcdcba\"\n",
    "# s = \"abcdecba\"\n",
    "is_palindrome(s)"
   ]
  }
 ],
 "metadata": {
  "kernelspec": {
   "display_name": "Python 3.10.2 64-bit",
   "language": "python",
   "name": "python3"
  },
  "language_info": {
   "codemirror_mode": {
    "name": "ipython",
    "version": 3
   },
   "file_extension": ".py",
   "mimetype": "text/x-python",
   "name": "python",
   "nbconvert_exporter": "python",
   "pygments_lexer": "ipython3",
   "version": "3.10.2"
  },
  "orig_nbformat": 4,
  "vscode": {
   "interpreter": {
    "hash": "86513fceec4b1f5160dbca1db624badbef388ffd18b5ac131aa3ada7f8095061"
   }
  }
 },
 "nbformat": 4,
 "nbformat_minor": 2
}
