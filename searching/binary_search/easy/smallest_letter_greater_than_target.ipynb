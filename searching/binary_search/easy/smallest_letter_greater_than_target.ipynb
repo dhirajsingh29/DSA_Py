{
 "cells": [
  {
   "cell_type": "markdown",
   "metadata": {},
   "source": [
    "[Leetcode - 744]  \n",
    "Given a characters array `letters` that is sorted in non-decreasing order and a character `target`, return *the smallest character in the array that is larger than* `target`.\n",
    "\n",
    "**Note** that the letters wrap around.\n",
    "- For example, if `target == 'z'` and `letters == ['a', 'b']`, the answer is `'a'`.\n",
    "\n",
    "Example 1:\n",
    "> Input: letters = [\"c\",\"f\",\"j\"], target = \"a\"  \n",
    "> Output: \"c\"\n",
    "\n",
    "Example 2:\n",
    "> Input: letters = [\"c\",\"f\",\"j\"], target = \"c\"  \n",
    "> Output: \"f\"\n",
    "\n",
    "Example 3:\n",
    "> Input: letters = [\"c\",\"f\",\"j\"], target = \"d\"  \n",
    "> Output: \"f\"\n",
    "\n",
    "Constraints:\n",
    "- 2 <= letters.length <= 104\n",
    "- letters[i] is a lowercase English letter.\n",
    "- letters is sorted in non-decreasing order.\n",
    "- letters contains at least two different characters.\n",
    "- target is a lowercase English letter.\n"
   ]
  },
  {
   "cell_type": "code",
   "execution_count": 6,
   "metadata": {},
   "outputs": [
    {
     "data": {
      "text/plain": [
       "'c'"
      ]
     },
     "execution_count": 6,
     "metadata": {},
     "output_type": "execute_result"
    }
   ],
   "source": [
    "from typing import List\n",
    "\n",
    "def next_greatest_letter(letters: List[str], target: str) -> str:\n",
    "\n",
    "    start = 0\n",
    "    end = len(letters) - 1\n",
    "\n",
    "    while start <= end:\n",
    "        mid = start + (end - start) // 2\n",
    "\n",
    "        if ord(letters[mid]) <= ord(target):\n",
    "            start = mid + 1\n",
    "        else:\n",
    "            end = mid -1\n",
    "\n",
    "    # letters[start] will suffice for cases where some larger character than target is present in letters array .\n",
    "    # In case no character is larger than the target in letters array, start will reach the end i.e. start = length of \n",
    "    # letters array. Hence, letters[start % len(letters)]. This will take care of both the cases.\n",
    "    return letters[start % len(letters)]\n",
    "\n",
    "letters = [\"c\",\"f\",\"j\"] \n",
    "target = \"j\"\n",
    "\n",
    "next_greatest_letter(letters, target)"
   ]
  }
 ],
 "metadata": {
  "kernelspec": {
   "display_name": "Python 3.10.2 64-bit",
   "language": "python",
   "name": "python3"
  },
  "language_info": {
   "codemirror_mode": {
    "name": "ipython",
    "version": 3
   },
   "file_extension": ".py",
   "mimetype": "text/x-python",
   "name": "python",
   "nbconvert_exporter": "python",
   "pygments_lexer": "ipython3",
   "version": "3.10.2"
  },
  "orig_nbformat": 4,
  "vscode": {
   "interpreter": {
    "hash": "86513fceec4b1f5160dbca1db624badbef388ffd18b5ac131aa3ada7f8095061"
   }
  }
 },
 "nbformat": 4,
 "nbformat_minor": 2
}
