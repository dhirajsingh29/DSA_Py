{
 "cells": [
  {
   "cell_type": "markdown",
   "metadata": {},
   "source": [
    "[GeeksForGeeks]  \n",
    "Find the Rotation Count in Rotated Sorted array.\n",
    "\n",
    "Given an array `arr` of size `N` having distinct numbers sorted in increasing order and the array has been **right rotated** (i.e, the last element will be cyclically shifted to the starting position of the array) `k` number of times, the task is to find the value of k."
   ]
  },
  {
   "cell_type": "code",
   "execution_count": 7,
   "metadata": {},
   "outputs": [
    {
     "data": {
      "text/plain": [
       "2"
      ]
     },
     "execution_count": 7,
     "metadata": {},
     "output_type": "execute_result"
    }
   ],
   "source": [
    "from typing import List\n",
    "\n",
    "def findRotationCount(arr: List[int]) -> int:\n",
    "\n",
    "    # peakIndex = findPivot(arr)\n",
    "\n",
    "    peakIndex = findPivotWithDuplicates(arr)\n",
    "\n",
    "    return peakIndex + 1\n",
    "    \n",
    "def findPivot(arr: List[int]) -> int:\n",
    "\n",
    "    start, end = 0, len(arr) - 1\n",
    "\n",
    "    while start <= end:\n",
    "\n",
    "        mid = start + (end - start) // 2\n",
    "\n",
    "        if mid < end and arr[mid] > arr[mid + 1]:\n",
    "            return mid\n",
    "        \n",
    "        if mid > start and arr[mid] < arr[mid - 1]:\n",
    "            return mid - 1\n",
    "\n",
    "        if arr[start] >= arr[mid]:\n",
    "            end = mid - 1\n",
    "        else:\n",
    "            start = mid + 1\n",
    "\n",
    "    return -1\n",
    "\n",
    "def findPivotWithDuplicates(arr : List[int]) -> int:\n",
    "\n",
    "    start, end = 0, len(arr) - 1\n",
    "\n",
    "    while start <= end:\n",
    "\n",
    "        mid = start + (end - start) // 2\n",
    "\n",
    "        if mid < end and arr[mid] > arr[mid + 1]:\n",
    "            return mid\n",
    "        \n",
    "        if mid > start and arr[mid] < arr[mid - 1]:\n",
    "            return mid - 1\n",
    "\n",
    "        if arr[mid] == arr[start] and arr[mid] == arr[end]:\n",
    "\n",
    "            # if start is pivot then return start else skip the duplicate\n",
    "            if start < end and arr[start] > arr[start + 1]:\n",
    "                return start\n",
    "            start += 1\n",
    "\n",
    "            # if end is pivot then return end else skip the duplicate\n",
    "            if start < end and arr[end] < arr[end - 1]:\n",
    "                return end - 1\n",
    "            end -= 1\n",
    "        elif (arr[start] < arr[mid]) or (arr[start] == arr[mid] and arr[mid] > arr[end]):\n",
    "            start = mid + 1\n",
    "        else:\n",
    "            end = mid - 1\n",
    "\n",
    "    return -1\n",
    "\n",
    "# arr = [5, 6, 7, 1, 2, 3, 4]\n",
    "# arr = [7, 1, 2, 3, 4, 5, 6]\n",
    "# arr = [2, 3, 4, 5, 6, 7, 1]\n",
    "\n",
    "# arr = [6, 6, 6, 1, 2, 2, 3]\n",
    "# arr = [6, 6, 1, 2, 2, 3, 6]\n",
    "arr = [6, 6, 1, 6, 6]\n",
    "\n",
    "findRotationCount(arr)"
   ]
  }
 ],
 "metadata": {
  "kernelspec": {
   "display_name": "Python 3.10.2 64-bit",
   "language": "python",
   "name": "python3"
  },
  "language_info": {
   "codemirror_mode": {
    "name": "ipython",
    "version": 3
   },
   "file_extension": ".py",
   "mimetype": "text/x-python",
   "name": "python",
   "nbconvert_exporter": "python",
   "pygments_lexer": "ipython3",
   "version": "3.10.2"
  },
  "orig_nbformat": 4,
  "vscode": {
   "interpreter": {
    "hash": "86513fceec4b1f5160dbca1db624badbef388ffd18b5ac131aa3ada7f8095061"
   }
  }
 },
 "nbformat": 4,
 "nbformat_minor": 2
}
