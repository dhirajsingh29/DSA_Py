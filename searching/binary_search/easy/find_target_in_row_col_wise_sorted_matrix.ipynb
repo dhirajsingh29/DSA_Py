{
 "cells": [
  {
   "cell_type": "markdown",
   "metadata": {},
   "source": [
    "Given a matrix, sorted row wise and column wise. Find the target element and return indices if found else [-1, -1]."
   ]
  },
  {
   "cell_type": "code",
   "execution_count": 10,
   "metadata": {},
   "outputs": [
    {
     "data": {
      "text/plain": [
       "[-1, -1]"
      ]
     },
     "execution_count": 10,
     "metadata": {},
     "output_type": "execute_result"
    }
   ],
   "source": [
    "from typing import List\n",
    "\n",
    "def findTarget(matrix: List[List[int]], target: int) -> List[int]:\n",
    "    m = len(matrix)\n",
    "    n = len(matrix[0])\n",
    "\n",
    "    row = 0\n",
    "    col = n - 1\n",
    "\n",
    "    while row < m and col >= 0:\n",
    "\n",
    "        if target == matrix[row][col]:\n",
    "            return [row, col]\n",
    "\n",
    "        if matrix[row][col] < target:\n",
    "            row += 1\n",
    "        else:\n",
    "            col -= 1\n",
    "\n",
    "    return [-1, -1]\n",
    "\n",
    "matrix = [[1, 2, 3, 4], [5, 6, 7, 8], [9, 10, 11, 12], [13, 14, 15, 16]]\n",
    "target = 10\n",
    "\n",
    "# matrix = [[10, 20, 30, 40], [15, 25, 35, 45], [28, 29, 37, 49], [33, 34, 38, 50]]\n",
    "# target = 37\n",
    "\n",
    "# matrix = [[10, 20, 30, 40], [15, 25, 35, 45], [28, 29, 37, 49], [33, 34, 38, 50]]\n",
    "# target = 27\n",
    "\n",
    "findTarget(matrix, target)"
   ]
  }
 ],
 "metadata": {
  "kernelspec": {
   "display_name": "Python 3.10.2 64-bit",
   "language": "python",
   "name": "python3"
  },
  "language_info": {
   "codemirror_mode": {
    "name": "ipython",
    "version": 3
   },
   "file_extension": ".py",
   "mimetype": "text/x-python",
   "name": "python",
   "nbconvert_exporter": "python",
   "pygments_lexer": "ipython3",
   "version": "3.10.2"
  },
  "orig_nbformat": 4,
  "vscode": {
   "interpreter": {
    "hash": "86513fceec4b1f5160dbca1db624badbef388ffd18b5ac131aa3ada7f8095061"
   }
  }
 },
 "nbformat": 4,
 "nbformat_minor": 2
}
