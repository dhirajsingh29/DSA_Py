{
 "cells": [
  {
   "cell_type": "code",
   "execution_count": 5,
   "metadata": {},
   "outputs": [
    {
     "data": {
      "text/plain": [
       "0"
      ]
     },
     "execution_count": 5,
     "metadata": {},
     "output_type": "execute_result"
    }
   ],
   "source": [
    "from typing import List\n",
    "\n",
    "# binary search when elements in nums are in ascending order\n",
    "def binary_search(nums: List[int], target: int) -> int:\n",
    "    start = 0\n",
    "    end = len(nums) - 1\n",
    "\n",
    "    while start <= end:\n",
    "\n",
    "        mid = start + (end - start) // 2\n",
    "\n",
    "        if target < nums[mid]:\n",
    "            end = mid - 1\n",
    "        elif target > nums[mid]:\n",
    "            start = mid + 1\n",
    "        else:\n",
    "            return mid\n",
    "    \n",
    "    return -1\n",
    "\n",
    "nums = [-12, -9, -5, -1, 2, 4, 6, 9, 11, 13, 14, 19, 20, 27, 38, 40]\n",
    "target = -12\n",
    "\n",
    "binary_search(nums, target)"
   ]
  },
  {
   "cell_type": "code",
   "execution_count": 12,
   "metadata": {},
   "outputs": [
    {
     "data": {
      "text/plain": [
       "-1"
      ]
     },
     "execution_count": 12,
     "metadata": {},
     "output_type": "execute_result"
    }
   ],
   "source": [
    "from typing import List\n",
    "\n",
    "# binary search when elements in nums are in descending order\n",
    "def binary_search(nums: List[int], target: int) -> int:\n",
    "    start = 0\n",
    "    end = len(nums) - 1\n",
    "\n",
    "    while start <= end:\n",
    "\n",
    "        mid = start + (end - start) // 2\n",
    "\n",
    "        if target < nums[mid]:\n",
    "            start = mid + 1\n",
    "        elif target > nums[mid]:\n",
    "            end = mid - 1\n",
    "        else:\n",
    "            return mid\n",
    "    \n",
    "    return -1\n",
    "\n",
    "nums = [40, 38, 27, 20, 19, 14, 13, 11, 9, 6, 4, 2, -1, -5, -9, -12]\n",
    "target = 13\n",
    "\n",
    "binary_search(nums, target)"
   ]
  }
 ],
 "metadata": {
  "kernelspec": {
   "display_name": "Python 3.10.2 64-bit",
   "language": "python",
   "name": "python3"
  },
  "language_info": {
   "codemirror_mode": {
    "name": "ipython",
    "version": 3
   },
   "file_extension": ".py",
   "mimetype": "text/x-python",
   "name": "python",
   "nbconvert_exporter": "python",
   "pygments_lexer": "ipython3",
   "version": "3.10.2"
  },
  "orig_nbformat": 4,
  "vscode": {
   "interpreter": {
    "hash": "86513fceec4b1f5160dbca1db624badbef388ffd18b5ac131aa3ada7f8095061"
   }
  }
 },
 "nbformat": 4,
 "nbformat_minor": 2
}
