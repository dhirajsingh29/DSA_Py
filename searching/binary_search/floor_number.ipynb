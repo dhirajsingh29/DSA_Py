{
 "cells": [
  {
   "cell_type": "markdown",
   "metadata": {},
   "source": [
    "Given an integer array *nums* and a *target* value, find the floor number.\n",
    "\n",
    "Floor: largest number <= target"
   ]
  },
  {
   "cell_type": "code",
   "execution_count": 6,
   "metadata": {},
   "outputs": [
    {
     "data": {
      "text/plain": [
       "-1"
      ]
     },
     "execution_count": 6,
     "metadata": {},
     "output_type": "execute_result"
    }
   ],
   "source": [
    "from typing import List\n",
    "\n",
    "def floor_number(nums: List[int], target: int) -> int:\n",
    "\n",
    "    start = 0\n",
    "    end = len(nums) - 1\n",
    "\n",
    "    while start <= end:\n",
    "\n",
    "        mid = start + (end - start) // 2\n",
    "\n",
    "        if nums[mid] < target:\n",
    "            start = mid + 1\n",
    "        elif nums[mid] > target:\n",
    "            end = mid - 1\n",
    "        else:\n",
    "            return nums[mid]\n",
    "\n",
    "    # when loop breaks, start = end + 1. Hence, nums[end] will be the largest number smaller than target\n",
    "    # if target is smaller than the smallest number in array, that case will also be handled by this as end = -1\n",
    "    return nums[end]\n",
    "\n",
    "nums = [2, 3, 5, 9, 14, 16, 18]\n",
    "target = 4\n",
    "\n",
    "floor_number(nums, target)"
   ]
  }
 ],
 "metadata": {
  "kernelspec": {
   "display_name": "Python 3.10.2 64-bit",
   "language": "python",
   "name": "python3"
  },
  "language_info": {
   "codemirror_mode": {
    "name": "ipython",
    "version": 3
   },
   "file_extension": ".py",
   "mimetype": "text/x-python",
   "name": "python",
   "nbconvert_exporter": "python",
   "pygments_lexer": "ipython3",
   "version": "3.10.2"
  },
  "orig_nbformat": 4,
  "vscode": {
   "interpreter": {
    "hash": "86513fceec4b1f5160dbca1db624badbef388ffd18b5ac131aa3ada7f8095061"
   }
  }
 },
 "nbformat": 4,
 "nbformat_minor": 2
}
