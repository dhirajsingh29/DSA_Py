{
 "cells": [
  {
   "cell_type": "markdown",
   "metadata": {},
   "source": [
    "[Leetcode - 162]  \n",
    "A peak element is an element that is strictly greater than its neighbors.\n",
    "\n",
    "Given a **0-indexed** integer array `nums`, find a peak element, and return its index. If the array contains multiple peaks, return the index to **any of the peaks**.\n",
    "\n",
    "You may imagine that `nums[-1] = nums[n] = -∞`. In other words, an element is always considered to be strictly greater than a neighbor that is outside the array.\n",
    "\n",
    "You must write an algorithm that runs in `O(log n)` time.\n",
    "\n",
    "Example 1:\n",
    "> Input: nums = [1,2,3,1]  \n",
    "> Output: 2  \n",
    "> Explanation: 3 is a peak element and your function should return the index number 2.\n",
    "\n",
    "Example 2:\n",
    "> Input: nums = [1,2,1,3,5,6,4]  \n",
    "> Output: 5  \n",
    "> Explanation: Your function can return either index number 1 where the peak element is 2, or index number 5 where the peak element is 6.\n",
    "\n",
    "Constraints:\n",
    "> 1 <= nums.length <= 1000  \n",
    "> -231 <= nums[i] <= 231 - 1  \n",
    "> nums[i] != nums[i + 1] for all valid i."
   ]
  },
  {
   "cell_type": "code",
   "execution_count": 2,
   "metadata": {},
   "outputs": [
    {
     "data": {
      "text/plain": [
       "5"
      ]
     },
     "execution_count": 2,
     "metadata": {},
     "output_type": "execute_result"
    }
   ],
   "source": [
    "from typing import List\n",
    "\n",
    "def peakIndex(nums: List[int]) -> int:\n",
    "\n",
    "    start = 0\n",
    "    end = len(nums) - 1\n",
    "\n",
    "    while start < end:\n",
    "\n",
    "        mid = start + (end - start) // 2\n",
    "\n",
    "        if nums[mid] < nums[mid + 1]:\n",
    "            # we are in ascending part of array. \n",
    "            # mid element cannot be the ans as element greater than mid element is present\n",
    "            start = mid + 1\n",
    "        elif nums[mid] > nums[mid + 1]:\n",
    "            # we are in descending part of the array. \n",
    "            # This might be a possible ans, but look at its left first hence end != mid - 1\n",
    "            end = mid\n",
    "\n",
    "    return start # or return end as both will be same\n",
    "\n",
    "# nums = [1,2,3,1]\n",
    "nums = [1,2,1,3,5,6,4]\n",
    "\n",
    "peakIndex(nums)"
   ]
  },
  {
   "cell_type": "markdown",
   "metadata": {},
   "source": [
    "**Complexity Analysis**\n",
    "\n",
    "> Time Complexity: $O(log n)$"
   ]
  }
 ],
 "metadata": {
  "kernelspec": {
   "display_name": "Python 3.10.2 64-bit",
   "language": "python",
   "name": "python3"
  },
  "language_info": {
   "codemirror_mode": {
    "name": "ipython",
    "version": 3
   },
   "file_extension": ".py",
   "mimetype": "text/x-python",
   "name": "python",
   "nbconvert_exporter": "python",
   "pygments_lexer": "ipython3",
   "version": "3.10.2"
  },
  "orig_nbformat": 4,
  "vscode": {
   "interpreter": {
    "hash": "86513fceec4b1f5160dbca1db624badbef388ffd18b5ac131aa3ada7f8095061"
   }
  }
 },
 "nbformat": 4,
 "nbformat_minor": 2
}
