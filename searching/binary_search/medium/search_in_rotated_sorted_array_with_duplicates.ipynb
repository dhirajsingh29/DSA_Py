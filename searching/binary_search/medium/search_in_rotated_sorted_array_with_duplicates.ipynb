{
 "cells": [
  {
   "cell_type": "markdown",
   "metadata": {},
   "source": [
    "[Leetcode - 81]  \n",
    "There is an integer array `nums` sorted in non-decreasing order (not necessarily with **distinct** values).\n",
    "\n",
    "Before being passed to your function, `nums` is **rotated** at an unknown pivot index `k` (`0 <= k < nums.length`) such that the resulting array is `[nums[k], nums[k+1], ..., nums[n-1], nums[0], nums[1], ..., nums[k-1]]` (**0-indexed**). For example, `[0,1,2,4,4,4,5,6,6,7]` might be rotated at pivot index `5` and become `[4,5,6,6,7,0,1,2,4,4]`.\n",
    "\n",
    "Given the array `nums` after the rotation and an integer `target`, return `true` *if* `target` *is in* `nums`*, or* `false` *if it is not in* `nums`.\n",
    "\n",
    "Example 1:\n",
    "> Input: nums = [2,5,6,0,0,1,2], target = 0  \n",
    "> Output: true\n",
    "\n",
    "Example 2:\n",
    "> Input: nums = [2,5,6,0,0,1,2], target = 3  \n",
    "> Output: false\n",
    "\n",
    "Constraints:\n",
    "> 1 <= nums.length <= 5000  \n",
    "> $-10^{4}$ <= nums[i] <= $10^{4}$  \n",
    "> nums is guaranteed to be rotated at some pivot.  \n",
    "> $-10^{4}$ <= target <= $10^{4}$"
   ]
  },
  {
   "cell_type": "code",
   "execution_count": 21,
   "metadata": {},
   "outputs": [
    {
     "data": {
      "text/plain": [
       "True"
      ]
     },
     "execution_count": 21,
     "metadata": {},
     "output_type": "execute_result"
    }
   ],
   "source": [
    "from typing import List\n",
    "\n",
    "def searchTarget(nums: List[int], target: int) -> bool:\n",
    "\n",
    "    pivotIndex = findPivotIndexWithDuplicates(nums)\n",
    "\n",
    "    # if no pivot index is found, means array is not rotated\n",
    "    if pivotIndex == -1:\n",
    "        # normal binary search\n",
    "        return binarySearch(nums, target, 0, len(nums) - 1) != -1\n",
    "\n",
    "    # Case 1: if pivot index is found, there are two ascending sorted arrays\n",
    "    if nums[pivotIndex] == target:\n",
    "        return True\n",
    "\n",
    "    # Case 2: if target >= element at start, then all elements after pivot till end are smaller than target\n",
    "    if target >= nums[0]:\n",
    "        return binarySearch(nums, target, 0, pivotIndex - 1) != -1\n",
    "\n",
    "    # Case 3: if target < element at start, then all elements from start till pivot are larger than target\n",
    "    return binarySearch(nums, target, pivotIndex + 1, len(nums) - 1) != -1\n",
    "\n",
    "def findPivotIndexWithDuplicates(nums: List[int]) -> int:\n",
    "\n",
    "    start = 0\n",
    "    end = len(nums) - 1\n",
    "\n",
    "    while start <= end:\n",
    "\n",
    "        mid = start + (end - start) // 2\n",
    "\n",
    "        # Case 1: nums[mid] > nums[mid + 1]\n",
    "        # this will be unique case, as before peak element, array is in ascending order \n",
    "        # and after peak element also array is in ascending order\n",
    "        if mid < end and nums[mid] > nums[mid + 1]:\n",
    "            return mid\n",
    "\n",
    "        # Case 2: nums[mid] < nums[mid - 1]\n",
    "        # this also will be unique case, as before peak element, array is in ascending order \n",
    "        # and after peak element also array is in ascending order\n",
    "        if mid > start and nums[mid] < nums[mid - 1]:\n",
    "            return mid - 1\n",
    "\n",
    "        # Case 3: elements at mid, start and end are equal\n",
    "        if nums[mid] == nums[start] and nums[mid] == nums[end]:\n",
    "\n",
    "            # check if start is pivot then return start else skip the duplicate\n",
    "            if start < end and nums[start] > nums[start + 1]:\n",
    "                return start\n",
    "            start += 1\n",
    "\n",
    "            # check if end is pivot then return pivot else skip the duplicate\n",
    "            if end > start and nums[end] < nums[end - 1]:\n",
    "                return end - 1\n",
    "            end -= 1\n",
    "\n",
    "        # Case 4: we can neglect all the elements from current start to mid, as all of them will be smaller than next element\n",
    "        elif (nums[start] < nums[mid]) or (nums[start] == nums[mid] and nums[mid] > nums[end]):\n",
    "            start = mid + 1\n",
    "\n",
    "        # Case 5: we can neglect all the elements from mid index to last, as all of them will be smaller than start index element\n",
    "        else:\n",
    "            end = mid -1\n",
    "\n",
    "    return -1\n",
    "\n",
    "def binarySearch(nums: List[int], target: int, start: int, end: int) -> int:\n",
    "\n",
    "    while start <= end:\n",
    "\n",
    "        mid = start + (end - start) // 2\n",
    "\n",
    "        if target > nums[mid]:\n",
    "            start = mid + 1\n",
    "        elif target < nums[mid]:\n",
    "            end = mid - 1\n",
    "        else:\n",
    "            return mid\n",
    "\n",
    "    return -1\n",
    "\n",
    "# nums = [4, 5, 6, 6, 7, 0, 1, 2, 3]\n",
    "nums = [1, 0, 1, 1, 1]\n",
    "# nums = [2, 1, 2, 2, 2]\n",
    "\n",
    "target = 0\n",
    "\n",
    "searchTarget(nums, target)"
   ]
  }
 ],
 "metadata": {
  "kernelspec": {
   "display_name": "Python 3.10.2 64-bit",
   "language": "python",
   "name": "python3"
  },
  "language_info": {
   "codemirror_mode": {
    "name": "ipython",
    "version": 3
   },
   "file_extension": ".py",
   "mimetype": "text/x-python",
   "name": "python",
   "nbconvert_exporter": "python",
   "pygments_lexer": "ipython3",
   "version": "3.10.2"
  },
  "orig_nbformat": 4,
  "vscode": {
   "interpreter": {
    "hash": "86513fceec4b1f5160dbca1db624badbef388ffd18b5ac131aa3ada7f8095061"
   }
  }
 },
 "nbformat": 4,
 "nbformat_minor": 2
}
