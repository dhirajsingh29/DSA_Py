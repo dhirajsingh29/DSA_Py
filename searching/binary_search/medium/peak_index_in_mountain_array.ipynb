{
 "cells": [
  {
   "cell_type": "markdown",
   "metadata": {},
   "source": [
    "[Leetcode - 852]  \n",
    "An array `arr` is a mountain if the following properties hold:\n",
    "- `len(arr) >= 3`\n",
    "- There exists some `i` with `0 < i < len(arr) - 1` such that:\n",
    "    - `arr[0] < arr[1] < ... < arr[i - 1] < arr[i]`\n",
    "    - `arr[i] > arr[i + 1] > ... > arr[arr.length - 1]`\n",
    "\n",
    "Given a mountain array `arr`, return the index `i` such that `arr[0] < arr[1] < ... < arr[i - 1] < arr[i] > arr[i + 1] > ... > arr[arr.length - 1]`.\n",
    "\n",
    "**Note** `Array with such property is called Bitonic array.`\n",
    "\n",
    "Example 1:\n",
    "> Input: arr = [0,1,0]  \n",
    "> Output: 1\n",
    "\n",
    "Example 2:\n",
    "> Input: arr = [0,2,1,0]  \n",
    "> Output: 1\n",
    "\n",
    "Example 3:\n",
    "> Input: arr = [0,10,5,2]  \n",
    "> Output: 1\n",
    "\n",
    "Constraints:\n",
    "> 3 <= arr.length <= $10^{5}$  \n",
    "> 0 <= arr[i] <= $10^{6}$  \n",
    "> arr is guaranteed to be a mountain array.\n"
   ]
  },
  {
   "cell_type": "code",
   "execution_count": 4,
   "metadata": {},
   "outputs": [
    {
     "data": {
      "text/plain": [
       "3"
      ]
     },
     "execution_count": 4,
     "metadata": {},
     "output_type": "execute_result"
    }
   ],
   "source": [
    "from typing import List\n",
    "\n",
    "def peakIndex(arr: List[int]) -> int:\n",
    "\n",
    "    start = 0\n",
    "    end = len(arr) - 1\n",
    "\n",
    "    while start <= end:\n",
    "\n",
    "        if arr[start] < arr[start + 1]:\n",
    "            start += 1\n",
    "        else:\n",
    "            return start\n",
    "\n",
    "        if arr[end] < arr[end - 1]:\n",
    "            end -= 1\n",
    "        else:\n",
    "            return end\n",
    "\n",
    "# arr = [0, 1, 0]\n",
    "# arr = [0, 2, 1, 0]\n",
    "# arr = [0, 10, 5, 2]\n",
    "arr = [1, 4, 7, 10, 9, 8]\n",
    "\n",
    "peakIndex(arr)"
   ]
  },
  {
   "cell_type": "markdown",
   "metadata": {},
   "source": [
    "**Complexity Analysis**\n",
    "\n",
    "> Time Complexity: $O(n)$"
   ]
  },
  {
   "cell_type": "code",
   "execution_count": 8,
   "metadata": {},
   "outputs": [
    {
     "data": {
      "text/plain": [
       "1"
      ]
     },
     "execution_count": 8,
     "metadata": {},
     "output_type": "execute_result"
    }
   ],
   "source": [
    "from typing import List\n",
    "\n",
    "def peakIndex(arr: List[int]) -> int:\n",
    "\n",
    "    start = 0\n",
    "    end = len(arr) - 1\n",
    "\n",
    "    while start < end:\n",
    "\n",
    "        mid = start + (end - start) // 2\n",
    "\n",
    "        if arr[mid] < arr[mid + 1]:\n",
    "            # we are in ascending part of array. \n",
    "            # mid element cannot be the ans as element greater than mid element is present\n",
    "            start = mid + 1\n",
    "        elif arr[mid] > arr[mid + 1]:\n",
    "            # we are in descending part of the array. \n",
    "            # This might be a possible ans, but look at its left first hence end != mid - 1\n",
    "            end = mid\n",
    "\n",
    "    return start # or return end as both will be same\n",
    "\n",
    "# arr = [0, 1, 0]\n",
    "# arr = [0, 2, 1, 0]\n",
    "# arr = [0, 10, 5, 2]\n",
    "arr = [1, 4, 7, 10, 9, 8]\n",
    "\n",
    "peakIndex(arr)"
   ]
  },
  {
   "cell_type": "markdown",
   "metadata": {},
   "source": [
    "**Complexity Analysis**\n",
    "\n",
    "> Time Complexity: $O(log n)$"
   ]
  }
 ],
 "metadata": {
  "kernelspec": {
   "display_name": "Python 3.10.2 64-bit",
   "language": "python",
   "name": "python3"
  },
  "language_info": {
   "codemirror_mode": {
    "name": "ipython",
    "version": 3
   },
   "file_extension": ".py",
   "mimetype": "text/x-python",
   "name": "python",
   "nbconvert_exporter": "python",
   "pygments_lexer": "ipython3",
   "version": "3.10.2"
  },
  "orig_nbformat": 4,
  "vscode": {
   "interpreter": {
    "hash": "86513fceec4b1f5160dbca1db624badbef388ffd18b5ac131aa3ada7f8095061"
   }
  }
 },
 "nbformat": 4,
 "nbformat_minor": 2
}
