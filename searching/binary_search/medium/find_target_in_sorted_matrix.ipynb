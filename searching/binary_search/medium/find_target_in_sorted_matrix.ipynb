{
 "cells": [
  {
   "cell_type": "markdown",
   "metadata": {},
   "source": [
    "Given a sorted matrix, find the target element.\n",
    "\n",
    "|    |col0|col1|col2|col3|\n",
    "|:--:|:--:|:--:|:--:|:--:|\n",
    "|row0| 1 | 2 | 3 | 4 |\n",
    "|row1| 5 | 6 | 7 | 8 |\n",
    "|row2| 9 | 10 | 11 | 12 |\n",
    "|row3| 13 | 14 | 15 | 16 |"
   ]
  },
  {
   "cell_type": "code",
   "execution_count": 4,
   "metadata": {},
   "outputs": [
    {
     "data": {
      "text/plain": [
       "[2, 0]"
      ]
     },
     "execution_count": 4,
     "metadata": {},
     "output_type": "execute_result"
    }
   ],
   "source": [
    "from typing import List\n",
    "\n",
    "def search(matrix: List[List[int]], target: int) -> List[int]:\n",
    "    rows = len(matrix)\n",
    "\n",
    "    # empty matrix\n",
    "    if rows == 0:\n",
    "        return [-1, -1]\n",
    "\n",
    "    cols = len(matrix[0])\n",
    "\n",
    "    # only one row; edge case\n",
    "    if rows == 1:\n",
    "        return binarySearch(matrix, rows = 0, colStart = 0, colEnd = cols - 1, target=target)\n",
    "\n",
    "    rowStart = 0\n",
    "    rowEnd = rows - 1\n",
    "    colMid = cols // 2\n",
    "\n",
    "    # run the loop till two rows are remaining\n",
    "    while rowStart < rowEnd - 1:\n",
    "\n",
    "        mid = rowStart + (rowEnd - rowStart) // 2\n",
    "\n",
    "        if matrix[mid][colMid] == target:\n",
    "            return [mid, colMid]\n",
    "\n",
    "        # rowStart or rowEnd will be equal to mid not mid + 1 or mid -1 respectively\n",
    "        # the row containing mid still needs to be considered, as target might be in that row\n",
    "        if matrix[mid][colMid] < target:\n",
    "            rowStart = mid\n",
    "        else:\n",
    "            rowEnd = mid\n",
    "    \n",
    "    # from here we have two rows\n",
    "\n",
    "    # check whether the target is in the column of two rows\n",
    "    if matrix[rowStart][colMid] == target:\n",
    "        return [rowStart, colMid]\n",
    "    \n",
    "    if matrix[rowStart + 1][colMid] == target:\n",
    "        return [rowStart + 1, mid]\n",
    "\n",
    "    # search in 1st half\n",
    "    if target <= matrix[rowStart][colMid - 1]:\n",
    "        return binarySearch(matrix, rowStart, 0, colMid - 1, target)\n",
    "\n",
    "    # search in 2nd half\n",
    "    if target >= matrix[rowStart][colMid + 1] and target <= matrix[rowStart][cols - 1]:\n",
    "        return binarySearch(matrix, rowStart, colMid + 1, cols - 1, target)\n",
    "\n",
    "    # search in 3rd half\n",
    "    if target <= matrix[rowStart + 1][colMid - 1]:\n",
    "        return binarySearch(matrix, rowStart + 1, 0, colMid - 1, target)\n",
    "\n",
    "    # search in 4th half\n",
    "    else:\n",
    "        return binarySearch(matrix, rowStart + 1, colMid + 1, cols - 1, target)\n",
    "    \n",
    "\n",
    "# search in the row provided between the columns provides [colStart to colEnd]\n",
    "def binarySearch(matrix: List[List[int]], row: int, colStart: int, colEnd: int, target: int) -> List[int]:\n",
    "\n",
    "    while colStart <= colEnd:\n",
    "\n",
    "        mid = colStart + (colEnd - colStart) // 2\n",
    "\n",
    "        if matrix[row][mid] == target:\n",
    "            return [row, mid]\n",
    "\n",
    "        if matrix[row][mid] < target:\n",
    "            colStart = mid + 1\n",
    "        else:\n",
    "            colEnd = mid - 1\n",
    "\n",
    "    return [-1, -1]\n",
    "\n",
    "\n",
    "matrix = [[1, 2, 3, 4], [5, 6, 7, 8], [9, 10, 11, 12], [13, 14, 15, 16]]\n",
    "target = 9\n",
    "\n",
    "search(matrix, target)"
   ]
  }
 ],
 "metadata": {
  "kernelspec": {
   "display_name": "Python 3.10.2 64-bit",
   "language": "python",
   "name": "python3"
  },
  "language_info": {
   "codemirror_mode": {
    "name": "ipython",
    "version": 3
   },
   "file_extension": ".py",
   "mimetype": "text/x-python",
   "name": "python",
   "nbconvert_exporter": "python",
   "pygments_lexer": "ipython3",
   "version": "3.10.2"
  },
  "orig_nbformat": 4,
  "vscode": {
   "interpreter": {
    "hash": "86513fceec4b1f5160dbca1db624badbef388ffd18b5ac131aa3ada7f8095061"
   }
  }
 },
 "nbformat": 4,
 "nbformat_minor": 2
}
