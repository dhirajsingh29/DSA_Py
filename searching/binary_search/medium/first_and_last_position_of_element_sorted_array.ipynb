{
 "cells": [
  {
   "cell_type": "markdown",
   "metadata": {},
   "source": [
    "[Leetcode - 34]  \n",
    "Given an array of integers `nums` sorted in non-decreasing order, find the starting and ending position of a given `target` value.\n",
    "\n",
    "If target is not found in the array, return `[-1, -1]`.\n",
    "\n",
    "You must write an algorithm with O(log n) runtime complexity.\n",
    "\n",
    "Example 1:\n",
    "> Input: nums = [5,7,7,8,8,10], target = 8  \n",
    "> Output: [3,4]\n",
    "\n",
    "Example 2:\n",
    "> Input: nums = [5,7,7,8,8,10], target = 6  \n",
    "> Output: [-1,-1]\n",
    "\n",
    "Example 3:\n",
    "> Input: nums = [], target = 0  \n",
    "> Output: [-1,-1]\n",
    "\n",
    "Constraints:\n",
    "- 0 <= nums.length <= 105\n",
    "- -109 <= nums[i] <= 109\n",
    "- nums is a non-decreasing array.\n",
    "- -109 <= target <= 109\n"
   ]
  },
  {
   "cell_type": "code",
   "execution_count": 25,
   "metadata": {},
   "outputs": [
    {
     "data": {
      "text/plain": [
       "[0, 1]"
      ]
     },
     "execution_count": 25,
     "metadata": {},
     "output_type": "execute_result"
    }
   ],
   "source": [
    "from typing import List\n",
    "\n",
    "def search_range(nums: List[int], target: int) -> List[int]:\n",
    "\n",
    "    start, end = 0, len(nums) - 1\n",
    "\n",
    "    while start < len(nums) and nums[start] != target:\n",
    "        start += 1\n",
    "    \n",
    "    if start == len(nums):\n",
    "        return [-1, -1]\n",
    "    \n",
    "    while end > 0 and nums[end] != target:\n",
    "        end -= 1\n",
    "\n",
    "    return [start, end]\n",
    "\n",
    "# nums, target = [5, 7, 7, 8, 8, 10], 8\n",
    "# nums, target = [5, 7, 7, 8, 9, 10], 8\n",
    "# nums, target = [5, 7, 7, 8, 9, 10], 6\n",
    "# nums, target = [], 0\n",
    "\n",
    "# nums, target = [1], 1\n",
    "# nums, target = [5, 7, 7, 8, 9, 10], 10\n",
    "# nums, target = [5, 7, 8, 8, 8, 8, 8, 10], 8\n",
    "nums, target = [1, 1, 2], 1\n",
    "\n",
    "\n",
    "search_range(nums, target)"
   ]
  },
  {
   "cell_type": "markdown",
   "metadata": {},
   "source": [
    "**Complexity Analysis**\n",
    "\n",
    "> Time Complexity: O(n)"
   ]
  },
  {
   "cell_type": "code",
   "execution_count": 34,
   "metadata": {},
   "outputs": [
    {
     "data": {
      "text/plain": [
       "[0, 1]"
      ]
     },
     "execution_count": 34,
     "metadata": {},
     "output_type": "execute_result"
    }
   ],
   "source": [
    "from typing import List\n",
    "\n",
    "def search_range(nums: List[int], target: int) -> List[int]:\n",
    "\n",
    "    res = [-1, -1]\n",
    "\n",
    "    # check for first occurence of target\n",
    "    res[0] = search(nums, target, findStartIndex = True)\n",
    "\n",
    "    if res[0] != -1:\n",
    "        # check for last occurence of target\n",
    "        res[1] = search(nums, target, findStartIndex = False)\n",
    "\n",
    "    return res\n",
    "\n",
    "def search(nums: List[int], target: int, findStartIndex: bool) -> int:\n",
    "\n",
    "    res = -1\n",
    "\n",
    "    start, end = 0, len(nums) - 1\n",
    "\n",
    "    while start <= end:\n",
    "\n",
    "        mid = start + (end - start) // 2\n",
    "\n",
    "        if target > nums[mid]:\n",
    "            start = mid + 1\n",
    "        elif target < nums[mid]:\n",
    "            end = mid - 1\n",
    "        else:\n",
    "            # potential answer found\n",
    "            res = mid\n",
    "\n",
    "            if findStartIndex:\n",
    "                end = mid - 1\n",
    "            else:\n",
    "                start = mid + 1\n",
    "    \n",
    "    return res\n",
    "\n",
    "\n",
    "\n",
    "# nums, target = [5, 7, 7, 8, 8, 10], 8\n",
    "# nums, target = [5, 7, 7, 8, 9, 10], 8\n",
    "# nums, target = [5, 7, 7, 8, 9, 10], 6\n",
    "# nums, target = [], 0\n",
    "\n",
    "# nums, target = [1], 1\n",
    "# nums, target = [5, 7, 7, 8, 9, 10], 10\n",
    "# nums, target = [5, 7, 8, 8, 8, 8, 8, 10], 8\n",
    "nums, target = [1, 1, 2], 1\n",
    "\n",
    "\n",
    "search_range(nums, target)\n"
   ]
  },
  {
   "cell_type": "markdown",
   "metadata": {},
   "source": [
    "**Complexity Analysis**\n",
    "\n",
    "> Time Complexity: O(log n)"
   ]
  }
 ],
 "metadata": {
  "kernelspec": {
   "display_name": "Python 3.10.2 64-bit",
   "language": "python",
   "name": "python3"
  },
  "language_info": {
   "codemirror_mode": {
    "name": "ipython",
    "version": 3
   },
   "file_extension": ".py",
   "mimetype": "text/x-python",
   "name": "python",
   "nbconvert_exporter": "python",
   "pygments_lexer": "ipython3",
   "version": "3.10.2"
  },
  "orig_nbformat": 4,
  "vscode": {
   "interpreter": {
    "hash": "86513fceec4b1f5160dbca1db624badbef388ffd18b5ac131aa3ada7f8095061"
   }
  }
 },
 "nbformat": 4,
 "nbformat_minor": 2
}
