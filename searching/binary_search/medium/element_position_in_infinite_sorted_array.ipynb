{
 "cells": [
  {
   "cell_type": "markdown",
   "metadata": {},
   "source": [
    "[Geeks For Geeks]  \n",
    "Find position of an element in a sorted array of infinite numbers."
   ]
  },
  {
   "cell_type": "code",
   "execution_count": 2,
   "metadata": {},
   "outputs": [
    {
     "data": {
      "text/plain": [
       "4"
      ]
     },
     "execution_count": 2,
     "metadata": {},
     "output_type": "execute_result"
    }
   ],
   "source": [
    "from typing import List\n",
    "\n",
    "def findPosition(nums: List[int], target: int) -> int:\n",
    "    # find the range\n",
    "    # start with widnow of size 2\n",
    "    start = 0\n",
    "    end = 1\n",
    "\n",
    "    # condition for the target to lie in the range \n",
    "    while target > nums[end]:\n",
    "        temp = end + 1\n",
    "        # double the window size\n",
    "        # new end = previous end + window size * 2\n",
    "        end = end + (end - start + 1) * 2\n",
    "        start = temp\n",
    "\n",
    "    return binarySearch(nums, target, start, end)\n",
    "\n",
    "def binarySearch(nums: List[int], target: int, start: int, end: int) -> int:\n",
    "\n",
    "    while start <= end:\n",
    "\n",
    "        mid = start + (end - start) // 2\n",
    "\n",
    "        if target < nums[mid]:\n",
    "            end = mid - 1\n",
    "        elif target > nums[mid]:\n",
    "            start = mid + 1\n",
    "        else:\n",
    "            return mid\n",
    "    \n",
    "    return -1\n",
    "\n",
    "nums = [3, 5, 7, 9, 10, 90, 100, 130, 140, 160, 170]\n",
    "target = 10\n",
    "\n",
    "findPosition(nums, target)"
   ]
  }
 ],
 "metadata": {
  "kernelspec": {
   "display_name": "Python 3.10.2 64-bit",
   "language": "python",
   "name": "python3"
  },
  "language_info": {
   "codemirror_mode": {
    "name": "ipython",
    "version": 3
   },
   "file_extension": ".py",
   "mimetype": "text/x-python",
   "name": "python",
   "nbconvert_exporter": "python",
   "pygments_lexer": "ipython3",
   "version": "3.10.2"
  },
  "orig_nbformat": 4,
  "vscode": {
   "interpreter": {
    "hash": "86513fceec4b1f5160dbca1db624badbef388ffd18b5ac131aa3ada7f8095061"
   }
  }
 },
 "nbformat": 4,
 "nbformat_minor": 2
}
