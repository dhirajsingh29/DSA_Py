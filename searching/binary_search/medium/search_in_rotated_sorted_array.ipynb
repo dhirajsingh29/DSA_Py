{
 "cells": [
  {
   "cell_type": "markdown",
   "metadata": {},
   "source": [
    "[Leetcode - 33]  \n",
    "There is an integer array `nums` sorted in ascending order (with **distinct** values).\n",
    "\n",
    "Prior to being passed to your function, `nums` is **possibly rotated** at an unknown pivot index `k` (`1 <= k < nums.length`) such that the resulting array is `[nums[k], nums[k+1], ..., nums[n-1], nums[0], nums[1], ..., nums[k-1]]` (**0-indexed**). For example, `[0,1,2,4,5,6,7]` might be rotated at pivot index `3` and become `[4,5,6,7,0,1,2]`.\n",
    "\n",
    "Given the array `nums` after the possible rotation and an integer `target`, return the *index of* `target` *if it is in* `nums`*, or* `-1` *if it is not in* `nums`.\n",
    "\n",
    "You must write an algorithm with `O(log n)` runtime complexity.\n",
    "\n",
    "Example 1:\n",
    "> Input: nums = [4,5,6,7,0,1,2], target = 0  \n",
    "> Output: 4\n",
    "\n",
    "Example 2:\n",
    "> Input: nums = [4,5,6,7,0,1,2], target = 3  \n",
    "> Output: -1\n",
    "\n",
    "Example 3:\n",
    "> Input: nums = [1], target = 0  \n",
    "> Output: -1\n",
    "\n",
    "Constaints:\n",
    "> 1 <= nums.length <= 5000  \n",
    "> $-10^{4}$ <= nums[i] <= $10^{4}$  \n",
    "> All values of nums are unique.  \n",
    "> nums is an ascending array that is possibly rotated.  \n",
    "> $-10^{4}$ <= target <= $10^{4}$"
   ]
  },
  {
   "cell_type": "code",
   "execution_count": 16,
   "metadata": {},
   "outputs": [
    {
     "data": {
      "text/plain": [
       "5"
      ]
     },
     "execution_count": 16,
     "metadata": {},
     "output_type": "execute_result"
    }
   ],
   "source": [
    "from typing import List\n",
    "\n",
    "def searchTarget(nums: List[int], target: int) -> int:\n",
    "\n",
    "    pivotIndex = findPivotIndex(nums)\n",
    "\n",
    "    # if no pivot index is found, means array is not rotated\n",
    "    if pivotIndex == -1:\n",
    "        # normal binary search\n",
    "        return binarySearch(nums, target, 0, len(nums) - 1)\n",
    "\n",
    "    # Case 1: if pivot index is found, there are two ascending sorted arrays\n",
    "    if nums[pivotIndex] == target:\n",
    "        return pivotIndex\n",
    "\n",
    "    # Case 2: if target > element at start, then all elements after pivot till end are smaller than target\n",
    "    # nums = [4, 5, 6, 7, 0, 1, 2, 3] where target = 6\n",
    "    if target >= nums[0]:\n",
    "        return binarySearch(nums, target, 0, pivotIndex - 1)\n",
    "\n",
    "    # Case 3: if target < element at start, then all elements from start till pivot are larger than target\n",
    "    # nums = [4, 5, 6, 7, 0, 1, 2, 3] where target = 1\n",
    "    return binarySearch(nums, target, pivotIndex + 1, len(nums) - 1)\n",
    "\n",
    "def findPivotIndex(nums: List[int]) -> int:\n",
    "\n",
    "    start = 0\n",
    "    end = len(nums) - 1\n",
    "\n",
    "    while start <= end:\n",
    "\n",
    "        mid = start + (end - start) // 2\n",
    "\n",
    "        # [4, 5, 6, 7, 0, 1, 2, 3] where start = 0, end = 7, mid = 3\n",
    "        # Case 1: nums[mid] > nums[mid + 1]\n",
    "        # this will be unique case, as before peak element, array is in ascending order \n",
    "        # and after peak element also array is in ascending order\n",
    "        if mid < end and nums[mid] > nums[mid + 1]:\n",
    "            return mid\n",
    "        \n",
    "        # [5, 6, 7, 0, 1, 2, 3, 4] where start = 0, end = 7, mid = 3\n",
    "        # Case 2: nums[mid] < nums[mid - 1]\n",
    "        # this also will be unique case, as before peak element, array is in ascending order \n",
    "        # and after peak element also array is in ascending order\n",
    "        elif mid > start and nums[mid] < nums[mid - 1]:\n",
    "            return mid - 1\n",
    "\n",
    "        # [6, 7, 0, 1, 2, 3, 4, 5] where start = 0, end = 7, mid = 3\n",
    "        # Case 3: nums[start] >= nums[mid]\n",
    "        # we can neglect all the elements from mid index to last, as all of them will be smaller than start index element\n",
    "        elif nums[start] >= nums[mid]:\n",
    "            end = mid -1\n",
    "\n",
    "        # [1, 2, 3, 4, 5, 6, 7, 0] where start = 0, end = 7, mid = 3\n",
    "        # Case 4: nums[start] < nums[mid]\n",
    "        # we can neglect all the elements from current start to mid, as all of them will be smaller than next element \n",
    "        else:\n",
    "            start = mid + 1\n",
    "\n",
    "    return -1\n",
    "\n",
    "def binarySearch(nums: List[int], target: int, start: int, end: int) -> int:\n",
    "\n",
    "    while start <= end:\n",
    "\n",
    "        mid = start + (end - start) // 2\n",
    "\n",
    "        if target > nums[mid]:\n",
    "            start = mid + 1\n",
    "        elif target < nums[mid]:\n",
    "            end = mid - 1\n",
    "        else:\n",
    "            return mid\n",
    "\n",
    "    return -1\n",
    "\n",
    "# nums = [4, 5, 6, 7, 0, 1, 2, 3]\n",
    "nums = [5, 6, 7, 0, 1, 2, 3, 4]\n",
    "# nums = [6, 7, 0, 1, 2, 3, 4, 5]\n",
    "# nums = [1, 2, 3, 4, 5, 6, 7, 0]\n",
    "# nums = [0, 1, 2, 3, 4, 5, 6, 7]\n",
    "\n",
    "target = 5\n",
    "\n",
    "searchTarget(nums, target)"
   ]
  }
 ],
 "metadata": {
  "kernelspec": {
   "display_name": "Python 3.10.2 64-bit",
   "language": "python",
   "name": "python3"
  },
  "language_info": {
   "codemirror_mode": {
    "name": "ipython",
    "version": 3
   },
   "file_extension": ".py",
   "mimetype": "text/x-python",
   "name": "python",
   "nbconvert_exporter": "python",
   "pygments_lexer": "ipython3",
   "version": "3.10.2"
  },
  "orig_nbformat": 4,
  "vscode": {
   "interpreter": {
    "hash": "86513fceec4b1f5160dbca1db624badbef388ffd18b5ac131aa3ada7f8095061"
   }
  }
 },
 "nbformat": 4,
 "nbformat_minor": 2
}
