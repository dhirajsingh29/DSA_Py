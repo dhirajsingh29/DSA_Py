{
 "cells": [
  {
   "cell_type": "markdown",
   "metadata": {},
   "source": [
    "[Leetcode - 1095]  \n",
    "An array `arr` is a **mountain array** if and only if:\n",
    "- `len(arr) >= 3`\n",
    "- There exists some `i` with `0 < i < len(arr) - 1` such that:\n",
    "    - `arr[0] < arr[1] < ... < arr[i - 1] < arr[i]`\n",
    "    - `arr[i] > arr[i + 1] > ... > arr[arr.length - 1]`\n",
    "\n",
    "Given a mountain array `mountainArr`, return the **minimum** index such that `mountainArr.get(index) == target`. If such an `index` does not exist, return `-1`.\n",
    "\n",
    "Example 1:\n",
    "> Input: array = [1,2,3,4,5,3,1], target = 3  \n",
    "> Output: 2  \n",
    "> Explanation: 3 exists in the array, at index=2 and index=5. Return the minimum index, which is 2.\n",
    "\n",
    "Example 2:\n",
    "> Input: array = [0,1,2,4,2,1], target = 3  \n",
    "> Output: -1  \n",
    "> Explanation: 3 does not exist in the array, so we return -1.\n",
    "\n",
    "Constraints:\n",
    "> 3 <= mountain_arr.length() <= $10^{4}$  \n",
    "> 0 <= target <= $10^{9}$  \n",
    "> 0 <= mountain_arr.get(index) <= $10^{9}$"
   ]
  },
  {
   "cell_type": "code",
   "execution_count": 7,
   "metadata": {},
   "outputs": [
    {
     "data": {
      "text/plain": [
       "2"
      ]
     },
     "execution_count": 7,
     "metadata": {},
     "output_type": "execute_result"
    }
   ],
   "source": [
    "from typing import List\n",
    "\n",
    "def searchInMountain(arr: List[int], target: int) -> int:\n",
    "\n",
    "    peakIndex = findPeakIndex(arr)\n",
    "\n",
    "    resultIndex = orderAgnosticBinarySearch(arr, target, start=0, end=peakIndex)\n",
    "\n",
    "    if resultIndex != -1:\n",
    "        return resultIndex\n",
    "    else:\n",
    "        return orderAgnosticBinarySearch(arr, target, start=peakIndex + 1, end=len(arr) - 1)\n",
    "\n",
    "def findPeakIndex(arr: List[int]) -> int:\n",
    "\n",
    "    start = 0\n",
    "    end = len(arr) - 1\n",
    "\n",
    "    while start < end:\n",
    "\n",
    "        mid = start + (end - start) // 2\n",
    "\n",
    "        if arr[mid] > arr[mid + 1]:\n",
    "            # we are in descending part of the array. \n",
    "            # This might be a possible ans, but look at its left first hence end != mid - 1\n",
    "            end = mid\n",
    "        else:\n",
    "            # we are in ascending part of array. \n",
    "            # mid element cannot be the ans as element greater than mid element is present\n",
    "            start = mid + 1\n",
    "\n",
    "    return start # or return end as both will be same\n",
    "\n",
    "def orderAgnosticBinarySearch(arr: List[int], target: int, start: int, end: int) -> int:\n",
    "\n",
    "    isAscending = arr[start] < arr[end]\n",
    "\n",
    "    while start <= end:\n",
    "\n",
    "        mid = start + (end - start) // 2\n",
    "\n",
    "        if arr[mid] == target:\n",
    "            return mid\n",
    "\n",
    "        if isAscending:\n",
    "            if target < arr[mid]:\n",
    "                end = mid - 1\n",
    "            else:\n",
    "                start = mid + 1\n",
    "        else:\n",
    "            if target > arr[mid]:\n",
    "                end = mid - 1\n",
    "            else:\n",
    "                start = mid + 1\n",
    "\n",
    "    return -1\n",
    "\n",
    "arr = [1,2,3,4,5,3,1]\n",
    "target = 3\n",
    "\n",
    "# arr = [1,2,4,5,3,1]\n",
    "# target = 3\n",
    "\n",
    "# arr = [0,1,2,4,2,1]\n",
    "# target = 3\n",
    "\n",
    "searchInMountain(arr, target)"
   ]
  }
 ],
 "metadata": {
  "kernelspec": {
   "display_name": "Python 3.10.2 64-bit",
   "language": "python",
   "name": "python3"
  },
  "language_info": {
   "codemirror_mode": {
    "name": "ipython",
    "version": 3
   },
   "file_extension": ".py",
   "mimetype": "text/x-python",
   "name": "python",
   "nbconvert_exporter": "python",
   "pygments_lexer": "ipython3",
   "version": "3.10.2"
  },
  "orig_nbformat": 4,
  "vscode": {
   "interpreter": {
    "hash": "86513fceec4b1f5160dbca1db624badbef388ffd18b5ac131aa3ada7f8095061"
   }
  }
 },
 "nbformat": 4,
 "nbformat_minor": 2
}
