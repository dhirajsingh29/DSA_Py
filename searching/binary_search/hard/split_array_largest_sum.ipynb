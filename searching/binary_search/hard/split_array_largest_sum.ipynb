{
 "cells": [
  {
   "cell_type": "markdown",
   "metadata": {},
   "source": [
    "[Leetcode - 410]  \n",
    "Given an array `nums` which consists of non-negative integers and an integer `m`, you can split the array into `m` non-empty continuous subarrays.\n",
    "\n",
    "Write an algorithm to minimize the largest sum among these `m` subarrays.\n",
    "\n",
    "Example 1:\n",
    "> Input: nums = [7,2,5,10,8], m = 2  \n",
    "> Output: 18  \n",
    "> Explanation:There are four ways to split nums into two subarrays. The best way is to split it into [7,2,5] and [10,8], where the largest sum among the two subarrays is only 18.\n",
    "\n",
    "Example 2:\n",
    "> Input: nums = [1,2,3,4,5], m = 2  \n",
    "> Output: 9\n",
    "\n",
    "Example 3:\n",
    "> Input: nums = [1,4,4], m = 3  \n",
    "> Output: 4\n",
    "\n",
    "Constarints:\n",
    "> 1 <= nums.length <= 1000\n",
    "> 0 <= nums[i] <= 106\n",
    "> 1 <= m <= min(50, nums.length)"
   ]
  },
  {
   "cell_type": "markdown",
   "metadata": {},
   "source": [
    "`nums = [7, 2, 5, 10, 8]`\n",
    "\n",
    "If `m = len(nums)`, we get five individual arrays, i.e., `[7] [2] [5] [10] [8]`  \n",
    "`Largest sum` among five array is `10`.\n",
    "Hence, our **minimum potential answer** is `10`.\n",
    "\n",
    "If `m = 1`, we get only one array, i.e., the orinial one. `[7, 2, 5, 10, 8]`  \n",
    "`Largest sum` will be sum of all the elements in array, i.e., `32`.  \n",
    "Hence, our **maximum potential answer** is `32`.\n",
    "\n",
    "Now, we need to find our target within the range `[10, 32]`.  \n",
    "As we need to get target in a range, range can be traversed using `Binary Search`.\n",
    "\n",
    "`start, end = 10, 32`  \n",
    "`mid = (10 + 32) // 2 = 21`  \n",
    "`nums[0] = 7 and 7 < 21` => 7 will be added to first array. `[7]`  \n",
    "`nums[1] = 2 and (7 + 2) i.e. 9 < 21` => 2 will be added to first array. `[7, 2]`  \n",
    "`nums[2] = 5 and (9 + 5) i.e. 14 < 21` => 5 will be added to first array. `[7, 2, 5]`  \n",
    "\n",
    "`nums[3] = 10 and (14 + 10) i.e. 24 > 21` => 10 will be added to second array. `[7, 2, 5] [10]`  \n",
    "`nums[4] = 8 and (10 + 8) i.e. 18 < 21` => 8 will be added to second array. `[7, 2, 5] [10, 8]`  \n",
    "\n",
    "numberOfArrays after first iteration is 2.  \n",
    "`if numberOfArrays i.e. 2 <= m i.e. 2`, then `end = mid`.  \n",
    "Because we need to increase the array partition if its less than m.  \n",
    "Thus, start, end = 10, 21\n",
    "\n",
    "`mid = (10 + 21) // 2 = 15`  \n",
    "`nums[0] = 7 and 7 < 15` => 7 will be added to first array. `[7]`  \n",
    "`nums[1] = 2 and (7 + 2) i.e. 9 < 15` => 2 will be added to first array. `[7, 2]`  \n",
    "`nums[2] = 5 and (9 + 5) i.e. 14 < 15` => 5 will be added to first array. `[7, 2, 5]`  \n",
    "\n",
    "`nums[3] = 10 and (14 + 10) i.e. 24 > 15` => will be added to second array. `[7, 2, 5] [10]`\n",
    "\n",
    "`nums[4] = 8 and (10 + 8) i.e. 18 > 15` => 8 will be added to third array. `[7, 2, 5] [10] [8]`\n",
    "\n",
    "numberOfArrays after second iteration is 3.\n",
    "`if numberOfArrays i.e. 3 > m i.e. 2`, then `start = mid + 1`.  \n",
    "Because we need to decrease the array partition if its greater than m.  \n",
    "Thus, start, end = 16, 21\n",
    "\n",
    "Similarly, the entire process will continue till `start = end = mid`."
   ]
  },
  {
   "cell_type": "code",
   "execution_count": 1,
   "metadata": {},
   "outputs": [
    {
     "ename": "UnboundLocalError",
     "evalue": "local variable 'sum' referenced before assignment",
     "output_type": "error",
     "traceback": [
      "\u001b[1;31m---------------------------------------------------------------------------\u001b[0m",
      "\u001b[1;31mUnboundLocalError\u001b[0m                         Traceback (most recent call last)",
      "\u001b[1;32md:\\Learning\\CodeBase\\Problem Solving (DS & Algo)\\DSA_Python_Jupyter_Notebook\\searching\\binary_search\\hard\\split_array_largest_sum.ipynb Cell 3\u001b[0m in \u001b[0;36m<cell line: 37>\u001b[1;34m()\u001b[0m\n\u001b[0;32m     <a href='vscode-notebook-cell:/d%3A/Learning/CodeBase/Problem%20Solving%20%28DS%20%26%20Algo%29/DSA_Python_Jupyter_Notebook/searching/binary_search/hard/split_array_largest_sum.ipynb#W3sZmlsZQ%3D%3D?line=33'>34</a>\u001b[0m nums \u001b[39m=\u001b[39m [\u001b[39m7\u001b[39m,\u001b[39m2\u001b[39m,\u001b[39m5\u001b[39m,\u001b[39m10\u001b[39m,\u001b[39m8\u001b[39m]\n\u001b[0;32m     <a href='vscode-notebook-cell:/d%3A/Learning/CodeBase/Problem%20Solving%20%28DS%20%26%20Algo%29/DSA_Python_Jupyter_Notebook/searching/binary_search/hard/split_array_largest_sum.ipynb#W3sZmlsZQ%3D%3D?line=34'>35</a>\u001b[0m m \u001b[39m=\u001b[39m \u001b[39m2\u001b[39m\n\u001b[1;32m---> <a href='vscode-notebook-cell:/d%3A/Learning/CodeBase/Problem%20Solving%20%28DS%20%26%20Algo%29/DSA_Python_Jupyter_Notebook/searching/binary_search/hard/split_array_largest_sum.ipynb#W3sZmlsZQ%3D%3D?line=36'>37</a>\u001b[0m minimumSum(nums, m)\n",
      "\u001b[1;32md:\\Learning\\CodeBase\\Problem Solving (DS & Algo)\\DSA_Python_Jupyter_Notebook\\searching\\binary_search\\hard\\split_array_largest_sum.ipynb Cell 3\u001b[0m in \u001b[0;36mminimumSum\u001b[1;34m(nums, m)\u001b[0m\n\u001b[0;32m      <a href='vscode-notebook-cell:/d%3A/Learning/CodeBase/Problem%20Solving%20%28DS%20%26%20Algo%29/DSA_Python_Jupyter_Notebook/searching/binary_search/hard/split_array_largest_sum.ipynb#W3sZmlsZQ%3D%3D?line=2'>3</a>\u001b[0m \u001b[39mdef\u001b[39;00m \u001b[39mminimumSum\u001b[39m(nums: List[\u001b[39mint\u001b[39m], m: \u001b[39mint\u001b[39m) \u001b[39m-\u001b[39m\u001b[39m>\u001b[39m \u001b[39mint\u001b[39m:\n\u001b[1;32m----> <a href='vscode-notebook-cell:/d%3A/Learning/CodeBase/Problem%20Solving%20%28DS%20%26%20Algo%29/DSA_Python_Jupyter_Notebook/searching/binary_search/hard/split_array_largest_sum.ipynb#W3sZmlsZQ%3D%3D?line=4'>5</a>\u001b[0m     start, end \u001b[39m=\u001b[39m \u001b[39mmax\u001b[39m(nums), \u001b[39msum\u001b[39;49m(nums)\n\u001b[0;32m      <a href='vscode-notebook-cell:/d%3A/Learning/CodeBase/Problem%20Solving%20%28DS%20%26%20Algo%29/DSA_Python_Jupyter_Notebook/searching/binary_search/hard/split_array_largest_sum.ipynb#W3sZmlsZQ%3D%3D?line=6'>7</a>\u001b[0m     \u001b[39mwhile\u001b[39;00m start \u001b[39m<\u001b[39m end:\n\u001b[0;32m      <a href='vscode-notebook-cell:/d%3A/Learning/CodeBase/Problem%20Solving%20%28DS%20%26%20Algo%29/DSA_Python_Jupyter_Notebook/searching/binary_search/hard/split_array_largest_sum.ipynb#W3sZmlsZQ%3D%3D?line=7'>8</a>\u001b[0m \n\u001b[0;32m      <a href='vscode-notebook-cell:/d%3A/Learning/CodeBase/Problem%20Solving%20%28DS%20%26%20Algo%29/DSA_Python_Jupyter_Notebook/searching/binary_search/hard/split_array_largest_sum.ipynb#W3sZmlsZQ%3D%3D?line=8'>9</a>\u001b[0m         \u001b[39m# try for mid as potential answer\u001b[39;00m\n\u001b[0;32m     <a href='vscode-notebook-cell:/d%3A/Learning/CodeBase/Problem%20Solving%20%28DS%20%26%20Algo%29/DSA_Python_Jupyter_Notebook/searching/binary_search/hard/split_array_largest_sum.ipynb#W3sZmlsZQ%3D%3D?line=9'>10</a>\u001b[0m         mid \u001b[39m=\u001b[39m start \u001b[39m+\u001b[39m (end \u001b[39m-\u001b[39m start) \u001b[39m/\u001b[39m\u001b[39m/\u001b[39m \u001b[39m2\u001b[39m\n",
      "\u001b[1;31mUnboundLocalError\u001b[0m: local variable 'sum' referenced before assignment"
     ]
    }
   ],
   "source": [
    "from typing import List\n",
    "\n",
    "def minimumSum(nums: List[int], m: int) -> int:\n",
    "\n",
    "    start, end = max(nums), sum(nums)\n",
    "\n",
    "    while start < end:\n",
    "\n",
    "        # try for mid as potential answer\n",
    "        mid = start + (end - start) // 2\n",
    "\n",
    "        # calculate how many pieces we can divide this in with max sum as mid\n",
    "        sumOfItems = 0\n",
    "        numberOfArrays = 1\n",
    "\n",
    "        for num in nums:\n",
    "            sum += num\n",
    "\n",
    "            if sum + num > mid:\n",
    "                # sum + num item cannot be added in this sub array, so create new one\n",
    "                # so we add this num in new sub array. Hence, sum = num\n",
    "                sum = num\n",
    "                numberOfArrays += 1\n",
    "            else:\n",
    "                sum += num\n",
    "\n",
    "        if numberOfArrays <= m:\n",
    "            end = mid\n",
    "        else:\n",
    "            start = mid + 1\n",
    "    \n",
    "    return start # or end, start == end\n",
    "\n",
    "nums = [7,2,5,10,8]\n",
    "m = 2\n",
    "\n",
    "minimumSum(nums, m)"
   ]
  }
 ],
 "metadata": {
  "kernelspec": {
   "display_name": "Python 3.10.2 64-bit",
   "language": "python",
   "name": "python3"
  },
  "language_info": {
   "codemirror_mode": {
    "name": "ipython",
    "version": 3
   },
   "file_extension": ".py",
   "mimetype": "text/x-python",
   "name": "python",
   "nbconvert_exporter": "python",
   "pygments_lexer": "ipython3",
   "version": "3.10.2"
  },
  "orig_nbformat": 4,
  "vscode": {
   "interpreter": {
    "hash": "86513fceec4b1f5160dbca1db624badbef388ffd18b5ac131aa3ada7f8095061"
   }
  }
 },
 "nbformat": 4,
 "nbformat_minor": 2
}
