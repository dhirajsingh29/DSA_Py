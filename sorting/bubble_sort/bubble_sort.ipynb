{
 "cells": [
  {
   "cell_type": "code",
   "execution_count": 5,
   "metadata": {},
   "outputs": [
    {
     "data": {
      "text/plain": [
       "[1, 2, 3, 4, 5]"
      ]
     },
     "execution_count": 5,
     "metadata": {},
     "output_type": "execute_result"
    }
   ],
   "source": [
    "from typing import List\n",
    "\n",
    "def bubbleSort(nums: List[int]):\n",
    "    # run the steps n - 1 times\n",
    "    for i in range(len(nums)):\n",
    "        swapped = False\n",
    "\n",
    "        for j in range(1, len(nums) - i):\n",
    "\n",
    "            if nums[j] < nums[j - 1]:\n",
    "                temp = nums[j]\n",
    "                nums[j] = nums[j - 1]\n",
    "                nums[j - 1] = temp\n",
    "\n",
    "                swapped = True\n",
    "\n",
    "        if not swapped:\n",
    "            break\n",
    "\n",
    "# nums = [3, 1, 5, 4, 2]\n",
    "# nums = [5, 4, 3, 2, 1]\n",
    "nums = [1, 2, 3, 4, 5]\n",
    "\n",
    "bubbleSort(nums)\n",
    "nums"
   ]
  }
 ],
 "metadata": {
  "kernelspec": {
   "display_name": "Python 3.10.2 64-bit",
   "language": "python",
   "name": "python3"
  },
  "language_info": {
   "codemirror_mode": {
    "name": "ipython",
    "version": 3
   },
   "file_extension": ".py",
   "mimetype": "text/x-python",
   "name": "python",
   "nbconvert_exporter": "python",
   "pygments_lexer": "ipython3",
   "version": "3.10.2"
  },
  "orig_nbformat": 4,
  "vscode": {
   "interpreter": {
    "hash": "86513fceec4b1f5160dbca1db624badbef388ffd18b5ac131aa3ada7f8095061"
   }
  }
 },
 "nbformat": 4,
 "nbformat_minor": 2
}
