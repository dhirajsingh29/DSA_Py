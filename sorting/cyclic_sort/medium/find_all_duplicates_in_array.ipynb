{
 "cells": [
  {
   "cell_type": "markdown",
   "metadata": {},
   "source": [
    "[Leetcode - 442]\n",
    "Given an integer array $nums$ of length $n$ where all the integers of $nums$ are in the range $[1, n]$ and each integer appears **once** or **twice**, return *an array of all the integers that appears **twice***.\n",
    "\n",
    "You must write an algorithm that runs in $O(n)$ time and uses only constant extra space.\n",
    "\n",
    "Example 1:\n",
    "> Input: nums = [4,3,2,7,8,2,3,1]  \n",
    "> Output: [2,3]\n",
    "\n",
    "Example 2:\n",
    "> Input: nums = [1,1,2]  \n",
    "> Output: [1]\n",
    "\n",
    "Example 3:\n",
    "> Input: nums = [1]  \n",
    "> Output: []\n",
    "\n",
    "Constraints:\n",
    "> - $n == nums.length$\n",
    "> - $1 <= n <= 10^{5}$\n",
    "> - $1 <= nums[i] <= n$\n",
    "> - Each element in $nums$ appears **once** or **twice**."
   ]
  },
  {
   "cell_type": "code",
   "execution_count": 1,
   "metadata": {},
   "outputs": [
    {
     "data": {
      "text/plain": [
       "[3, 2]"
      ]
     },
     "execution_count": 1,
     "metadata": {},
     "output_type": "execute_result"
    }
   ],
   "source": [
    "# use Cyclic sort\n",
    "\n",
    "from typing import List\n",
    "\n",
    "def findAllDuplicates(nums: List[int]) -> List[int]:\n",
    "    i = 0\n",
    "\n",
    "    res = []\n",
    "\n",
    "    while i < len(nums):\n",
    "\n",
    "        if nums[i] != i + 1:\n",
    "            correctIndex = nums[i] - 1\n",
    "\n",
    "            if nums[i] != nums[correctIndex]:\n",
    "                temp = nums[correctIndex]\n",
    "                nums[correctIndex] = nums[i]\n",
    "                nums[i] = temp\n",
    "            else:\n",
    "                if nums[i] not in res:\n",
    "                    res.append(nums[i])\n",
    "                i += 1\n",
    "        else:\n",
    "            i += 1\n",
    "\n",
    "    return res\n",
    "\n",
    "nums = [4,3,2,7,8,2,3,1]\n",
    "# nums = [1,1,2]\n",
    "# nums = [1]\n",
    "\n",
    "findAllDuplicates(nums)"
   ]
  },
  {
   "cell_type": "code",
   "execution_count": 3,
   "metadata": {},
   "outputs": [
    {
     "data": {
      "text/plain": [
       "[1]"
      ]
     },
     "execution_count": 3,
     "metadata": {},
     "output_type": "execute_result"
    }
   ],
   "source": [
    "# use Cyclic sort\n",
    "# complete cycle sort and then search for duplicates\n",
    "\n",
    "from typing import List\n",
    "\n",
    "def findAllDuplicates(nums: List[int]) -> List[int]:\n",
    "    i = 0\n",
    "\n",
    "    while i < len(nums):\n",
    "\n",
    "        correctIndex = nums[i] - 1\n",
    "\n",
    "        if nums[i] != nums[correctIndex]:\n",
    "            temp = nums[correctIndex]\n",
    "            nums[correctIndex] = nums[i]\n",
    "            nums[i] = temp\n",
    "        else:\n",
    "            i += 1\n",
    "\n",
    "    res = []\n",
    "    for i in range(len(nums)):\n",
    "        if nums[i] != i + 1:\n",
    "            res.append(nums[i])\n",
    "\n",
    "    return res\n",
    "\n",
    "# nums = [4,3,2,7,8,2,3,1]\n",
    "nums = [1,1,2]\n",
    "# nums = [1]\n",
    "\n",
    "findAllDuplicates(nums)"
   ]
  }
 ],
 "metadata": {
  "kernelspec": {
   "display_name": "Python 3.10.2 64-bit",
   "language": "python",
   "name": "python3"
  },
  "language_info": {
   "codemirror_mode": {
    "name": "ipython",
    "version": 3
   },
   "file_extension": ".py",
   "mimetype": "text/x-python",
   "name": "python",
   "nbconvert_exporter": "python",
   "pygments_lexer": "ipython3",
   "version": "3.10.2"
  },
  "orig_nbformat": 4,
  "vscode": {
   "interpreter": {
    "hash": "86513fceec4b1f5160dbca1db624badbef388ffd18b5ac131aa3ada7f8095061"
   }
  }
 },
 "nbformat": 4,
 "nbformat_minor": 2
}
