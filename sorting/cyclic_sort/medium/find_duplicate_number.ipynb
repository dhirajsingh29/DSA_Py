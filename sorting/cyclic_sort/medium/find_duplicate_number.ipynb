{
 "cells": [
  {
   "cell_type": "markdown",
   "metadata": {},
   "source": [
    "[Leetcode - 287]  \n",
    "Given an array of integers nums containing n + 1 integers where each integer is in the range [1, n] inclusive.  \n",
    "There is only one repeated number in nums, return this repeated number.  \n",
    "You must solve the problem without modifying the array nums and uses only constant extra space.  \n",
    "\n",
    "Example 1:  \n",
    "> Input: nums = [1,3,4,2,2]  \n",
    "> Output: 2  \n",
    "\n",
    "Example 2:  \n",
    "> Input: nums = [3,1,3,4,2]  \n",
    "> Output: 3  \n",
    "\n",
    "Constraints:  \n",
    "> - 1 <= n <= 105\n",
    "> - nums.length == n + 1\n",
    "> - 1 <= nums[i] <= n\n",
    "> - All the integers in nums appear only once except for precisely one integer which appears two or more times."
   ]
  },
  {
   "cell_type": "code",
   "execution_count": 2,
   "metadata": {},
   "outputs": [
    {
     "data": {
      "text/plain": [
       "3"
      ]
     },
     "execution_count": 2,
     "metadata": {},
     "output_type": "execute_result"
    }
   ],
   "source": [
    "from typing import List\n",
    "\n",
    "def findDuplicate(nums: List[int]) -> int:\n",
    "    i = 0\n",
    "\n",
    "    while i < len(nums):\n",
    "        correctIndex = nums[i] - 1\n",
    "\n",
    "        if nums[i] != nums[correctIndex]:\n",
    "            temp = nums[correctIndex]\n",
    "            nums[correctIndex] = nums[i]\n",
    "            nums[i] = temp\n",
    "        else:\n",
    "            i += 1\n",
    "\n",
    "    return nums[len(nums) - 1]\n",
    "\n",
    "# nums = [1,3,4,2,2]\n",
    "nums = [3,1,3,4,2]\n",
    "# nums = [1,1]\n",
    "# nums = [1,1,2]\n",
    "\n",
    "findDuplicate(nums)"
   ]
  }
 ],
 "metadata": {
  "kernelspec": {
   "display_name": "Python 3.10.2 64-bit",
   "language": "python",
   "name": "python3"
  },
  "language_info": {
   "codemirror_mode": {
    "name": "ipython",
    "version": 3
   },
   "file_extension": ".py",
   "mimetype": "text/x-python",
   "name": "python",
   "nbconvert_exporter": "python",
   "pygments_lexer": "ipython3",
   "version": "3.10.2"
  },
  "orig_nbformat": 4,
  "vscode": {
   "interpreter": {
    "hash": "86513fceec4b1f5160dbca1db624badbef388ffd18b5ac131aa3ada7f8095061"
   }
  }
 },
 "nbformat": 4,
 "nbformat_minor": 2
}
