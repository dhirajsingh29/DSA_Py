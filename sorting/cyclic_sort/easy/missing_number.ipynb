{
 "cells": [
  {
   "cell_type": "markdown",
   "metadata": {},
   "source": [
    "[Leetcode - 268]  \n",
    "Given an array nums containing n distinct numbers in the range [0, n], return the only number in the range that is missing from the array.\n",
    "\n",
    "Example 1:\n",
    "> Input: nums = [3,0,1]  \n",
    "> Output: 2  \n",
    "> Explanation: n = 3 since there are 3 numbers, so all numbers are in the range [0,3]. 2 is the missing number in the range since it does not appear in nums.\n",
    "\n",
    "Example 2:\n",
    "> Input: nums = [0,1]  \n",
    "> Output: 2  \n",
    "> Explanation: n = 2 since there are 2 numbers, so all numbers are in the range [0,2]. 2 is the missing number in the range since it does not appear in nums.\n",
    "\n",
    "Example 3:\n",
    "> Input: nums = [9,6,4,2,3,5,7,0,1]  \n",
    "> Output: 8  \n",
    "> Explanation: n = 9 since there are 9 numbers, so all numbers are in the range [0,9]. 8 is the missing number in the range since it does not appear in nums.\n",
    "\n",
    "Constraints:\n",
    "> - n == nums.length\n",
    "> - 1 <= n <= 104\n",
    "> - 0 <= nums[i] <= n\n",
    "> - All the numbers of nums are unique."
   ]
  },
  {
   "cell_type": "code",
   "execution_count": 1,
   "metadata": {},
   "outputs": [
    {
     "data": {
      "text/plain": [
       "8"
      ]
     },
     "execution_count": 1,
     "metadata": {},
     "output_type": "execute_result"
    }
   ],
   "source": [
    "# using Cycle Sort; as the number is defined in a continuous range in the array\n",
    "\n",
    "from typing import List\n",
    "\n",
    "def findMissingNumber(nums: List[int]) -> int:\n",
    "    i = 0\n",
    "\n",
    "    while i < len(nums):\n",
    "        # in this case, as 0 is also included in the array, hence all the elements will be positioned at index with same value,\n",
    "        # i.e., element == index. Hence, correctIndex = nums[i] and not correctIndex = nums[i] - 1\n",
    "        correctIndex = nums[i]\n",
    "\n",
    "        if nums[i] < len(nums) and nums[i] != nums[correctIndex]:\n",
    "            temp = nums[correctIndex]\n",
    "            nums[correctIndex] = nums[i]\n",
    "            nums[i] = temp\n",
    "        else:\n",
    "            i += 1\n",
    "\n",
    "    # search for first missing number\n",
    "    for i in range(len(nums)):\n",
    "        if nums[i] != i:\n",
    "            return i\n",
    "    \n",
    "    # edge case, when n is not in the array\n",
    "    return len(nums)\n",
    "\n",
    "# nums = [3,0,1]\n",
    "# nums = [3,1,0]\n",
    "# nums = [0,1]\n",
    "nums = [9,6,4,2,3,5,7,0,1]\n",
    "# nums = [1]\n",
    "# nums = [0,2]\n",
    "\n",
    "findMissingNumber(nums)"
   ]
  }
 ],
 "metadata": {
  "kernelspec": {
   "display_name": "Python 3.10.2 64-bit",
   "language": "python",
   "name": "python3"
  },
  "language_info": {
   "codemirror_mode": {
    "name": "ipython",
    "version": 3
   },
   "file_extension": ".py",
   "mimetype": "text/x-python",
   "name": "python",
   "nbconvert_exporter": "python",
   "pygments_lexer": "ipython3",
   "version": "3.10.2"
  },
  "orig_nbformat": 4,
  "vscode": {
   "interpreter": {
    "hash": "86513fceec4b1f5160dbca1db624badbef388ffd18b5ac131aa3ada7f8095061"
   }
  }
 },
 "nbformat": 4,
 "nbformat_minor": 2
}
