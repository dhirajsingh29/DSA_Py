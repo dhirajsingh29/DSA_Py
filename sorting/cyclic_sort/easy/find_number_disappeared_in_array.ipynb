{
 "cells": [
  {
   "cell_type": "markdown",
   "metadata": {},
   "source": [
    "[Leetcode - 448]  \n",
    "Given an array nums of n integers where nums[i] is in the range [1, n], return an array of all the integers in the range [1, n] that do not appear in nums.\n",
    "\n",
    "Example 1:\n",
    "> Input: nums = [4,3,2,7,8,2,3,1]  \n",
    "> Output: [5,6]\n",
    "\n",
    "Example 2:\n",
    "> Input: nums = [1,1]  \n",
    "> Output: [2]\n",
    "\n",
    "Constraints:\n",
    "> - n == nums.length\n",
    "> - 1 <= n <= 105\n",
    "> - 1 <= nums[i] <= n"
   ]
  },
  {
   "cell_type": "code",
   "execution_count": 1,
   "metadata": {},
   "outputs": [
    {
     "data": {
      "text/plain": [
       "[5, 6]"
      ]
     },
     "execution_count": 1,
     "metadata": {},
     "output_type": "execute_result"
    }
   ],
   "source": [
    "# use Cyclic Sort\n",
    "\n",
    "from typing import List\n",
    "\n",
    "def find_disappeared_numbers(nums: List[int]) -> List[int]:\n",
    "    \n",
    "    i = 0\n",
    "\n",
    "    while i < len(nums):\n",
    "        correctIndex = nums[i] - 1\n",
    "\n",
    "        if nums[i] != nums[correctIndex]:\n",
    "            temp = nums[correctIndex]\n",
    "            nums[correctIndex] = nums[i]\n",
    "            nums[i] = temp\n",
    "        else:\n",
    "            i += 1\n",
    "\n",
    "    res = []\n",
    "    # at this stage all the elements will be at correct position except the duplicates one\n",
    "    for i in range(len(nums)):\n",
    "        if i + 1 != nums[i]:\n",
    "            res.append(i + 1)\n",
    "\n",
    "    return res\n",
    "\n",
    "\n",
    "nums = [4,3,2,7,8,2,3,1]\n",
    "# nums = [1,1]\n",
    "# nums = [1]\n",
    "\n",
    "find_disappeared_numbers(nums)"
   ]
  }
 ],
 "metadata": {
  "kernelspec": {
   "display_name": "Python 3.10.2 64-bit",
   "language": "python",
   "name": "python3"
  },
  "language_info": {
   "codemirror_mode": {
    "name": "ipython",
    "version": 3
   },
   "file_extension": ".py",
   "mimetype": "text/x-python",
   "name": "python",
   "nbconvert_exporter": "python",
   "pygments_lexer": "ipython3",
   "version": "3.10.2"
  },
  "orig_nbformat": 4,
  "vscode": {
   "interpreter": {
    "hash": "86513fceec4b1f5160dbca1db624badbef388ffd18b5ac131aa3ada7f8095061"
   }
  }
 },
 "nbformat": 4,
 "nbformat_minor": 2
}
