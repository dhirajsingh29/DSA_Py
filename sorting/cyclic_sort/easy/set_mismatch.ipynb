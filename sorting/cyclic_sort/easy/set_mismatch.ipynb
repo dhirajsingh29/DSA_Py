{
 "cells": [
  {
   "cell_type": "markdown",
   "metadata": {},
   "source": [
    "[Leetcode - 645]\n",
    "You have a set of integers $s$, which originally contains all the numbers from $1$ to $n$. Unfortunately, due to some error, one of the numbers in $s$ got duplicated to another number in the set, which results in **repetition of one** number and **loss of another** number.\n",
    "\n",
    "You are given an integer array $nums$ representing the data status of this set after the error.\n",
    "\n",
    "Find the number that occurs twice and the number that is missing and *return them in the form of an array*.\n",
    "\n",
    "Example 1:\n",
    "> Input: nums = [1,2,2,4]  \n",
    "> Output: [2,3]\n",
    "\n",
    "Example 2:\n",
    "> Input: nums = [1,1]  \n",
    "> Output: [1,2]\n",
    "\n",
    "Constraints:\n",
    "> - $2 <= nums.length <= 10^{4}$\n",
    "> - $1 <= nums[i] <= 10^{4}$"
   ]
  },
  {
   "cell_type": "code",
   "execution_count": 8,
   "metadata": {},
   "outputs": [
    {
     "data": {
      "text/plain": [
       "[2, 1]"
      ]
     },
     "execution_count": 8,
     "metadata": {},
     "output_type": "execute_result"
    }
   ],
   "source": [
    "from typing import List\n",
    "\n",
    "def findMismatch(nums: List[int]) -> List[int]:\n",
    "    i = 0\n",
    "\n",
    "    while i < len(nums):\n",
    "        correctIndex = nums[i] - 1\n",
    "\n",
    "        if nums[i] != nums[correctIndex]:\n",
    "            temp = nums[correctIndex]\n",
    "            nums[correctIndex] = nums[i]\n",
    "            nums[i] = temp\n",
    "        else:\n",
    "            i += 1\n",
    "\n",
    "    for i in range(len(nums)):\n",
    "        if nums[i] != i + 1:\n",
    "            return [nums[i], i + 1]\n",
    "    \n",
    "    return [-1, -1]\n",
    "\n",
    "nums = [1,2,2,4]\n",
    "# nums = [1,1]\n",
    "# nums = [1,2,3,4]\n",
    "# nums = [2, 2]\n",
    "\n",
    "findMismatch(nums)"
   ]
  }
 ],
 "metadata": {
  "kernelspec": {
   "display_name": "Python 3.10.2 64-bit",
   "language": "python",
   "name": "python3"
  },
  "language_info": {
   "codemirror_mode": {
    "name": "ipython",
    "version": 3
   },
   "file_extension": ".py",
   "mimetype": "text/x-python",
   "name": "python",
   "nbconvert_exporter": "python",
   "pygments_lexer": "ipython3",
   "version": "3.10.2"
  },
  "orig_nbformat": 4,
  "vscode": {
   "interpreter": {
    "hash": "86513fceec4b1f5160dbca1db624badbef388ffd18b5ac131aa3ada7f8095061"
   }
  }
 },
 "nbformat": 4,
 "nbformat_minor": 2
}
