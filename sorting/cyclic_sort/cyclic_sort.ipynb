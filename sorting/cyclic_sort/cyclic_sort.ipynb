{
 "cells": [
  {
   "cell_type": "code",
   "execution_count": 6,
   "metadata": {},
   "outputs": [
    {
     "data": {
      "text/plain": [
       "[1, 2, 3, 4, 5]"
      ]
     },
     "execution_count": 6,
     "metadata": {},
     "output_type": "execute_result"
    }
   ],
   "source": [
    "from typing import List\n",
    "\n",
    "def cyclicSort(nums: List[int]) -> None:\n",
    "    \n",
    "    i = 0\n",
    "\n",
    "    while i < len(nums):\n",
    "        correctIndex = nums[i] - 1\n",
    "\n",
    "        if nums[i] != nums[correctIndex]:\n",
    "            temp = nums[correctIndex]\n",
    "            nums[correctIndex] = nums[i]\n",
    "            nums[i] = temp\n",
    "        else:\n",
    "            i += 1\n",
    "\n",
    "# nums = [3, 5, 2, 1, 4]\n",
    "# nums = [3, 5, 1, 2, 4]\n",
    "nums = [5, 4, 3, 2, 1]\n",
    "\n",
    "cyclicSort(nums)\n",
    "nums"
   ]
  }
 ],
 "metadata": {
  "kernelspec": {
   "display_name": "Python 3.10.2 64-bit",
   "language": "python",
   "name": "python3"
  },
  "language_info": {
   "codemirror_mode": {
    "name": "ipython",
    "version": 3
   },
   "file_extension": ".py",
   "mimetype": "text/x-python",
   "name": "python",
   "nbconvert_exporter": "python",
   "pygments_lexer": "ipython3",
   "version": "3.10.2"
  },
  "orig_nbformat": 4,
  "vscode": {
   "interpreter": {
    "hash": "86513fceec4b1f5160dbca1db624badbef388ffd18b5ac131aa3ada7f8095061"
   }
  }
 },
 "nbformat": 4,
 "nbformat_minor": 2
}
