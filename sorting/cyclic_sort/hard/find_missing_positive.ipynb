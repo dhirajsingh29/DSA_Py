{
 "cells": [
  {
   "cell_type": "markdown",
   "metadata": {},
   "source": [
    "[Leetcode - 41]  \n",
    "Given an unsorted integer array $nums$, return the smallest missing positive integer.\n",
    "\n",
    "You must implement an algorithm that runs in $O(n)$ time and uses constant extra space.\n",
    "\n",
    "Example 1:\n",
    "> Input: nums = [1,2,0]  \n",
    "> Output: 3  \n",
    "> Explanation: The numbers in the range [1,2] are all in the array.\n",
    "\n",
    "Example 2:\n",
    "> Input: nums = [3,4,-1,1]  \n",
    "> Output: 2  \n",
    "> Explanation: 1 is in the array but 2 is missing.\n",
    "\n",
    "Example 3:\n",
    "> Input: nums = [7,8,9,11,12]  \n",
    "> Output: 1  \n",
    "> Explanation: The smallest positive integer 1 is missing.\n",
    "\n",
    "Constraints:\n",
    "> - $1 <= nums.length <= 10^{5}$\n",
    "> - $-2^{31} <= nums[i] <= 2^{31} - 1$"
   ]
  },
  {
   "cell_type": "code",
   "execution_count": 6,
   "metadata": {},
   "outputs": [
    {
     "data": {
      "text/plain": [
       "1"
      ]
     },
     "execution_count": 6,
     "metadata": {},
     "output_type": "execute_result"
    }
   ],
   "source": [
    "from typing import List\n",
    "\n",
    "def firstMissingPositive(nums: List[int]) -> int:\n",
    "    i = 0\n",
    "\n",
    "    while i < len(nums):\n",
    "\n",
    "        correctIndex = nums[i] - 1\n",
    "\n",
    "        if nums[i] > 0 and nums[i] <= len(nums) and nums[i] != nums[correctIndex]:\n",
    "            temp = nums[correctIndex]\n",
    "            nums[correctIndex] = nums[i]\n",
    "            nums[i] = temp\n",
    "        else:\n",
    "            i += 1\n",
    "\n",
    "    for i in range(len(nums)):\n",
    "        if nums[i] != i + 1:\n",
    "            return i + 1\n",
    "\n",
    "    return len(nums) + 1 \n",
    "\n",
    "# nums = [1,2,0]\n",
    "# nums = [3,4,-1,1]\n",
    "nums = [7,8,9,11,12]\n",
    "\n",
    "firstMissingPositive(nums)"
   ]
  }
 ],
 "metadata": {
  "kernelspec": {
   "display_name": "Python 3.10.2 64-bit",
   "language": "python",
   "name": "python3"
  },
  "language_info": {
   "codemirror_mode": {
    "name": "ipython",
    "version": 3
   },
   "file_extension": ".py",
   "mimetype": "text/x-python",
   "name": "python",
   "nbconvert_exporter": "python",
   "pygments_lexer": "ipython3",
   "version": "3.10.2"
  },
  "orig_nbformat": 4,
  "vscode": {
   "interpreter": {
    "hash": "86513fceec4b1f5160dbca1db624badbef388ffd18b5ac131aa3ada7f8095061"
   }
  }
 },
 "nbformat": 4,
 "nbformat_minor": 2
}
