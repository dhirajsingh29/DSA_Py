{
 "cells": [
  {
   "cell_type": "code",
   "execution_count": 4,
   "metadata": {},
   "outputs": [
    {
     "data": {
      "text/plain": [
       "[]"
      ]
     },
     "execution_count": 4,
     "metadata": {},
     "output_type": "execute_result"
    }
   ],
   "source": [
    "from typing import List\n",
    "\n",
    "def selectionSort(nums: List[int]) -> None:\n",
    "\n",
    "    for i in range(len(nums)):\n",
    "        # find the max item in the remaining array and swap with correct index\n",
    "        lastIndexOfPass = len(nums) - i - 1\n",
    "        maxIndex = getMaxIndex(nums, 0, lastIndexOfPass)\n",
    "\n",
    "        temp = nums[maxIndex]\n",
    "        nums[maxIndex] = nums[lastIndexOfPass]\n",
    "        nums[lastIndexOfPass] = temp\n",
    "\n",
    "def getMaxIndex(nums: List[int], start: int, end: int):\n",
    "    max = start\n",
    "    for i in range(start, end + 1):\n",
    "        if nums[max] < nums[i]:\n",
    "            max = i\n",
    "    return max\n",
    "\n",
    "# nums = [4, 5, 1, 2, 3]\n",
    "# nums = [4]\n",
    "nums = [-1, 5, -4, 2, 3, -10]\n",
    "# nums = []\n",
    "\n",
    "selectionSort(nums)\n",
    "nums"
   ]
  }
 ],
 "metadata": {
  "kernelspec": {
   "display_name": "Python 3.10.2 64-bit",
   "language": "python",
   "name": "python3"
  },
  "language_info": {
   "codemirror_mode": {
    "name": "ipython",
    "version": 3
   },
   "file_extension": ".py",
   "mimetype": "text/x-python",
   "name": "python",
   "nbconvert_exporter": "python",
   "pygments_lexer": "ipython3",
   "version": "3.10.2"
  },
  "orig_nbformat": 4,
  "vscode": {
   "interpreter": {
    "hash": "86513fceec4b1f5160dbca1db624badbef388ffd18b5ac131aa3ada7f8095061"
   }
  }
 },
 "nbformat": 4,
 "nbformat_minor": 2
}
