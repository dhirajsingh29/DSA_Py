{
 "cells": [
  {
   "cell_type": "code",
   "execution_count": 6,
   "metadata": {},
   "outputs": [
    {
     "data": {
      "text/plain": [
       "[]"
      ]
     },
     "execution_count": 6,
     "metadata": {},
     "output_type": "execute_result"
    }
   ],
   "source": [
    "from typing import List\n",
    "\n",
    "def insertionSort(nums: List[int]) -> None:\n",
    "    \n",
    "    for i in range(0, len(nums)- 1):\n",
    "\n",
    "        for j in range (i + 1, 0, -1):\n",
    "\n",
    "            if nums[j] < nums[j - 1]:\n",
    "                temp = nums[j]\n",
    "                nums[j] = nums[j - 1]\n",
    "                nums[j - 1] = temp\n",
    "            else:\n",
    "                break\n",
    "\n",
    "# nums = [5, 3, 4, 1, 2]\n",
    "nums = [5, 3, -4, 1, -2]\n",
    "# nums = [5]\n",
    "# nums = []\n",
    "\n",
    "insertionSort(nums)\n",
    "nums"
   ]
  }
 ],
 "metadata": {
  "kernelspec": {
   "display_name": "Python 3.10.2 64-bit",
   "language": "python",
   "name": "python3"
  },
  "language_info": {
   "codemirror_mode": {
    "name": "ipython",
    "version": 3
   },
   "file_extension": ".py",
   "mimetype": "text/x-python",
   "name": "python",
   "nbconvert_exporter": "python",
   "pygments_lexer": "ipython3",
   "version": "3.10.2"
  },
  "orig_nbformat": 4,
  "vscode": {
   "interpreter": {
    "hash": "86513fceec4b1f5160dbca1db624badbef388ffd18b5ac131aa3ada7f8095061"
   }
  }
 },
 "nbformat": 4,
 "nbformat_minor": 2
}
