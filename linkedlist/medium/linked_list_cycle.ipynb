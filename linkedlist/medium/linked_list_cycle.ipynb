{
 "cells": [
  {
   "cell_type": "markdown",
   "metadata": {},
   "source": [
    "[Leetcode - 142]  \n",
    "Given the head of a linked list, return the node where the cycle begins. If there is no cycle, return null.  \n",
    "\n",
    "There is a cycle in a linked list if there is some node in the list that can be reached again by continuously following the next pointer. Internally, pos is used to denote the index of the node that tail's next pointer is connected to (0-indexed). It is -1 if there is no cycle. Note that pos is not passed as a parameter.  \n",
    "\n",
    "Do not modify the linked list.\n",
    "\n",
    "Example 1:  \n",
    "> Input: head = [3,2,0,-4], pos = 1  \n",
    "> Output: tail connects to node index 1  \n",
    "> Explanation: There is a cycle in the linked list, where tail connects to the second node.  \n",
    "\n",
    "Example 2:  \n",
    "> Input: head = [1,2], pos = 0  \n",
    "> Output: tail connects to node index 0  \n",
    "> Explanation: There is a cycle in the linked list, where tail connects to the first node.  \n",
    "\n",
    "Example 3:  \n",
    "> Input: head = [1], pos = -1  \n",
    "> Output: no cycle  \n",
    "> Explanation: There is no cycle in the linked list.  \n",
    "\n",
    "Constraints:  \n",
    "> - The number of the nodes in the list is in the range [0, 104].  \n",
    "> - -105 <= Node.val <= 105  \n",
    "> - pos is -1 or a valid index in the linked-list."
   ]
  },
  {
   "cell_type": "code",
   "execution_count": 1,
   "metadata": {},
   "outputs": [],
   "source": [
    "from sys import path as syspath\n",
    "from os import path as ospath\n",
    "\n",
    "module_path = ospath.abspath(ospath.join('..'))\n",
    "syspath.insert(0, module_path)\n",
    "\n",
    "from linked_list import Node, SingleLinkedList\n",
    "from typing import Optional"
   ]
  },
  {
   "cell_type": "code",
   "execution_count": 2,
   "metadata": {},
   "outputs": [],
   "source": [
    "class LinkedList(SingleLinkedList):\n",
    "\n",
    "    def detect_cycle(self, head: Optional[Node]) -> Optional[Node]:\n",
    "        slow = fast = head\n",
    "\n",
    "        while fast and fast.next:\n",
    "            slow = slow.next\n",
    "            fast = fast.next.next\n",
    "\n",
    "            if slow == fast:\n",
    "                fast = head\n",
    "                break\n",
    "\n",
    "        if fast is None or fast.next is None:\n",
    "            return None\n",
    "\n",
    "        while fast != slow:\n",
    "            fast = fast.next\n",
    "            slow = slow.next\n",
    "\n",
    "        return fast"
   ]
  },
  {
   "cell_type": "code",
   "execution_count": 7,
   "metadata": {},
   "outputs": [
    {
     "name": "stdout",
     "output_type": "stream",
     "text": [
      "3\n"
     ]
    }
   ],
   "source": [
    "head = None\n",
    "\n",
    "single_linked_list = LinkedList()\n",
    "\n",
    "#Example 1\n",
    "# head = single_linked_list.insert_node_at_tail(head, 3)\n",
    "# head = single_linked_list.insert_node_at_tail(head, 2)\n",
    "# head = single_linked_list.insert_node_at_tail(head, 0)\n",
    "# head = single_linked_list.insert_node_at_tail(head, -4)\n",
    "# head = single_linked_list.insert_cycle(head, 1)\n",
    "\n",
    "#Example 2\n",
    "head = single_linked_list.insert_node_at_tail(head, 1)\n",
    "head = single_linked_list.insert_node_at_tail(head, 2)\n",
    "head = single_linked_list.insert_node_at_tail(head, 3)\n",
    "head = single_linked_list.insert_node_at_tail(head, 4)\n",
    "head = single_linked_list.insert_node_at_tail(head, 5)\n",
    "head = single_linked_list.insert_node_at_tail(head, 6)\n",
    "head = single_linked_list.insert_node_at_tail(head, 7)\n",
    "head = single_linked_list.insert_cycle(head, 2)\n",
    "\n",
    "\n",
    "node = single_linked_list.detect_cycle(head)\n",
    "\n",
    "if node:\n",
    "    print(node.val)\n",
    "else:\n",
    "    print(None)"
   ]
  }
 ],
 "metadata": {
  "kernelspec": {
   "display_name": "Python 3.10.2 64-bit",
   "language": "python",
   "name": "python3"
  },
  "language_info": {
   "codemirror_mode": {
    "name": "ipython",
    "version": 3
   },
   "file_extension": ".py",
   "mimetype": "text/x-python",
   "name": "python",
   "nbconvert_exporter": "python",
   "pygments_lexer": "ipython3",
   "version": "3.10.2"
  },
  "orig_nbformat": 4,
  "vscode": {
   "interpreter": {
    "hash": "86513fceec4b1f5160dbca1db624badbef388ffd18b5ac131aa3ada7f8095061"
   }
  }
 },
 "nbformat": 4,
 "nbformat_minor": 2
}
