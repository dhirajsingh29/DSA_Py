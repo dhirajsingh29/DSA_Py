{
 "cells": [
  {
   "cell_type": "markdown",
   "metadata": {},
   "source": [
    "[Leetcode - 83]  \n",
    "Given the head of a sorted linked list, delete all duplicates such that each element appears only once. Return the linked list sorted as well.  \n",
    "\n",
    "Example 1:  \n",
    "> Input: head = [1,1,2]  \n",
    "> Output: [1,2]  \n",
    "\n",
    "Example 2:  \n",
    "> Input: head = [1,1,2,3,3]  \n",
    "> Output: [1,2,3]  \n",
    "\n",
    "Constraints:  \n",
    "> - The number of nodes in the list is in the range [0, 300].  \n",
    "> - -100 <= Node.val <= 100  \n",
    "> - The list is guaranteed to be sorted in ascending order."
   ]
  },
  {
   "cell_type": "code",
   "execution_count": 1,
   "metadata": {},
   "outputs": [],
   "source": [
    "from sys import path as syspath\n",
    "from os import path as ospath\n",
    "\n",
    "module_path = ospath.abspath(ospath.join('..'))\n",
    "syspath.insert(0, module_path)"
   ]
  },
  {
   "cell_type": "code",
   "execution_count": 4,
   "metadata": {},
   "outputs": [],
   "source": [
    "from linked_list import Node, SingleLinkedList\n",
    "from typing import Optional\n",
    "\n",
    "class LinkedList(SingleLinkedList):\n",
    "\n",
    "    def delete_duplicates(self, head: Optional[Node]) -> Optional[Node]:\n",
    "\n",
    "        if head is None:\n",
    "            return head\n",
    "\n",
    "        prev = head\n",
    "        cur = head.next\n",
    "\n",
    "        while cur.next is not None:\n",
    "            if prev.val == cur.val:\n",
    "                prev.next = cur.next\n",
    "                prev = prev.next\n",
    "                cur.next = None\n",
    "                cur = prev.next\n",
    "            else:\n",
    "                prev = cur\n",
    "                cur = cur.next\n",
    "\n",
    "        if prev.val == cur.val:\n",
    "            prev.next = None\n",
    "\n",
    "        return head"
   ]
  },
  {
   "cell_type": "code",
   "execution_count": 5,
   "metadata": {},
   "outputs": [
    {
     "name": "stdout",
     "output_type": "stream",
     "text": [
      "1 2 3 "
     ]
    }
   ],
   "source": [
    "head = None\n",
    "\n",
    "linked_list = LinkedList()\n",
    "\n",
    "head = linked_list.insert_node_at_tail(head, 1)\n",
    "head = linked_list.insert_node_at_tail(head, 1)\n",
    "head = linked_list.insert_node_at_tail(head, 2)\n",
    "head = linked_list.insert_node_at_tail(head, 3)\n",
    "head = linked_list.insert_node_at_tail(head, 3)\n",
    "\n",
    "linked_list.delete_duplicates(head)\n",
    "\n",
    "linked_list.display(head)"
   ]
  }
 ],
 "metadata": {
  "kernelspec": {
   "display_name": "Python 3.10.2 64-bit",
   "language": "python",
   "name": "python3"
  },
  "language_info": {
   "codemirror_mode": {
    "name": "ipython",
    "version": 3
   },
   "file_extension": ".py",
   "mimetype": "text/x-python",
   "name": "python",
   "nbconvert_exporter": "python",
   "pygments_lexer": "ipython3",
   "version": "3.10.2"
  },
  "orig_nbformat": 4,
  "vscode": {
   "interpreter": {
    "hash": "86513fceec4b1f5160dbca1db624badbef388ffd18b5ac131aa3ada7f8095061"
   }
  }
 },
 "nbformat": 4,
 "nbformat_minor": 2
}
