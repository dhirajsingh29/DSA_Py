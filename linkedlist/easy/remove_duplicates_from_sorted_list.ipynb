{
 "cells": [
  {
   "cell_type": "markdown",
   "metadata": {},
   "source": [
    "[Leetcode - 83]  \n",
    "Given the head of a sorted linked list, delete all duplicates such that each element appears only once. Return the linked list sorted as well.  \n",
    "\n",
    "Example 1:  \n",
    "> Input: head = [1,1,2]  \n",
    "> Output: [1,2]  \n",
    "\n",
    "Example 2:  \n",
    "> Input: head = [1,1,2,3,3]  \n",
    "> Output: [1,2,3]  \n",
    "\n",
    "Constraints:  \n",
    "> - The number of nodes in the list is in the range [0, 300].  \n",
    "> - -100 <= Node.val <= 100  \n",
    "> - The list is guaranteed to be sorted in ascending order."
   ]
  },
  {
   "cell_type": "code",
   "execution_count": 16,
   "metadata": {},
   "outputs": [],
   "source": [
    "from sys import path as syspath\n",
    "from os import path as ospath\n",
    "\n",
    "module_path = ospath.abspath(ospath.join('..'))\n",
    "syspath.insert(0, module_path)\n",
    "\n",
    "from linked_list import Node, SingleLinkedList\n",
    "from typing import Optional"
   ]
  },
  {
   "cell_type": "code",
   "execution_count": 19,
   "metadata": {},
   "outputs": [],
   "source": [
    "class LinkedList(SingleLinkedList):\n",
    "\n",
    "    def delete_duplicates(self, head: Optional[Node]) -> Optional[Node]:\n",
    "\n",
    "        if head is None:\n",
    "            return head\n",
    "\n",
    "        prev = head\n",
    "        cur = head.next\n",
    "\n",
    "        while cur is not None and cur.next is not None:\n",
    "            if prev.val == cur.val:\n",
    "                cur = cur.next\n",
    "            else:\n",
    "                prev.next = cur\n",
    "                prev = cur\n",
    "                cur = cur.next\n",
    "\n",
    "        if cur is not None:\n",
    "            if prev.val == cur.val:\n",
    "                prev.next = None\n",
    "            else:\n",
    "                prev.next = cur\n",
    "\n",
    "        return head\n",
    "\n",
    "    def delete_duplicates_2(self, head: Optional[Node]) -> Optional[Node]:\n",
    "\n",
    "        cur = head\n",
    "\n",
    "        while cur:\n",
    "            if cur.next is not None and cur.val == cur.next.val:\n",
    "                cur.next = cur.next.next\n",
    "            else:\n",
    "                cur = cur.next\n",
    "\n",
    "        return head"
   ]
  },
  {
   "cell_type": "code",
   "execution_count": 27,
   "metadata": {},
   "outputs": [
    {
     "name": "stdout",
     "output_type": "stream",
     "text": [
      "1 2 "
     ]
    }
   ],
   "source": [
    "head = None\n",
    "\n",
    "linked_list = LinkedList()\n",
    "\n",
    "head = linked_list.insert_node_at_tail(head, 1)\n",
    "head = linked_list.insert_node_at_tail(head, 1)\n",
    "head = linked_list.insert_node_at_tail(head, 1)\n",
    "head = linked_list.insert_node_at_tail(head, 2)\n",
    "head = linked_list.insert_node_at_tail(head, 3)\n",
    "head = linked_list.insert_node_at_tail(head, 3)\n",
    "\n",
    "# linked_list.delete_duplicates(head)\n",
    "\n",
    "linked_list.delete_duplicates_2(head)\n",
    "\n",
    "linked_list.display(head)"
   ]
  }
 ],
 "metadata": {
  "kernelspec": {
   "display_name": "Python 3.10.2 64-bit",
   "language": "python",
   "name": "python3"
  },
  "language_info": {
   "codemirror_mode": {
    "name": "ipython",
    "version": 3
   },
   "file_extension": ".py",
   "mimetype": "text/x-python",
   "name": "python",
   "nbconvert_exporter": "python",
   "pygments_lexer": "ipython3",
   "version": "3.10.2"
  },
  "orig_nbformat": 4,
  "vscode": {
   "interpreter": {
    "hash": "86513fceec4b1f5160dbca1db624badbef388ffd18b5ac131aa3ada7f8095061"
   }
  }
 },
 "nbformat": 4,
 "nbformat_minor": 2
}
