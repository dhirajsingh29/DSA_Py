{
 "cells": [
  {
   "cell_type": "markdown",
   "metadata": {},
   "source": [
    "[Leetcode - 21]  \n",
    "You are given the heads of two sorted linked lists list1 and list2.  \n",
    "Merge the two lists in a one sorted list. The list should be made by splicing together the nodes of the first two lists.  \n",
    "Return the head of the merged linked list.  \n",
    "\n",
    "Example 1:  \n",
    "> Input: list1 = [1,2,4], list2 = [1,3,4]  \n",
    "> Output: [1,1,2,3,4,4]  \n",
    "\n",
    "Example 2:  \n",
    "> Input: list1 = [], list2 = []  \n",
    "> Output: []  \n",
    "\n",
    "Example 3:  \n",
    "> Input: list1 = [], list2 = [0]  \n",
    "> Output: [0]  \n",
    "\n",
    "Constraints:  \n",
    "> - The number of nodes in both lists is in the range [0, 50].  \n",
    "> - -100 <= Node.val <= 100  \n",
    "> - Both list1 and list2 are sorted in non-decreasing order.\n"
   ]
  },
  {
   "cell_type": "code",
   "execution_count": 3,
   "metadata": {},
   "outputs": [],
   "source": [
    "import sys\n",
    "import os\n",
    "\n",
    "module_path = os.path.abspath(os.path.join('..'))\n",
    "sys.path.insert(0, module_path)"
   ]
  },
  {
   "cell_type": "code",
   "execution_count": 4,
   "metadata": {},
   "outputs": [],
   "source": [
    "from linked_list import Node, SingleLinkedList\n",
    "from typing import Optional\n",
    "\n",
    "class LinkedList(SingleLinkedList):\n",
    "\n",
    "    def merge(self, list_1: Optional[Node], list_2: Optional[Node]) -> Optional[Node]:\n",
    "\n",
    "        merged_list = Node(-1)\n",
    "        temp = merged_list\n",
    "\n",
    "        if list_1 is None:\n",
    "            return list_2\n",
    "\n",
    "        if list_2 is None:\n",
    "            return list_1\n",
    "\n",
    "        while (list_1 is not None and list_2 is not None):\n",
    "            if list_1.val < list_2.val:\n",
    "                temp.next = list_1\n",
    "                list_1 = list_1.next\n",
    "            else:\n",
    "                temp.next = list_2\n",
    "                list_2 = list_2.next\n",
    "\n",
    "            temp = temp.next\n",
    "\n",
    "        if list_1 is not None:\n",
    "            temp.next = list_1\n",
    "        else:\n",
    "            temp.next = list_2\n",
    "\n",
    "        return merged_list.next"
   ]
  },
  {
   "cell_type": "code",
   "execution_count": 5,
   "metadata": {},
   "outputs": [
    {
     "name": "stdout",
     "output_type": "stream",
     "text": [
      "List is empty\n"
     ]
    }
   ],
   "source": [
    "list_1 = None\n",
    "list_2 = None\n",
    "\n",
    "linked_list = LinkedList()\n",
    "\n",
    "list_1 = linked_list.insert_node_at_tail(list_1, 1)\n",
    "list_1 = linked_list.insert_node_at_tail(list_1, 2)\n",
    "list_1 = linked_list.insert_node_at_tail(list_1, 4)\n",
    "\n",
    "list_2 = linked_list.insert_node_at_tail(list_2, 1)\n",
    "list_2 = linked_list.insert_node_at_tail(list_2, 3)\n",
    "list_2 = linked_list.insert_node_at_tail(list_2, 4)\n",
    "\n",
    "merged_list = linked_list.merge(list_1, list_2)\n",
    "\n",
    "linked_list.display(merged_list)"
   ]
  }
 ],
 "metadata": {
  "kernelspec": {
   "display_name": "Python 3.10.2 64-bit",
   "language": "python",
   "name": "python3"
  },
  "language_info": {
   "codemirror_mode": {
    "name": "ipython",
    "version": 3
   },
   "file_extension": ".py",
   "mimetype": "text/x-python",
   "name": "python",
   "nbconvert_exporter": "python",
   "pygments_lexer": "ipython3",
   "version": "3.10.2"
  },
  "orig_nbformat": 4,
  "vscode": {
   "interpreter": {
    "hash": "86513fceec4b1f5160dbca1db624badbef388ffd18b5ac131aa3ada7f8095061"
   }
  }
 },
 "nbformat": 4,
 "nbformat_minor": 2
}
