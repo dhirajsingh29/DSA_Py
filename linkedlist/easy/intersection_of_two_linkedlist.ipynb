{
 "cells": [
  {
   "cell_type": "markdown",
   "metadata": {},
   "source": [
    "[Leetcode - 160]  \n",
    "Given the heads of two singly linked-lists headA and headB, return the node at which the two lists intersect. If the two linked lists have no intersection at all, return null.\n",
    "\n",
    "**Note** that the linked lists must retain their original structure after the function returns.\n",
    "\n",
    "Example 1:\n",
    "> Input: listA = [4,1,8,4,5], listB = [5,6,1,8,4,5]\n",
    "> Output: Intersect att node with value 8\n",
    "\n",
    "Constraints:\n",
    "> - The number of nodes of listA is in the m.\n",
    "> - The number of nodes of listB is in the n.\n",
    "> - 1 <= m, n <= 3 * 104\n",
    "> - 1 <= Node.val <= 105"
   ]
  },
  {
   "cell_type": "code",
   "execution_count": 1,
   "metadata": {},
   "outputs": [],
   "source": [
    "from sys import path as syspath\n",
    "from os import path as ospath\n",
    "\n",
    "module_path = ospath.abspath(ospath.join('..'))\n",
    "syspath.insert(0, module_path)\n",
    "\n",
    "from linked_list import Node, SingleLinkedList\n",
    "from typing import Optional"
   ]
  },
  {
   "cell_type": "code",
   "execution_count": 2,
   "metadata": {},
   "outputs": [],
   "source": [
    "class LinkedList(SingleLinkedList):\n",
    "\n",
    "    def get_intersection_node(self, headA: Node, headB: Node) -> Optional[Node]:\n",
    "        cur_A = headA\n",
    "        cur_B = headB\n",
    "\n",
    "        length_a = self.length(headA)\n",
    "        length_b = self.length(headB)\n",
    "\n",
    "        length_diff = length_a - length_b\n",
    "\n",
    "        if length_diff < 0:\n",
    "            for i in range(abs(length_diff)):\n",
    "                cur_B = cur_B.next\n",
    "        elif length_diff > 0:\n",
    "            for i in range(length_diff):\n",
    "                cur_A = cur_A.next\n",
    "\n",
    "        while cur_A and cur_B and cur_A != cur_B:\n",
    "            cur_A = cur_A.next\n",
    "            cur_B = cur_B.next\n",
    "\n",
    "        if cur_A is not None and cur_B is not None:\n",
    "            return cur_A\n",
    "        else:\n",
    "            return None\n",
    "\n",
    "    def get_intersection_node_2(self, headA: Node, headB: Node) -> Optional[Node]:\n",
    "        cur_A = headA\n",
    "        cur_B = headB\n",
    "\n",
    "        while cur_A != cur_B:\n",
    "\n",
    "            if not cur_A:\n",
    "                cur_A = headB\n",
    "            else:\n",
    "                cur_A = cur_A.next\n",
    "\n",
    "            if not cur_B:\n",
    "                cur_B = headA\n",
    "            else:\n",
    "                cur_B = cur_B.next\n",
    "\n",
    "        return cur_A\n"
   ]
  },
  {
   "cell_type": "markdown",
   "metadata": {},
   "source": [
    "**Complexity Analysis**\n",
    "\n",
    "> Time Complexity: O(m + n)\n",
    "\n",
    "> Space Complexity: O(1)"
   ]
  },
  {
   "cell_type": "code",
   "execution_count": 7,
   "metadata": {},
   "outputs": [
    {
     "name": "stdout",
     "output_type": "stream",
     "text": [
      "None\n"
     ]
    }
   ],
   "source": [
    "headA = None\n",
    "headB = None\n",
    "headC = None\n",
    "\n",
    "single_linked_list = LinkedList()\n",
    "\n",
    "#Example 1 : intersection at node with value 8 from headC\n",
    "headA = single_linked_list.insert_node_at_tail(headA, 4)\n",
    "headA = single_linked_list.insert_node_at_tail(headA, 1)\n",
    "\n",
    "headB = single_linked_list.insert_node_at_tail(headB, 5)\n",
    "headB = single_linked_list.insert_node_at_tail(headB, 6)\n",
    "headB = single_linked_list.insert_node_at_tail(headB, 1)\n",
    "\n",
    "headC = single_linked_list.insert_node_at_tail(headC, 8)\n",
    "headC = single_linked_list.insert_node_at_tail(headC, 4)\n",
    "headC = single_linked_list.insert_node_at_tail(headC, 5)\n",
    "\n",
    "headA, headB = single_linked_list.create_intersection(headA, headB, headC)\n",
    "\n",
    "#Example 2 : intersection at node with value 2 from headC\n",
    "# headA = single_linked_list.insert_node_at_tail(headA, 1)\n",
    "# headA = single_linked_list.insert_node_at_tail(headA, 9)\n",
    "# headA = single_linked_list.insert_node_at_tail(headA, 1)\n",
    "\n",
    "# headB = single_linked_list.insert_node_at_tail(headB, 3)\n",
    "\n",
    "# headC = single_linked_list.insert_node_at_tail(headC, 2)\n",
    "# headC = single_linked_list.insert_node_at_tail(headC, 4)\n",
    "\n",
    "# headA, headB = single_linked_list.create_intersection(headA, headB, headC)\n",
    "\n",
    "#Example 3: no intersection\n",
    "# headA = single_linked_list.insert_node_at_tail(headA, 2)\n",
    "# headA = single_linked_list.insert_node_at_tail(headA, 6)\n",
    "# headA = single_linked_list.insert_node_at_tail(headA, 4)\n",
    "\n",
    "# headB = single_linked_list.insert_node_at_tail(headB, 1)\n",
    "# headB = single_linked_list.insert_node_at_tail(headB, 5)\n",
    "\n",
    "#Example 4: intersection | single and same node\n",
    "# headA = single_linked_list.insert_node_at_tail(headA, 2)\n",
    "\n",
    "# headB = headA\n",
    "\n",
    "node = single_linked_list.get_intersection_node_2(headA, headB)\n",
    "\n",
    "if node:\n",
    "    print(node.val)\n",
    "else:\n",
    "    print(None)"
   ]
  }
 ],
 "metadata": {
  "kernelspec": {
   "display_name": "Python 3.10.2 64-bit",
   "language": "python",
   "name": "python3"
  },
  "language_info": {
   "codemirror_mode": {
    "name": "ipython",
    "version": 3
   },
   "file_extension": ".py",
   "mimetype": "text/x-python",
   "name": "python",
   "nbconvert_exporter": "python",
   "pygments_lexer": "ipython3",
   "version": "3.10.2"
  },
  "orig_nbformat": 4,
  "vscode": {
   "interpreter": {
    "hash": "86513fceec4b1f5160dbca1db624badbef388ffd18b5ac131aa3ada7f8095061"
   }
  }
 },
 "nbformat": 4,
 "nbformat_minor": 2
}
